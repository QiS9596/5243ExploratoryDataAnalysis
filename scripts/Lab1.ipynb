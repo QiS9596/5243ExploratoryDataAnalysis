{
 "cells": [
  {
   "cell_type": "code",
   "execution_count": 138,
   "metadata": {
    "pycharm": {
     "is_executing": false
    }
   },
   "outputs": [],
   "source": [
    "import pathlib\n",
    "import urllib\n",
    "import sys\n",
    "import pandas as pd\n",
    "import numpy as np\n",
    "from scipy.stats import trim_mean, iqr, skew, kurtosis\n",
    "import sklearn.decomposition as deco\n",
    "from sklearn.svm import LinearSVC\n",
    "from sklearn.ensemble import RandomForestClassifier\n",
    "import matplotlib.pyplot as plt\n",
    "from mpl_toolkits.mplot3d import Axes3D\n",
    "import seaborn as sns"
   ]
  },
  {
   "cell_type": "markdown",
   "metadata": {
    "pycharm": {
     "name": "#%% md\n"
    }
   },
   "source": [
    "# 1. Get the data"
   ]
  },
  {
   "cell_type": "code",
   "execution_count": 139,
   "metadata": {
    "pycharm": {
     "is_executing": false
    }
   },
   "outputs": [
    {
     "name": "stdout",
     "output_type": "stream",
     "text": [
      "adult dataset found!\n"
     ]
    }
   ],
   "source": [
    "path = pathlib.Path('../data/adult.csv')\n",
    "if path.exists():\n",
    "    print('adult dataset found!')\n",
    "else:\n",
    "    sys.stdout.write('Downloading the adult dataset from the Internet...')\n",
    "    ADULTURL = \"https://archive.ics.uci.edu/ml/machine-learning-databases/adult/adult.data\"\n",
    "    urllib.request.urlretrieve(ADULTURL, path.absolute())\n",
    "    sys.stdout.write('Done!')"
   ]
  },
  {
   "cell_type": "markdown",
   "metadata": {
    "pycharm": {
     "name": "#%% md\n"
    }
   },
   "source": [
    "# 2. Understand the data in context\n"
   ]
  },
  {
   "cell_type": "code",
   "execution_count": 140,
   "metadata": {
    "pycharm": {
     "is_executing": false
    }
   },
   "outputs": [],
   "source": [
    "# Load the adult dataset into a Pandas dataframe\n",
    "adult_columns = ['age', 'workclass', 'fnlwgt', 'education', 'education-num', 'marital-status', 'occupation', 'relationship', 'race', 'sex', 'capital-gain', 'capital-loss', 'hours-per-week', 'native-country', 'income']\n",
    "adult = pd.read_csv(path.absolute(),names=adult_columns)"
   ]
  },
  {
   "cell_type": "markdown",
   "metadata": {
    "pycharm": {
     "name": "#%% md\n"
    }
   },
   "source": [
    "# 3. Understand the data\n",
    "### 3.1 Describe the meansing and type for each attribute\n",
    " - **age**: numeric, continuous. \n",
    " - **workclass**: categorical, discrete.\n",
    " - **fnlwgt**: numeric, continuous\n",
    " - **education**: ordinal, discrete\n",
    " - **education-num**: numeric, continuous\n",
    " - **marital-status**: categorical, discrete\n",
    " - **occupation**: categorical, discrete\n",
    " - **relationship**: categorical, discrete\n",
    " - **race**: categorical, discrete\n",
    " - **sex**: categorical, binary\n",
    " - **capital-gain**: numeric, continuous\n",
    " - **capital-loss**: numeric, continuous\n",
    " - **hours-per-week**: numeric, continuous\n",
    " - **native-country**: categorical, discrete\n",
    " - **>50k**: categorical, binary\n",
    "\n",
    "*3.1 subsection: explanation for non-self-explanatory attributes*\n",
    " - **fnlwgt**: represents final weight. according to [2], it's the number of units that this record could represent in the \n",
    " target population. In [1], the author explained that the final weight is controlled by three factors: a single cell estimatation\n",
    " of the population 16+ for each state; controls for Hispanic Origin by age and sex; controls by race, age and sex.\n",
    " - **education_num**: represents the number of years of education in total.[2]\n",
    " - **relationship**: represents the individual's role in it's family.[2]\n",
    " - **capital_gain** and **capital_loss**: represents the income and loss from non-salary ways, e.g. investment.[2]\n",
    " - **education**: due to lack of domain knowledge in U.S. education system, we decided to refer to [3].\n",
    " In which they order the education level in the following manner:  \n",
    " Preschool < 1st-4th < 5th-6th < 7th-8th < 9th < 10th < 11th < 12th < HS-grad < Prof-school < Assoc-acdm < Assoc-voc < Some-college < Bachelors < Masters < Doctorate.  \n",
    " [3] further merges  \"Preschool\", \"1st-4th\", \"5th-6th\", \"7th-8th\", \"9th\", \"10th\", \"11th\" and \"12th\" groups to \"dropout\" group,\n",
    " \"Assoc-acdm\" and \"Assoc-voc\" groups to \"Associates\" group,“HS-grad” and “Some-college” groups to “HS-Graduate” group.  \n",
    " For us, we would adopt this strategy, merging Prof-school into HS-Graduate group, and instead of arranging the education\n",
    " level like shown above, we have the following order:  \n",
    " dropout < hs-graduate < associates < bachelor < master < doctorate.\n",
    " \n",
    "### 3.2 Verify data quality\n",
    "#### 3.2.1 duplication"
   ]
  },
  {
   "cell_type": "code",
   "execution_count": 141,
   "metadata": {
    "pycharm": {
     "is_executing": false,
     "name": "#%%\n"
    }
   },
   "outputs": [
    {
     "name": "stdout",
     "output_type": "stream",
     "text": [
      "There are 24 duplicated data entries found.(One copy of the data entry will be kept in the dataset)\n",
      "After drop duplicate, there are 32537 data entries remains.\n"
     ]
    }
   ],
   "source": [
    "# Check duplication and drop duplication via pandas built in function\n",
    "check_duplication = adult.duplicated()\n",
    "duplicated = adult[check_duplication]\n",
    "print(\"There are \"+str(len(duplicated.index))+\" duplicated data entries found.(One copy of the data entry will be kept in the dataset)\")\n",
    "adult = adult.drop_duplicates()\n",
    "print(\"After drop duplicate, there are \"+str(len(adult.index))+ \" data entries remains.\")\n",
    "adult = adult.reset_index(drop=True)"
   ]
  },
  {
   "cell_type": "markdown",
   "metadata": {
    "pycharm": {
     "name": "#%% md\n"
    }
   },
   "source": [
    "#### 3.2.2 missing values"
   ]
  },
  {
   "cell_type": "code",
   "execution_count": 142,
   "metadata": {
    "pycharm": {
     "is_executing": false
    }
   },
   "outputs": [
    {
     "name": "stdout",
     "output_type": "stream",
     "text": [
      "After drop the missing values, there are 30139 data entries remains.\n"
     ]
    }
   ],
   "source": [
    "# drop the indexes for which column has value '?'\n",
    "unknown_row =[]\n",
    "\n",
    "for i in range(len(adult.index)):\n",
    "    if ('?' in adult.iloc[i]['workclass']) or ('?' in adult.iloc[i]['occupation']) or ('?' in adult.iloc[i]['native-country']):\n",
    "        unknown_row.append(i)\n",
    "adult = adult.drop(index = unknown_row)\n",
    "adult = adult.reset_index(drop=True)\n",
    "print(\"After drop the missing values, there are \"+str(len(adult.index))+ \" data entries remains.\")"
   ]
  },
  {
   "cell_type": "markdown",
   "metadata": {},
   "source": [
    "#### 3.2.3 finding outliers\n",
    "\n",
    "To find outlier, we only focus on numeric values\n",
    "As we can see in the following, the calculated lower bound and upper bound for both capital_gain and capital loss is both 0. In 3.3 section we will see that the median for these two value are 0 either. Which means in this dataset most of the people\n",
    "doesn't do investment and thus investment does not incur gain or loss to their income. So for this two attribute we just\n",
    "don't do anything to the outliers"
   ]
  },
  {
   "cell_type": "code",
   "execution_count": 143,
   "metadata": {
    "pycharm": {
     "is_executing": false,
     "name": "#%%\n"
    }
   },
   "outputs": [
    {
     "name": "stdout",
     "output_type": "stream",
     "text": [
      "By calculating interquantile range, we can get the expected lower/upper bound for each numeric value\n",
      "As explained before we drop the catipal-gain and capital-loss condition, and thus we have\n",
      "lower bound as:\n",
      "age                  -0.5\n",
      "fnlwgt           -62338.0\n",
      "education-num         3.0\n",
      "hours-per-week       32.5\n",
      "dtype: float64\n",
      "and upper bound as:\n",
      "age                   75.5\n",
      "fnlwgt            417570.0\n",
      "education-num         19.0\n",
      "hours-per-week        52.5\n",
      "dtype: float64\n",
      "After reviewing this calculated lower and upper bound, we decided to change some of the value. Since the result\n",
      "value would be an outlier according to the interquantile range, but still a reasonable value in reality\n",
      "The lower bound of hours-per-week is set to 20, which is the expected value for a part-time job\n",
      "The upper bound of age is set to 85, which is longer than the life expectancy in U.S., and around the value of \n",
      "life expectancy in Canada\n",
      "The upper bound of hours-per-week is set to 72, which is calculated according to the 'famous' 9-9-6 working load\n",
      "in China.\n",
      "The upper bound of education-num is set to 26, which is a little bit longer than the expected year of education of\n",
      "a Ph.D., which is 6 years for elementary, 6 years for middle and high school, 4 year undergraduate, 2 year master\n",
      "and 5 year Ph.D. studentship, add up to 23 years.\n",
      "After applying such filter, we found 2774 outliers in the dataset, which is a pretty large portion of the dataset\n",
      "Consider the number of the outliers is quite big, we will just keep them inside the dataset and have a closer\n",
      "look in section 4 Exceptional Work\n"
     ]
    }
   ],
   "source": [
    "# we calculate interquantile range add use it as our guide line as detecting outlier\n",
    "\n",
    "adult_numrics = adult.select_dtypes(include=['int64'])\n",
    "Q1 = adult_numrics.quantile(0.25)\n",
    "Q3 = adult_numrics.quantile(0.75)\n",
    "iqr = Q3-Q1\n",
    "# print(iqr)\n",
    "# print(adult_numrics['capital-gain'])\n",
    "lower_bound = Q1 - 1.5 * iqr\n",
    "upper_bound = Q3 + 1.5 * iqr\n",
    "print(\"By calculating interquantile range, we can get the expected lower/upper bound for each numeric value\")\n",
    "adult_numrics = adult_numrics.drop(['capital-gain','capital-loss'],axis='columns')\n",
    "lower_bound.drop(['capital-gain','capital-loss'],inplace=True)\n",
    "upper_bound.drop(['capital-gain','capital-loss'],inplace=True)\n",
    "print(\"As explained before we drop the catipal-gain and capital-loss condition, and thus we have\")\n",
    "outliers = adult_numrics[((adult_numrics<lower_bound) | (adult_numrics>upper_bound)).any(axis=1)]\n",
    "print(\"lower bound as:\")\n",
    "print(lower_bound)\n",
    "print(\"and upper bound as:\")\n",
    "print(upper_bound)\n",
    "print(\"After reviewing this calculated lower and upper bound, we decided to change some of the value. Since the result\")\n",
    "print(\"value would be an outlier according to the interquantile range, but still a reasonable value in reality\")\n",
    "print(\"The lower bound of hours-per-week is set to 20, which is the expected value for a part-time job\")\n",
    "print(\"The upper bound of age is set to 85, which is longer than the life expectancy in U.S., and around the value of \")\n",
    "print(\"life expectancy in Canada\")\n",
    "print(\"The upper bound of hours-per-week is set to 72, which is calculated according to the \\'famous\\' 9-9-6 working load\")\n",
    "print(\"in China.\")\n",
    "print(\"The upper bound of education-num is set to 26, which is a little bit longer than the expected year of education of\")\n",
    "print(\"a Ph.D., which is 6 years for elementary, 6 years for middle and high school, 4 year undergraduate, 2 year master\")\n",
    "print(\"and 5 year Ph.D. studentship, add up to 23 years.\")\n",
    "\n",
    "lower_bound['hours-per-week'] = 20\n",
    "upper_bound['age']=85\n",
    "upper_bound['hours-per-week']=72\n",
    "upper_bound['education-num'] = 26\n",
    "outliers = adult_numrics[((adult_numrics<lower_bound) | (adult_numrics>upper_bound)).any(axis=1)]\n",
    "print(\"After applying such filter, we found %d outliers in the dataset, which is a pretty large portion of the dataset\"%len(outliers.index))\n",
    "adult_inliers = adult.drop(outliers.index)\n",
    "print(\"Consider the number of the outliers is quite big, we will just keep them inside the dataset and have a closer\")\n",
    "print(\"look in section 4 Exceptional Work\")"
   ]
  },
  {
   "cell_type": "code",
   "execution_count": 179,
   "metadata": {
    "pycharm": {
     "is_executing": false
    },
    "scrolled": true
   },
   "outputs": [
    {
     "data": {
      "text/html": [
       "<div>\n",
       "<style scoped>\n",
       "    .dataframe tbody tr th:only-of-type {\n",
       "        vertical-align: middle;\n",
       "    }\n",
       "\n",
       "    .dataframe tbody tr th {\n",
       "        vertical-align: top;\n",
       "    }\n",
       "\n",
       "    .dataframe thead th {\n",
       "        text-align: right;\n",
       "    }\n",
       "</style>\n",
       "<table border=\"1\" class=\"dataframe\">\n",
       "  <thead>\n",
       "    <tr style=\"text-align: right;\">\n",
       "      <th></th>\n",
       "      <th>age</th>\n",
       "      <th>workclass</th>\n",
       "      <th>fnlwgt</th>\n",
       "      <th>education</th>\n",
       "      <th>education-num</th>\n",
       "      <th>marital-status</th>\n",
       "      <th>occupation</th>\n",
       "      <th>relationship</th>\n",
       "      <th>race</th>\n",
       "      <th>sex</th>\n",
       "      <th>capital-gain</th>\n",
       "      <th>capital-loss</th>\n",
       "      <th>hours-per-week</th>\n",
       "      <th>native-country</th>\n",
       "      <th>income</th>\n",
       "    </tr>\n",
       "  </thead>\n",
       "  <tbody>\n",
       "    <tr>\n",
       "      <th>0</th>\n",
       "      <td>39</td>\n",
       "      <td>State-gov</td>\n",
       "      <td>77516</td>\n",
       "      <td>Bachelors</td>\n",
       "      <td>13</td>\n",
       "      <td>Never-married</td>\n",
       "      <td>Adm-clerical</td>\n",
       "      <td>Not-in-family</td>\n",
       "      <td>White</td>\n",
       "      <td>Male</td>\n",
       "      <td>2174</td>\n",
       "      <td>0</td>\n",
       "      <td>40</td>\n",
       "      <td>United-States</td>\n",
       "      <td>&lt;=50K</td>\n",
       "    </tr>\n",
       "    <tr>\n",
       "      <th>2</th>\n",
       "      <td>38</td>\n",
       "      <td>Private</td>\n",
       "      <td>215646</td>\n",
       "      <td>HS-grad</td>\n",
       "      <td>9</td>\n",
       "      <td>Divorced</td>\n",
       "      <td>Handlers-cleaners</td>\n",
       "      <td>Not-in-family</td>\n",
       "      <td>White</td>\n",
       "      <td>Male</td>\n",
       "      <td>0</td>\n",
       "      <td>0</td>\n",
       "      <td>40</td>\n",
       "      <td>United-States</td>\n",
       "      <td>&lt;=50K</td>\n",
       "    </tr>\n",
       "    <tr>\n",
       "      <th>3</th>\n",
       "      <td>53</td>\n",
       "      <td>Private</td>\n",
       "      <td>234721</td>\n",
       "      <td>11th</td>\n",
       "      <td>7</td>\n",
       "      <td>Married-civ-spouse</td>\n",
       "      <td>Handlers-cleaners</td>\n",
       "      <td>Husband</td>\n",
       "      <td>Black</td>\n",
       "      <td>Male</td>\n",
       "      <td>0</td>\n",
       "      <td>0</td>\n",
       "      <td>40</td>\n",
       "      <td>United-States</td>\n",
       "      <td>&lt;=50K</td>\n",
       "    </tr>\n",
       "    <tr>\n",
       "      <th>4</th>\n",
       "      <td>28</td>\n",
       "      <td>Private</td>\n",
       "      <td>338409</td>\n",
       "      <td>Bachelors</td>\n",
       "      <td>13</td>\n",
       "      <td>Married-civ-spouse</td>\n",
       "      <td>Prof-specialty</td>\n",
       "      <td>Wife</td>\n",
       "      <td>Black</td>\n",
       "      <td>Female</td>\n",
       "      <td>0</td>\n",
       "      <td>0</td>\n",
       "      <td>40</td>\n",
       "      <td>Cuba</td>\n",
       "      <td>&lt;=50K</td>\n",
       "    </tr>\n",
       "    <tr>\n",
       "      <th>5</th>\n",
       "      <td>37</td>\n",
       "      <td>Private</td>\n",
       "      <td>284582</td>\n",
       "      <td>Masters</td>\n",
       "      <td>14</td>\n",
       "      <td>Married-civ-spouse</td>\n",
       "      <td>Exec-managerial</td>\n",
       "      <td>Wife</td>\n",
       "      <td>White</td>\n",
       "      <td>Female</td>\n",
       "      <td>0</td>\n",
       "      <td>0</td>\n",
       "      <td>40</td>\n",
       "      <td>United-States</td>\n",
       "      <td>&lt;=50K</td>\n",
       "    </tr>\n",
       "  </tbody>\n",
       "</table>\n",
       "</div>"
      ],
      "text/plain": [
       "   age   workclass  fnlwgt   education  education-num       marital-status  \\\n",
       "0   39   State-gov   77516   Bachelors             13        Never-married   \n",
       "2   38     Private  215646     HS-grad              9             Divorced   \n",
       "3   53     Private  234721        11th              7   Married-civ-spouse   \n",
       "4   28     Private  338409   Bachelors             13   Married-civ-spouse   \n",
       "5   37     Private  284582     Masters             14   Married-civ-spouse   \n",
       "\n",
       "           occupation    relationship    race      sex  capital-gain  \\\n",
       "0        Adm-clerical   Not-in-family   White     Male          2174   \n",
       "2   Handlers-cleaners   Not-in-family   White     Male             0   \n",
       "3   Handlers-cleaners         Husband   Black     Male             0   \n",
       "4      Prof-specialty            Wife   Black   Female             0   \n",
       "5     Exec-managerial            Wife   White   Female             0   \n",
       "\n",
       "   capital-loss  hours-per-week  native-country  income  \n",
       "0             0              40   United-States   <=50K  \n",
       "2             0              40   United-States   <=50K  \n",
       "3             0              40   United-States   <=50K  \n",
       "4             0              40            Cuba   <=50K  \n",
       "5             0              40   United-States   <=50K  "
      ]
     },
     "execution_count": 179,
     "metadata": {},
     "output_type": "execute_result"
    }
   ],
   "source": [
    "adult.head(5)"
   ]
  },
  {
   "cell_type": "markdown",
   "metadata": {},
   "source": [
    "### 3.2 Provide appropriate basic statistics\n",
    "#### 3.2.1 Statistics about Numeric values"
   ]
  },
  {
   "cell_type": "code",
   "execution_count": 180,
   "metadata": {
    "pycharm": {
     "is_executing": false
    }
   },
   "outputs": [],
   "source": [
    "# select all columns with numeric values\n",
    "adult_numeric = adult.select_dtypes(include=np.number)"
   ]
  },
  {
   "cell_type": "code",
   "execution_count": 181,
   "metadata": {
    "pycharm": {
     "is_executing": false
    }
   },
   "outputs": [
    {
     "data": {
      "text/html": [
       "<div>\n",
       "<style scoped>\n",
       "    .dataframe tbody tr th:only-of-type {\n",
       "        vertical-align: middle;\n",
       "    }\n",
       "\n",
       "    .dataframe tbody tr th {\n",
       "        vertical-align: top;\n",
       "    }\n",
       "\n",
       "    .dataframe thead th {\n",
       "        text-align: right;\n",
       "    }\n",
       "</style>\n",
       "<table border=\"1\" class=\"dataframe\">\n",
       "  <thead>\n",
       "    <tr style=\"text-align: right;\">\n",
       "      <th></th>\n",
       "      <th>age</th>\n",
       "      <th>fnlwgt</th>\n",
       "      <th>education-num</th>\n",
       "      <th>capital-gain</th>\n",
       "      <th>capital-loss</th>\n",
       "      <th>hours-per-week</th>\n",
       "    </tr>\n",
       "  </thead>\n",
       "  <tbody>\n",
       "    <tr>\n",
       "      <th>0</th>\n",
       "      <td>39</td>\n",
       "      <td>77516</td>\n",
       "      <td>13</td>\n",
       "      <td>2174</td>\n",
       "      <td>0</td>\n",
       "      <td>40</td>\n",
       "    </tr>\n",
       "    <tr>\n",
       "      <th>2</th>\n",
       "      <td>38</td>\n",
       "      <td>215646</td>\n",
       "      <td>9</td>\n",
       "      <td>0</td>\n",
       "      <td>0</td>\n",
       "      <td>40</td>\n",
       "    </tr>\n",
       "    <tr>\n",
       "      <th>3</th>\n",
       "      <td>53</td>\n",
       "      <td>234721</td>\n",
       "      <td>7</td>\n",
       "      <td>0</td>\n",
       "      <td>0</td>\n",
       "      <td>40</td>\n",
       "    </tr>\n",
       "    <tr>\n",
       "      <th>4</th>\n",
       "      <td>28</td>\n",
       "      <td>338409</td>\n",
       "      <td>13</td>\n",
       "      <td>0</td>\n",
       "      <td>0</td>\n",
       "      <td>40</td>\n",
       "    </tr>\n",
       "    <tr>\n",
       "      <th>5</th>\n",
       "      <td>37</td>\n",
       "      <td>284582</td>\n",
       "      <td>14</td>\n",
       "      <td>0</td>\n",
       "      <td>0</td>\n",
       "      <td>40</td>\n",
       "    </tr>\n",
       "  </tbody>\n",
       "</table>\n",
       "</div>"
      ],
      "text/plain": [
       "   age  fnlwgt  education-num  capital-gain  capital-loss  hours-per-week\n",
       "0   39   77516             13          2174             0              40\n",
       "2   38  215646              9             0             0              40\n",
       "3   53  234721              7             0             0              40\n",
       "4   28  338409             13             0             0              40\n",
       "5   37  284582             14             0             0              40"
      ]
     },
     "execution_count": 181,
     "metadata": {},
     "output_type": "execute_result"
    }
   ],
   "source": [
    "adult_numeric.head(5)"
   ]
  },
  {
   "cell_type": "code",
   "execution_count": 182,
   "metadata": {
    "pycharm": {
     "is_executing": false
    }
   },
   "outputs": [
    {
     "data": {
      "text/html": [
       "<div>\n",
       "<style scoped>\n",
       "    .dataframe tbody tr th:only-of-type {\n",
       "        vertical-align: middle;\n",
       "    }\n",
       "\n",
       "    .dataframe tbody tr th {\n",
       "        vertical-align: top;\n",
       "    }\n",
       "\n",
       "    .dataframe thead th {\n",
       "        text-align: right;\n",
       "    }\n",
       "</style>\n",
       "<table border=\"1\" class=\"dataframe\">\n",
       "  <thead>\n",
       "    <tr style=\"text-align: right;\">\n",
       "      <th></th>\n",
       "      <th>age</th>\n",
       "      <th>fnlwgt</th>\n",
       "      <th>education-num</th>\n",
       "      <th>capital-gain</th>\n",
       "      <th>capital-loss</th>\n",
       "      <th>hours-per-week</th>\n",
       "    </tr>\n",
       "  </thead>\n",
       "  <tbody>\n",
       "    <tr>\n",
       "      <th>mean</th>\n",
       "      <td>38.515805</td>\n",
       "      <td>180024.560278</td>\n",
       "      <td>10.219624</td>\n",
       "      <td>1126.577672</td>\n",
       "      <td>90.154687</td>\n",
       "      <td>41.696912</td>\n",
       "    </tr>\n",
       "    <tr>\n",
       "      <th>median</th>\n",
       "      <td>37.000000</td>\n",
       "      <td>176178.000000</td>\n",
       "      <td>10.000000</td>\n",
       "      <td>0.000000</td>\n",
       "      <td>0.000000</td>\n",
       "      <td>40.000000</td>\n",
       "    </tr>\n",
       "    <tr>\n",
       "      <th>mode</th>\n",
       "      <td>36.000000</td>\n",
       "      <td>203488.000000</td>\n",
       "      <td>9.000000</td>\n",
       "      <td>0.000000</td>\n",
       "      <td>0.000000</td>\n",
       "      <td>40.000000</td>\n",
       "    </tr>\n",
       "    <tr>\n",
       "      <th>trimmed mean (p=20%)</th>\n",
       "      <td>37.593581</td>\n",
       "      <td>173910.524941</td>\n",
       "      <td>10.074182</td>\n",
       "      <td>0.000000</td>\n",
       "      <td>0.000000</td>\n",
       "      <td>41.004568</td>\n",
       "    </tr>\n",
       "    <tr>\n",
       "      <th>min</th>\n",
       "      <td>17.000000</td>\n",
       "      <td>13769.000000</td>\n",
       "      <td>3.000000</td>\n",
       "      <td>0.000000</td>\n",
       "      <td>0.000000</td>\n",
       "      <td>20.000000</td>\n",
       "    </tr>\n",
       "    <tr>\n",
       "      <th>max</th>\n",
       "      <td>85.000000</td>\n",
       "      <td>417419.000000</td>\n",
       "      <td>16.000000</td>\n",
       "      <td>99999.000000</td>\n",
       "      <td>3900.000000</td>\n",
       "      <td>72.000000</td>\n",
       "    </tr>\n",
       "    <tr>\n",
       "      <th>range</th>\n",
       "      <td>68.000000</td>\n",
       "      <td>403650.000000</td>\n",
       "      <td>13.000000</td>\n",
       "      <td>99999.000000</td>\n",
       "      <td>3900.000000</td>\n",
       "      <td>52.000000</td>\n",
       "    </tr>\n",
       "    <tr>\n",
       "      <th>std</th>\n",
       "      <td>12.575000</td>\n",
       "      <td>87412.911410</td>\n",
       "      <td>2.448237</td>\n",
       "      <td>7527.144134</td>\n",
       "      <td>407.482685</td>\n",
       "      <td>9.175043</td>\n",
       "    </tr>\n",
       "  </tbody>\n",
       "</table>\n",
       "</div>"
      ],
      "text/plain": [
       "                            age         fnlwgt  education-num  capital-gain  \\\n",
       "mean                  38.515805  180024.560278      10.219624   1126.577672   \n",
       "median                37.000000  176178.000000      10.000000      0.000000   \n",
       "mode                  36.000000  203488.000000       9.000000      0.000000   \n",
       "trimmed mean (p=20%)  37.593581  173910.524941      10.074182      0.000000   \n",
       "min                   17.000000   13769.000000       3.000000      0.000000   \n",
       "max                   85.000000  417419.000000      16.000000  99999.000000   \n",
       "range                 68.000000  403650.000000      13.000000  99999.000000   \n",
       "std                   12.575000   87412.911410       2.448237   7527.144134   \n",
       "\n",
       "                      capital-loss  hours-per-week  \n",
       "mean                     90.154687       41.696912  \n",
       "median                    0.000000       40.000000  \n",
       "mode                      0.000000       40.000000  \n",
       "trimmed mean (p=20%)      0.000000       41.004568  \n",
       "min                       0.000000       20.000000  \n",
       "max                    3900.000000       72.000000  \n",
       "range                  3900.000000       52.000000  \n",
       "std                     407.482685        9.175043  "
      ]
     },
     "execution_count": 182,
     "metadata": {},
     "output_type": "execute_result"
    }
   ],
   "source": [
    "cnames = ['mean', 'median', 'mode', 'trimmed mean (p=20%)', 'min', 'max', 'range', 'std']\n",
    "adult_numeric.agg(lambda x: pd.Series([np.mean(x), np.median(x),x.mode()[0], trim_mean(x, 0.2),x.min(),x.max(),x.max()-x.min(),x.std()], index=cnames))"
   ]
  },
  {
   "cell_type": "markdown",
   "metadata": {},
   "source": [
    "### 3.4 Visualize the most important or interesting attributes\n",
    "#### 3.4.1 workclass counts"
   ]
  },
  {
   "cell_type": "markdown",
   "metadata": {},
   "source": [
    "Plot the pie chart of workclasses. The dominate workclass is private which consists 73.9% of the people."
   ]
  },
  {
   "cell_type": "code",
   "execution_count": 148,
   "metadata": {},
   "outputs": [
    {
     "data": {
      "image/png": "[encoded data removed]",
      "text/plain": [
       "<Figure size 600x400 with 1 Axes>"
      ]
     },
     "metadata": {},
     "output_type": "display_data"
    }
   ],
   "source": [
    "X = adult['workclass'].value_counts().values\n",
    "L=adult['workclass'].value_counts().index\n",
    "plt.figure(figsize=(6,4), dpi=100)\n",
    "plt.pie(X, labels=L, autopct = '%1.1f%%')\n",
    "plt.title('workclass counts')\n",
    "plt.show()"
   ]
  },
  {
   "cell_type": "markdown",
   "metadata": {},
   "source": [
    "#### 3.4.2 boxplot of ages in different workclasses"
   ]
  },
  {
   "cell_type": "markdown",
   "metadata": {},
   "source": [
    "We can see that the range, quatiles and median of age differs from workclass to workclass. People in their younger age may be more willing to work without pay."
   ]
  },
  {
   "cell_type": "code",
   "execution_count": 149,
   "metadata": {},
   "outputs": [
    {
     "data": {
      "image/png": "[encoded data removed]",
      "text/plain": [
       "<Figure size 432x288 with 1 Axes>"
      ]
     },
     "metadata": {
      "needs_background": "light"
     },
     "output_type": "display_data"
    }
   ],
   "source": [
    "ax = sns.boxplot( x=adult[\"workclass\"], y=adult[\"age\"] ).set_title('age vs. workclass')\n",
    "plt.show()"
   ]
  },
  {
   "cell_type": "markdown",
   "metadata": {},
   "source": [
    "#### 3.4.3 histogram for capital gains and capital loss"
   ]
  },
  {
   "cell_type": "markdown",
   "metadata": {},
   "source": [
    "Plot the histogram of the capital gain and capital loss. We can see from the histogram that almost all people’s capital gain and loss are 0, which means there’re no gains or losses that an individual experiences on the sale of a capital asset."
   ]
  },
  {
   "cell_type": "code",
   "execution_count": 191,
   "metadata": {},
   "outputs": [
    {
     "data": {
      "text/plain": [
       "<matplotlib.axes._subplots.AxesSubplot at 0x19b2d914788>"
      ]
     },
     "execution_count": 191,
     "metadata": {},
     "output_type": "execute_result"
    },
    {
     "data": {
      "image/png": "[encoded data removed]",
      "text/plain": [
       "<Figure size 1440x720 with 1 Axes>"
      ]
     },
     "metadata": {
      "needs_background": "light"
     },
     "output_type": "display_data"
    }
   ],
   "source": [
    "gain_counts = adult['capital-gain']\n",
    "gain_counts.plot.hist()"
   ]
  },
  {
   "cell_type": "code",
   "execution_count": 193,
   "metadata": {},
   "outputs": [
    {
     "data": {
      "text/plain": [
       "<matplotlib.axes._subplots.AxesSubplot at 0x19b1c68f8c8>"
      ]
     },
     "execution_count": 193,
     "metadata": {},
     "output_type": "execute_result"
    },
    {
     "data": {
      "image/png": "[encoded data removed]",
      "text/plain": [
       "<Figure size 1440x720 with 1 Axes>"
      ]
     },
     "metadata": {
      "needs_background": "light"
     },
     "output_type": "display_data"
    }
   ],
   "source": [
    "gain_counts = adult['capital-loss']\n",
    "gain_counts.plot.hist()"
   ]
  },
  {
   "cell_type": "markdown",
   "metadata": {},
   "source": [
    "### 3.5 Explore the relationships among the attributtes\n",
    "#### 3.5.1 correlation matrices"
   ]
  },
  {
   "cell_type": "code",
   "execution_count": 150,
   "metadata": {},
   "outputs": [
    {
     "data": {
      "text/html": [
       "<div>\n",
       "<style scoped>\n",
       "    .dataframe tbody tr th:only-of-type {\n",
       "        vertical-align: middle;\n",
       "    }\n",
       "\n",
       "    .dataframe tbody tr th {\n",
       "        vertical-align: top;\n",
       "    }\n",
       "\n",
       "    .dataframe thead th {\n",
       "        text-align: right;\n",
       "    }\n",
       "</style>\n",
       "<table border=\"1\" class=\"dataframe\">\n",
       "  <thead>\n",
       "    <tr style=\"text-align: right;\">\n",
       "      <th></th>\n",
       "      <th>age</th>\n",
       "      <th>fnlwgt</th>\n",
       "      <th>education-num</th>\n",
       "      <th>capital-gain</th>\n",
       "      <th>capital-loss</th>\n",
       "      <th>hours-per-week</th>\n",
       "    </tr>\n",
       "  </thead>\n",
       "  <tbody>\n",
       "    <tr>\n",
       "      <th>age</th>\n",
       "      <td>1.000000</td>\n",
       "      <td>-0.076279</td>\n",
       "      <td>0.043203</td>\n",
       "      <td>0.080162</td>\n",
       "      <td>0.060141</td>\n",
       "      <td>0.101348</td>\n",
       "    </tr>\n",
       "    <tr>\n",
       "      <th>fnlwgt</th>\n",
       "      <td>-0.076279</td>\n",
       "      <td>1.000000</td>\n",
       "      <td>-0.045199</td>\n",
       "      <td>0.000420</td>\n",
       "      <td>-0.009755</td>\n",
       "      <td>-0.023033</td>\n",
       "    </tr>\n",
       "    <tr>\n",
       "      <th>education-num</th>\n",
       "      <td>0.043203</td>\n",
       "      <td>-0.045199</td>\n",
       "      <td>1.000000</td>\n",
       "      <td>0.124455</td>\n",
       "      <td>0.079613</td>\n",
       "      <td>0.152842</td>\n",
       "    </tr>\n",
       "    <tr>\n",
       "      <th>capital-gain</th>\n",
       "      <td>0.080162</td>\n",
       "      <td>0.000420</td>\n",
       "      <td>0.124455</td>\n",
       "      <td>1.000000</td>\n",
       "      <td>-0.032255</td>\n",
       "      <td>0.080429</td>\n",
       "    </tr>\n",
       "    <tr>\n",
       "      <th>capital-loss</th>\n",
       "      <td>0.060141</td>\n",
       "      <td>-0.009755</td>\n",
       "      <td>0.079613</td>\n",
       "      <td>-0.032255</td>\n",
       "      <td>1.000000</td>\n",
       "      <td>0.052380</td>\n",
       "    </tr>\n",
       "    <tr>\n",
       "      <th>hours-per-week</th>\n",
       "      <td>0.101348</td>\n",
       "      <td>-0.023033</td>\n",
       "      <td>0.152842</td>\n",
       "      <td>0.080429</td>\n",
       "      <td>0.052380</td>\n",
       "      <td>1.000000</td>\n",
       "    </tr>\n",
       "  </tbody>\n",
       "</table>\n",
       "</div>"
      ],
      "text/plain": [
       "                     age    fnlwgt  education-num  capital-gain  capital-loss  \\\n",
       "age             1.000000 -0.076279       0.043203      0.080162      0.060141   \n",
       "fnlwgt         -0.076279  1.000000      -0.045199      0.000420     -0.009755   \n",
       "education-num   0.043203 -0.045199       1.000000      0.124455      0.079613   \n",
       "capital-gain    0.080162  0.000420       0.124455      1.000000     -0.032255   \n",
       "capital-loss    0.060141 -0.009755       0.079613     -0.032255      1.000000   \n",
       "hours-per-week  0.101348 -0.023033       0.152842      0.080429      0.052380   \n",
       "\n",
       "                hours-per-week  \n",
       "age                   0.101348  \n",
       "fnlwgt               -0.023033  \n",
       "education-num         0.152842  \n",
       "capital-gain          0.080429  \n",
       "capital-loss          0.052380  \n",
       "hours-per-week        1.000000  "
      ]
     },
     "execution_count": 150,
     "metadata": {},
     "output_type": "execute_result"
    }
   ],
   "source": [
    "#correlation matrices\n",
    "adult.corr()"
   ]
  },
  {
   "cell_type": "code",
   "execution_count": 151,
   "metadata": {},
   "outputs": [
    {
     "data": {
      "text/plain": [
       "<matplotlib.image.AxesImage at 0x19b0e755388>"
      ]
     },
     "execution_count": 151,
     "metadata": {},
     "output_type": "execute_result"
    },
    {
     "data": {
      "image/png": "[encoded data removed]",
      "text/plain": [
       "<Figure size 288x288 with 1 Axes>"
      ]
     },
     "metadata": {
      "needs_background": "light"
     },
     "output_type": "display_data"
    }
   ],
   "source": [
    "plt.matshow(adult.corr())"
   ]
  },
  {
   "cell_type": "markdown",
   "metadata": {},
   "source": [
    "#### 3.5.2 cross tabulations"
   ]
  },
  {
   "cell_type": "code",
   "execution_count": 184,
   "metadata": {},
   "outputs": [
    {
     "data": {
      "text/html": [
       "<div>\n",
       "<style scoped>\n",
       "    .dataframe tbody tr th:only-of-type {\n",
       "        vertical-align: middle;\n",
       "    }\n",
       "\n",
       "    .dataframe tbody tr th {\n",
       "        vertical-align: top;\n",
       "    }\n",
       "\n",
       "    .dataframe thead th {\n",
       "        text-align: right;\n",
       "    }\n",
       "</style>\n",
       "<table border=\"1\" class=\"dataframe\">\n",
       "  <thead>\n",
       "    <tr style=\"text-align: right;\">\n",
       "      <th></th>\n",
       "      <th>lte50K</th>\n",
       "      <th>gt50K</th>\n",
       "    </tr>\n",
       "    <tr>\n",
       "      <th>relationship</th>\n",
       "      <th></th>\n",
       "      <th></th>\n",
       "    </tr>\n",
       "  </thead>\n",
       "  <tbody>\n",
       "    <tr>\n",
       "      <th>Husband</th>\n",
       "      <td>6780</td>\n",
       "      <td>5677</td>\n",
       "    </tr>\n",
       "    <tr>\n",
       "      <th>Not-in-family</th>\n",
       "      <td>6891</td>\n",
       "      <td>823</td>\n",
       "    </tr>\n",
       "    <tr>\n",
       "      <th>Other-relative</th>\n",
       "      <td>854</td>\n",
       "      <td>35</td>\n",
       "    </tr>\n",
       "    <tr>\n",
       "      <th>Own-child</th>\n",
       "      <td>4398</td>\n",
       "      <td>64</td>\n",
       "    </tr>\n",
       "    <tr>\n",
       "      <th>Unmarried</th>\n",
       "      <td>2998</td>\n",
       "      <td>213</td>\n",
       "    </tr>\n",
       "    <tr>\n",
       "      <th>Wife</th>\n",
       "      <td>712</td>\n",
       "      <td>694</td>\n",
       "    </tr>\n",
       "  </tbody>\n",
       "</table>\n",
       "</div>"
      ],
      "text/plain": [
       "                 lte50K  gt50K\n",
       "relationship                  \n",
       " Husband           6780   5677\n",
       " Not-in-family     6891    823\n",
       " Other-relative     854     35\n",
       " Own-child         4398     64\n",
       " Unmarried         2998    213\n",
       " Wife               712    694"
      ]
     },
     "execution_count": 184,
     "metadata": {},
     "output_type": "execute_result"
    }
   ],
   "source": [
    "twowayct = pd.crosstab(index=adult['relationship'], columns=adult['income'], margins=False)\n",
    "twowayct.columns=['lte50K','gt50K']\n",
    "twowayct"
   ]
  },
  {
   "cell_type": "markdown",
   "metadata": {},
   "source": [
    "### 3.6 relationships between class attribute and the other attribute\n",
    "#### 3.6.1 workclass group-wise statistics"
   ]
  },
  {
   "cell_type": "code",
   "execution_count": 178,
   "metadata": {},
   "outputs": [
    {
     "data": {
      "text/html": [
       "<div>\n",
       "<style scoped>\n",
       "    .dataframe tbody tr th:only-of-type {\n",
       "        vertical-align: middle;\n",
       "    }\n",
       "\n",
       "    .dataframe tbody tr th {\n",
       "        vertical-align: top;\n",
       "    }\n",
       "\n",
       "    .dataframe thead th {\n",
       "        text-align: right;\n",
       "    }\n",
       "</style>\n",
       "<table border=\"1\" class=\"dataframe\">\n",
       "  <thead>\n",
       "    <tr style=\"text-align: right;\">\n",
       "      <th></th>\n",
       "      <th>workclass</th>\n",
       "      <th>Federal-gov</th>\n",
       "      <th>Local-gov</th>\n",
       "      <th>Private</th>\n",
       "      <th>Self-emp-inc</th>\n",
       "      <th>Self-emp-not-inc</th>\n",
       "      <th>State-gov</th>\n",
       "      <th>Without-pay</th>\n",
       "    </tr>\n",
       "  </thead>\n",
       "  <tbody>\n",
       "    <tr>\n",
       "      <th rowspan=\"3\" valign=\"top\">age</th>\n",
       "      <th>mean</th>\n",
       "      <td>42.577943</td>\n",
       "      <td>41.743106</td>\n",
       "      <td>36.798374</td>\n",
       "      <td>46.027933</td>\n",
       "      <td>45.010008</td>\n",
       "      <td>39.362002</td>\n",
       "      <td>47.785714</td>\n",
       "    </tr>\n",
       "    <tr>\n",
       "      <th>median</th>\n",
       "      <td>43.000000</td>\n",
       "      <td>41.000000</td>\n",
       "      <td>35.000000</td>\n",
       "      <td>46.000000</td>\n",
       "      <td>44.000000</td>\n",
       "      <td>39.000000</td>\n",
       "      <td>57.000000</td>\n",
       "    </tr>\n",
       "    <tr>\n",
       "      <th>std</th>\n",
       "      <td>11.532840</td>\n",
       "      <td>12.267402</td>\n",
       "      <td>12.837864</td>\n",
       "      <td>12.689685</td>\n",
       "      <td>13.366507</td>\n",
       "      <td>12.386871</td>\n",
       "      <td>21.075610</td>\n",
       "    </tr>\n",
       "    <tr>\n",
       "      <th rowspan=\"3\" valign=\"top\">fnlwgt</th>\n",
       "      <th>mean</th>\n",
       "      <td>185717.107105</td>\n",
       "      <td>188422.886309</td>\n",
       "      <td>192717.919107</td>\n",
       "      <td>175775.219739</td>\n",
       "      <td>175275.246197</td>\n",
       "      <td>184440.424550</td>\n",
       "      <td>174267.500000</td>\n",
       "    </tr>\n",
       "    <tr>\n",
       "      <th>median</th>\n",
       "      <td>176904.000000</td>\n",
       "      <td>178383.000000</td>\n",
       "      <td>181026.000000</td>\n",
       "      <td>164614.000000</td>\n",
       "      <td>168103.500000</td>\n",
       "      <td>170091.000000</td>\n",
       "      <td>171531.500000</td>\n",
       "    </tr>\n",
       "    <tr>\n",
       "      <th>std</th>\n",
       "      <td>117766.713221</td>\n",
       "      <td>100654.252367</td>\n",
       "      <td>105991.767659</td>\n",
       "      <td>97355.381441</td>\n",
       "      <td>100643.462755</td>\n",
       "      <td>111202.987584</td>\n",
       "      <td>85536.385921</td>\n",
       "    </tr>\n",
       "    <tr>\n",
       "      <th rowspan=\"3\" valign=\"top\">education-num</th>\n",
       "      <th>mean</th>\n",
       "      <td>10.948038</td>\n",
       "      <td>11.036768</td>\n",
       "      <td>9.872485</td>\n",
       "      <td>11.167598</td>\n",
       "      <td>10.211369</td>\n",
       "      <td>11.349492</td>\n",
       "      <td>9.071429</td>\n",
       "    </tr>\n",
       "    <tr>\n",
       "      <th>median</th>\n",
       "      <td>10.000000</td>\n",
       "      <td>10.000000</td>\n",
       "      <td>10.000000</td>\n",
       "      <td>10.000000</td>\n",
       "      <td>10.000000</td>\n",
       "      <td>10.000000</td>\n",
       "      <td>9.000000</td>\n",
       "    </tr>\n",
       "    <tr>\n",
       "      <th>std</th>\n",
       "      <td>2.100565</td>\n",
       "      <td>2.545539</td>\n",
       "      <td>2.482323</td>\n",
       "      <td>2.544997</td>\n",
       "      <td>2.757187</td>\n",
       "      <td>2.530994</td>\n",
       "      <td>1.685426</td>\n",
       "    </tr>\n",
       "    <tr>\n",
       "      <th rowspan=\"3\" valign=\"top\">capital-gain</th>\n",
       "      <th>mean</th>\n",
       "      <td>832.321315</td>\n",
       "      <td>829.230285</td>\n",
       "      <td>880.727632</td>\n",
       "      <td>4810.746741</td>\n",
       "      <td>1913.900320</td>\n",
       "      <td>684.306489</td>\n",
       "      <td>487.857143</td>\n",
       "    </tr>\n",
       "    <tr>\n",
       "      <th>median</th>\n",
       "      <td>0.000000</td>\n",
       "      <td>0.000000</td>\n",
       "      <td>0.000000</td>\n",
       "      <td>0.000000</td>\n",
       "      <td>0.000000</td>\n",
       "      <td>0.000000</td>\n",
       "      <td>0.000000</td>\n",
       "    </tr>\n",
       "    <tr>\n",
       "      <th>std</th>\n",
       "      <td>4111.473884</td>\n",
       "      <td>5375.040712</td>\n",
       "      <td>6341.187485</td>\n",
       "      <td>17828.904145</td>\n",
       "      <td>11076.735577</td>\n",
       "      <td>3771.592651</td>\n",
       "      <td>1300.780467</td>\n",
       "    </tr>\n",
       "    <tr>\n",
       "      <th rowspan=\"3\" valign=\"top\">capital-loss</th>\n",
       "      <th>mean</th>\n",
       "      <td>111.731707</td>\n",
       "      <td>110.323174</td>\n",
       "      <td>79.708184</td>\n",
       "      <td>153.504655</td>\n",
       "      <td>115.618495</td>\n",
       "      <td>81.147772</td>\n",
       "      <td>0.000000</td>\n",
       "    </tr>\n",
       "    <tr>\n",
       "      <th>median</th>\n",
       "      <td>0.000000</td>\n",
       "      <td>0.000000</td>\n",
       "      <td>0.000000</td>\n",
       "      <td>0.000000</td>\n",
       "      <td>0.000000</td>\n",
       "      <td>0.000000</td>\n",
       "      <td>0.000000</td>\n",
       "    </tr>\n",
       "    <tr>\n",
       "      <th>std</th>\n",
       "      <td>451.148107</td>\n",
       "      <td>440.372500</td>\n",
       "      <td>383.354450</td>\n",
       "      <td>546.910433</td>\n",
       "      <td>465.828429</td>\n",
       "      <td>388.739091</td>\n",
       "      <td>0.000000</td>\n",
       "    </tr>\n",
       "    <tr>\n",
       "      <th rowspan=\"3\" valign=\"top\">hours-per-week</th>\n",
       "      <th>mean</th>\n",
       "      <td>41.279958</td>\n",
       "      <td>41.002419</td>\n",
       "      <td>40.254851</td>\n",
       "      <td>48.802607</td>\n",
       "      <td>44.433947</td>\n",
       "      <td>39.053948</td>\n",
       "      <td>32.714286</td>\n",
       "    </tr>\n",
       "    <tr>\n",
       "      <th>median</th>\n",
       "      <td>40.000000</td>\n",
       "      <td>40.000000</td>\n",
       "      <td>40.000000</td>\n",
       "      <td>50.000000</td>\n",
       "      <td>40.000000</td>\n",
       "      <td>40.000000</td>\n",
       "      <td>27.500000</td>\n",
       "    </tr>\n",
       "    <tr>\n",
       "      <th>std</th>\n",
       "      <td>8.720239</td>\n",
       "      <td>10.760325</td>\n",
       "      <td>11.262432</td>\n",
       "      <td>13.777156</td>\n",
       "      <td>16.685741</td>\n",
       "      <td>11.669861</td>\n",
       "      <td>17.357900</td>\n",
       "    </tr>\n",
       "  </tbody>\n",
       "</table>\n",
       "</div>"
      ],
      "text/plain": [
       "workclass                Federal-gov      Local-gov        Private  \\\n",
       "age            mean        42.577943      41.743106      36.798374   \n",
       "               median      43.000000      41.000000      35.000000   \n",
       "               std         11.532840      12.267402      12.837864   \n",
       "fnlwgt         mean    185717.107105  188422.886309  192717.919107   \n",
       "               median  176904.000000  178383.000000  181026.000000   \n",
       "               std     117766.713221  100654.252367  105991.767659   \n",
       "education-num  mean        10.948038      11.036768       9.872485   \n",
       "               median      10.000000      10.000000      10.000000   \n",
       "               std          2.100565       2.545539       2.482323   \n",
       "capital-gain   mean       832.321315     829.230285     880.727632   \n",
       "               median       0.000000       0.000000       0.000000   \n",
       "               std       4111.473884    5375.040712    6341.187485   \n",
       "capital-loss   mean       111.731707     110.323174      79.708184   \n",
       "               median       0.000000       0.000000       0.000000   \n",
       "               std        451.148107     440.372500     383.354450   \n",
       "hours-per-week mean        41.279958      41.002419      40.254851   \n",
       "               median      40.000000      40.000000      40.000000   \n",
       "               std          8.720239      10.760325      11.262432   \n",
       "\n",
       "workclass               Self-emp-inc   Self-emp-not-inc      State-gov  \\\n",
       "age            mean        46.027933          45.010008      39.362002   \n",
       "               median      46.000000          44.000000      39.000000   \n",
       "               std         12.689685          13.366507      12.386871   \n",
       "fnlwgt         mean    175775.219739      175275.246197  184440.424550   \n",
       "               median  164614.000000      168103.500000  170091.000000   \n",
       "               std      97355.381441      100643.462755  111202.987584   \n",
       "education-num  mean        11.167598          10.211369      11.349492   \n",
       "               median      10.000000          10.000000      10.000000   \n",
       "               std          2.544997           2.757187       2.530994   \n",
       "capital-gain   mean      4810.746741        1913.900320     684.306489   \n",
       "               median       0.000000           0.000000       0.000000   \n",
       "               std      17828.904145       11076.735577    3771.592651   \n",
       "capital-loss   mean       153.504655         115.618495      81.147772   \n",
       "               median       0.000000           0.000000       0.000000   \n",
       "               std        546.910433         465.828429     388.739091   \n",
       "hours-per-week mean        48.802607          44.433947      39.053948   \n",
       "               median      50.000000          40.000000      40.000000   \n",
       "               std         13.777156          16.685741      11.669861   \n",
       "\n",
       "workclass                Without-pay  \n",
       "age            mean        47.785714  \n",
       "               median      57.000000  \n",
       "               std         21.075610  \n",
       "fnlwgt         mean    174267.500000  \n",
       "               median  171531.500000  \n",
       "               std      85536.385921  \n",
       "education-num  mean         9.071429  \n",
       "               median       9.000000  \n",
       "               std          1.685426  \n",
       "capital-gain   mean       487.857143  \n",
       "               median       0.000000  \n",
       "               std       1300.780467  \n",
       "capital-loss   mean         0.000000  \n",
       "               median       0.000000  \n",
       "               std          0.000000  \n",
       "hours-per-week mean        32.714286  \n",
       "               median      27.500000  \n",
       "               std         17.357900  "
      ]
     },
     "execution_count": 178,
     "metadata": {},
     "output_type": "execute_result"
    }
   ],
   "source": [
    "combined_class=adult.groupby('workclass').agg(['mean', 'median', 'std']).T\n",
    "combined_class"
   ]
  },
  {
   "cell_type": "code",
   "execution_count": 177,
   "metadata": {},
   "outputs": [
    {
     "data": {
      "text/plain": [
       "<matplotlib.axes._subplots.AxesSubplot at 0x19b1a1b9548>"
      ]
     },
     "execution_count": 177,
     "metadata": {},
     "output_type": "execute_result"
    },
    {
     "data": {
      "image/png": "[encoded data removed]",
      "text/plain": [
       "<Figure size 1440x720 with 1 Axes>"
      ]
     },
     "metadata": {
      "needs_background": "light"
     },
     "output_type": "display_data"
    }
   ],
   "source": [
    "plt.rcParams['figure.figsize'] = (20,10)\n",
    "combined_class.plot.bar()"
   ]
  },
  {
   "cell_type": "code",
   "execution_count": null,
   "metadata": {},
   "outputs": [],
   "source": [
    "\"\"\"\n",
    "Numericalize the categorical columns\n",
    "\"\"\"\n",
    "# mapping dictioniary for education row, we take education as a ordinal attribute, as was explained earlier\n",
    "education_mapping_dict = {' Preschool':1, ' 1st-4th':1, ' 5th-6th':1, ' 7th-8th':1, ' 9th':1, ' 10th':1, ' 11th':1, ' 12th':1,\n",
    "                          ' HS-grad':2, ' Prof-school':2, ' Some-college':2,\n",
    "                          ' Assoc-voc':3, ' Assoc-acdm':3,\n",
    "                          ' Bachelors':4,\n",
    "                          ' Masters':5,\n",
    "                          ' Doctorate':6}\n",
    "categorical_list=['workclass','marital-status','occupation','relationship','race','sex','native-country']\n",
    "def categorical_is_converted(input_dtype):\n",
    "    \"\"\"\n",
    "    check if the target categorical value is converted to some integer value\n",
    "    :param input_dtype: the datatype of the input column\n",
    "    :return: True if the dtype is some kind of integer, False otherwise\n",
    "    \"\"\"\n",
    "    return input_dtype in [np.int, np.int64, np.int32, np.long]\n",
    "def one_hot_batch(df, attribute_list,prefix_list=None):\n",
    "    \"\"\"\n",
    "    :param attribute_list: list of attributes that waiting to be one hotted \n",
    "    :param prefix_list: list of prefix for the attribute after one-hot representation, if not set, just use the attribute name\n",
    "    :return: False if unexpected input found, otherwise return the result dataframe\n",
    "    \"\"\"\n",
    "    if prefix_list is None:\n",
    "        prefix_list = attribute_list\n",
    "    if not len(attribute_list) == len(prefix_list):\n",
    "        return False\n",
    "    for i in range(len(attribute_list)):\n",
    "        if not categorical_is_converted(df[attribute_list[i]].dtype):\n",
    "            dummies = pd.get_dummies(df[attribute_list[i]], prefix=prefix_list[i])\n",
    "            df = df.drop(columns=[attribute_list[i]])\n",
    "            df = pd.concat([df,dummies], axis=1)\n",
    "    return df\n",
    "# map education to integers\n",
    "if not categorical_is_converted(adult['education'].dtype):\n",
    "    adult = adult.replace({'education': education_mapping_dict})\n",
    "# convert all non-ordinal categorical attribute using one-hot representation\n",
    "adult = one_hot_batch(adult, categorical_list)\n",
    "# map the prediction target: the ultimate income rank into integer. Since it's binary, we don't use one hot representation\n",
    "if not categorical_is_converted(adult['income'].dtype):\n",
    "    for i in range(len(adult.index)):\n",
    "        if '>50K' in adult.iloc[i]['income']:\n",
    "            adult.iloc[i, adult.columns.get_loc('income')] = 1\n",
    "        else:\n",
    "            adult.iloc[i,adult.columns.get_loc('income')] = 0\n",
    "adult.sample(5)"
   ]
  },
  {
   "cell_type": "markdown",
   "metadata": {
    "pycharm": {
     "is_executing": false,
     "name": "#%% md\n"
    }
   },
   "source": [
    "# 4 Exceptional work\n",
    "In section 3.2.3 we used interquantile range to find the outlier, and we found around 4000 samples are tagged as outlier,\n",
    "which is quite a large portion. So, in this section, we will study these outliers and evaluate how they influence our viewport\n",
    "of this dataset. Our evaluation of outlier finding algorithm includes the following two aspects:\n",
    "\n",
    " - We employ some dimensional reduction algorithm that reduces the entire dataset to 2 and 3 dimension, we then treat \n",
    " outliers and commoners as different classes and render them in different colors, and thus study their behavior.\n",
    " - We employ classifiers trained on both full training set and the training set without outlier, and we observed a accuracy\n",
    " loss using 5-fold validation, we thus conclude that the out-lier detection with interquantile range does not fit this dataset \n",
    " \n",
    "### 4.1 PCA and visualization\n",
    "We applied principle component analysis to transform the entire dataset into 2d and 3d dimension, then we plot them with\n",
    "scatter in both dimension. The outliers are in red color and the commoners are in blue color. In the 2d plot we can see \n",
    "that the outliers are basically overlaps with the commoners, and for the 3d plot we found out that the commoners and outliers\n",
    "can be distinguishable; however, the distance between the outliers and the nearest commoners are not huge, and far less then\n",
    "the furthest distance between different cluster of commoners, we therefore infer that the outliers are still valuable data\n",
    "entries in our dataset and does not recommand to just remove this; we also infer that the outliers are introduced just \n",
    "because the nature of the data is not evenly distributed instead of an error. "
   ]
  },
  {
   "cell_type": "code",
   "execution_count": null,
   "metadata": {
    "pycharm": {
     "is_executing": false,
     "name": "#%%\n"
    }
   },
   "outputs": [],
   "source": [
    "iqr_outliers = adult_numrics[((adult_numrics<lower_bound) | (adult_numrics>upper_bound)).any(axis=1)]\n",
    "iqr_outliers.sample(5)\n",
    "iqr_inliers = adult.drop(outliers.index)\n",
    "iqr_outliers = adult.loc[iqr_outliers.index]\n",
    "iqr_outliers.sample(5)\n",
    "iqr_outliers.loc[:,'out_lier'] = 1\n",
    "iqr_inliers.loc[:,'out_lier'] = 0\n",
    "total = pd.concat([iqr_inliers,iqr_outliers])\n",
    "\n",
    "\n",
    "print('out_lier' in iqr_outliers.columns)\n",
    "is_outlier = total['out_lier']\n",
    "pca = deco.PCA(n_components=3)\n",
    "attributes = total.drop(columns=['out_lier']).values\n",
    "reduced = pca.fit_transform(attributes)\n",
    "print(reduced)\n",
    "fig = plt.figure()\n",
    "ax = fig.add_subplot(121, projection='3d')\n",
    "\n",
    "x0=[];y0=[];z0=[];x1=[];y1=[];z1=[]\n",
    "for i in range(len(reduced)):\n",
    "    if is_outlier[i] == 0:\n",
    "        x0.append(reduced[i][0])\n",
    "        y0.append(reduced[i][1])\n",
    "        z0.append(reduced[i][2])\n",
    "    else:\n",
    "        x1.append(reduced[i][0])\n",
    "        y1.append(reduced[i][1])\n",
    "        z1.append(reduced[i][2])\n",
    "ax.scatter(x0,y0,z0,c='b')\n",
    "ax.scatter(x1,y1,z1,c='r')\n",
    "\n",
    "pca2 = deco.PCA(n_components=2)\n",
    "reduced = pca2.fit_transform(attributes)\n",
    "bx = fig.add_subplot(122)\n",
    "x0=[];y0=[];x1=[];y1=[]\n",
    "for i in range(len(reduced)):\n",
    "    if is_outlier[i] == 0:\n",
    "        x0.append(reduced[i][0])\n",
    "        y0.append(reduced[i][1])\n",
    "    else:\n",
    "        x1.append(reduced[i][0])\n",
    "        y1.append(reduced[i][1])\n",
    "bx.scatter(x0,y0,c='b')\n",
    "bx.scatter(x1,y1,c='r')\n",
    "plt.show()"
   ]
  },
  {
   "cell_type": "markdown",
   "metadata": {
    "pycharm": {
     "name": "#%% md\n"
    }
   },
   "source": [
    "### 4.2 Evaluation of outlier detection algorithm using performance of classifer\n",
    "\n",
    "The intuition of collecting this dataset is to predict if a input person bolongs to high income group or not (>50K). So \n",
    "we employed two classification algorithm, trained and tested them using 5 fold validation. Both of the algorithm are trained\n",
    "on both the full training data and the training data without outliers, and thus by comparing their performance we can evaluate\n",
    "how outliers influences the classification process, and further evaluate the outlier detection algorithm.  \n",
    "The two algorithm include Support Vector Machine (LinearSVC) which in theory should be easily influenced by outliers and \n",
    "Random Forest (RandomForestClassfier) which has some natural immunity to outliers.\n",
    "\n",
    "After a 5 fold validation, we found out that for each classification algorithm, excluding outliers detected by IQR will \n",
    "introduce a minior loss in prediction accuracy, thus we conclude that detection outliers with interquantile range is not \n",
    "a feasible solution to this dataset. "
   ]
  },
  {
   "cell_type": "code",
   "execution_count": null,
   "metadata": {
    "pycharm": {
     "is_executing": false,
     "name": "#%%\n"
    }
   },
   "outputs": [],
   "source": [
    "iqr_outliers\n",
    "iqr_inliers\n",
    "shuffeled_out=iqr_outliers.sample(frac=1)\n",
    "out_lier_list=np.array_split(shuffeled_out,5)\n",
    "shuffeled_in=iqr_inliers.sample(frac=1)\n",
    "in_lier_list=np.array_split(shuffeled_in,5)\n",
    "\n",
    "def get_acc(classifier_name, train_x, train_y, test_x, test_y):\n",
    "    \"\"\"\n",
    "    calculate the accuracy trained with the given training data and return the accuracy evaluated using the given testing\n",
    "    data\n",
    "    :param classifier_name: a string indicating the target classifier algorithm, should be either 'SVM' or 'RF' \n",
    "    :param train_x: attributes of the training set\n",
    "    :param train_y: label of the training set\n",
    "    :param test_x: attributes of the testing set\n",
    "    :param test_y: label of the testing set\n",
    "    :return: the accuracy evaluated on the testing set\n",
    "    \"\"\"\n",
    "    if classifier_name == 'SVM':\n",
    "        classifier_ = LinearSVC(max_iter=5000)\n",
    "    else:\n",
    "        classifier_ = RandomForestClassifier(n_estimators=50, max_depth=5)\n",
    "    classifier_.fit(train_x, train_y)\n",
    "    return classifier_.score(test_x, test_y)\n",
    "svm_all = []\n",
    "svm_inlier = []\n",
    "rf_all = []\n",
    "rf_inlier = []\n",
    "for i in range(5):\n",
    "    test = [out_lier_list[i],in_lier_list[i]]\n",
    "    test_ = pd.concat(test)\n",
    "    train = out_lier_list[0:i]+out_lier_list[i+1:5]+in_lier_list[0:i]+in_lier_list[i+1:5]\n",
    "    train_ = pd.concat(train)\n",
    "    train_inliers = train_.loc[train_['out_lier']==0]\n",
    "    svm_all.append(get_acc('SVM',\n",
    "                           train_x=train_.drop(columns=['out_lier','>50K']),\n",
    "                           train_y=train_['>50K'],\n",
    "                           test_x=test_.drop(columns=['out_lier','>50K']),\n",
    "                           test_y=test_['>50K']\n",
    "                           )\n",
    "                   )\n",
    "    svm_inlier.append(get_acc('SVM',\n",
    "                           train_x=train_inliers.drop(columns=['out_lier','>50K']),\n",
    "                           train_y=train_inliers['>50K'],\n",
    "                           test_x=test_.drop(columns=['out_lier','>50K']),\n",
    "                           test_y=test_['>50K']\n",
    "                           )\n",
    "                   )\n",
    "    rf_all.append(get_acc('RF',\n",
    "                           train_x=train_.drop(columns=['out_lier','>50K']),\n",
    "                           train_y=train_['>50K'],\n",
    "                           test_x=test_.drop(columns=['out_lier','>50K']),\n",
    "                           test_y=test_['>50K']\n",
    "                           )\n",
    "                   )\n",
    "    rf_inlier.append(get_acc('RF',\n",
    "                           train_x=train_inliers.drop(columns=['out_lier','>50K']),\n",
    "                           train_y=train_inliers['>50K'],\n",
    "                           test_x=test_.drop(columns=['out_lier','>50K']),\n",
    "                           test_y=test_['>50K']\n",
    "                           )\n",
    "                   )"
   ]
  },
  {
   "cell_type": "code",
   "execution_count": null,
   "metadata": {
    "pycharm": {
     "is_executing": false,
     "name": "#%%\n"
    }
   },
   "outputs": [],
   "source": [
    "def mean(lst):\n",
    "    return sum(lst)/float(len(lst))\n",
    "print(\"svm with all training data average accuracy \"+ str(mean(svm_all)))\n",
    "print(\"svm with commoner training data average accuracy \"+ str(mean(svm_inlier)))\n",
    "print(\"RandomForest with all training data average accuracy \"+ str(mean(rf_all)))\n",
    "print(\"RandomForest with commoner training data average accuracy \"+ str(mean(rf_inlier)))"
   ]
  },
  {
   "cell_type": "markdown",
   "metadata": {
    "pycharm": {
     "name": "#%% md\n"
    }
   },
   "source": [
    "# Reference\n",
    "    [1] Kaggle adult census income dataset. Date accessed: Sept. 2019. url: https://www.kaggle.com/uciml/adult-census-income\n",
    "    [2] Haojun Zhu, Predicting Earning Potential using the Adult Dataset. Dec. 2016. url: https://rstudio-pubs-static.s3.amazonaws.com/235617_51e06fa6c43b47d1b6daca2523b2f9e4.html\n",
    "    [3] Bui Dinh Chien, Jean-Daniel Zucker, Complex Data Mining Project. Date accessed: Sept. 2019. url: https://sites.google.com/site/complexdataminingproject/."
   ]
  }
 ],
 "metadata": {
  "kernelspec": {
   "display_name": "Python 3",
   "language": "python",
   "name": "python3"
  },
  "language_info": {
   "codemirror_mode": {
    "name": "ipython",
    "version": 3
   },
   "file_extension": ".py",
   "mimetype": "text/x-python",
   "name": "python",
   "nbconvert_exporter": "python",
   "pygments_lexer": "ipython3",
   "version": "3.7.4"
  },
  "pycharm": {
   "stem_cell": {
    "cell_type": "raw",
    "metadata": {
     "collapsed": false
    },
    "source": []
   }
  }
 },
 "nbformat": 4,
 "nbformat_minor": 2
}
