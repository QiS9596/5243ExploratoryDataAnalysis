{
 "cells": [
  {
   "cell_type": "code",
   "execution_count": 1,
   "metadata": {
    "pycharm": {
     "is_executing": false
    }
   },
   "outputs": [],
   "source": [
    "import pathlib\n",
    "import urllib\n",
    "import sys\n",
    "import pandas as pd\n",
    "import numpy as np\n",
    "from scipy.stats import trim_mean, iqr, skew, kurtosis\n",
    "import sklearn.decomposition as deco\n",
    "from sklearn.svm import LinearSVC\n",
    "from sklearn.ensemble import RandomForestClassifier\n",
    "import matplotlib.pyplot as plt\n",
    "from mpl_toolkits.mplot3d import Axes3D"
   ]
  },
  {
   "cell_type": "markdown",
   "source": [
    "# 1. Collect data"
   ],
   "metadata": {
    "collapsed": false,
    "pycharm": {
     "name": "#%% md\n"
    }
   }
  },
  {
   "cell_type": "code",
   "execution_count": 2,
   "metadata": {
    "pycharm": {
     "is_executing": false
    }
   },
   "outputs": [
    {
     "name": "stdout",
     "text": [
      "adult dataset found!\n"
     ],
     "output_type": "stream"
    }
   ],
   "source": [
    "path = pathlib.Path('../data/adult.csv')\n",
    "if path.exists():\n",
    "    print('adult dataset found!')\n",
    "else:\n",
    "    sys.stdout.write('Downloading the adult dataset from the Internet...')\n",
    "    ADULTURL = \"https://archive.ics.uci.edu/ml/machine-learning-databases/adult/adult.data\"\n",
    "    urllib.request.urlretrieve(ADULTURL, path.absolute())\n",
    "    sys.stdout.write('Done!')"
   ]
  },
  {
   "cell_type": "markdown",
   "source": [
    "# 2. Understand the data in context\n"
   ],
   "metadata": {
    "collapsed": false,
    "pycharm": {
     "name": "#%% md\n"
    }
   }
  },
  {
   "cell_type": "code",
   "execution_count": 3,
   "metadata": {
    "pycharm": {
     "is_executing": false
    }
   },
   "outputs": [
    {
     "name": "stdout",
     "text": [
      " Some-college\n HS-grad\n Assoc-acdm\n 7th-8th\n Bachelors\n Masters\n Prof-school\n 10th\n 5th-6th\n 11th\n 1st-4th\n 9th\n Doctorate\n Preschool\n 12th\n Assoc-voc\n"
     ],
     "output_type": "stream"
    }
   ],
   "source": [
    "# Load the adult dataset into a Pandas dataframe\n",
    "adult_columns = ['age', 'workclass', 'fnlwgt', 'education', 'education-num', 'marital-status', 'occupation', 'relationship', 'race', 'sex', 'capital-gain', 'capital-loss', 'hours-per-week', 'native-country', '>50K']\n",
    "adult = pd.read_csv(path.absolute(),names=adult_columns)\n",
    "for i in set(adult['education']):\n",
    "    print(i)"
   ]
  },
  {
   "cell_type": "markdown",
   "source": [
    "# 3. Understand the data\n",
    "### 3.1 Describe the meansing and type for each attribute\n",
    " - **age**: numeric, continuous. \n",
    " - **workclass**: categorical, discrete.\n",
    " - **fnlwgt**: numeric, continuous\n",
    " - **education**: ordinal, discrete\n",
    " - **education-num**: numeric, continuous\n",
    " - **marital-status**: categorical, discrete\n",
    " - **occupation**: categorical, discrete\n",
    " - **relationship**: categorical, discrete\n",
    " - **race**: categorical, discrete\n",
    " - **sex**: categorical, binary\n",
    " - **capital-gain**: numeric, continuous\n",
    " - **capital-loss**: numeric, continuous\n",
    " - **hours-per-week**: numeric, continuous\n",
    " - **native-country**: categorical, discrete\n",
    " - **>50k**: categorical, binary\n",
    "\n",
    "*3.1 subsection: explanation for non-self-explanatory attributes*\n",
    " - **fnlwgt**: represents final weight. according to [2], it's the number of units that this record could represent in the \n",
    " target population. In [1], the author explained that the final weight is controlled by three factors: a single cell estimatation\n",
    " of the population 16+ for each state; controls for Hispanic Origin by age and sex; controls by race, age and sex.\n",
    " - **education_num**: represents the number of years of education in total.[2]\n",
    " - **relationship**: represents the individual's role in it's family.[2]\n",
    " - **capital_gain** and **capital_loss**: represents the income and loss from non-salary ways, e.g. investment.[2]\n",
    " - **education**: due to lack of domain knowledge in U.S. education system, we decided to refer to [3].\n",
    " In which they order the education level in the following manner:  \n",
    " Preschool < 1st-4th < 5th-6th < 7th-8th < 9th < 10th < 11th < 12th < HS-grad < Prof-school < Assoc-acdm < Assoc-voc < Some-college < Bachelors < Masters < Doctorate.  \n",
    " [3] further merges  \"Preschool\", \"1st-4th\", \"5th-6th\", \"7th-8th\", \"9th\", \"10th\", \"11th\" and \"12th\" groups to \"dropout\" group,\n",
    " \"Assoc-acdm\" and \"Assoc-voc\" groups to \"Associates\" group,“HS-grad” and “Some-college” groups to “HS-Graduate” group.  \n",
    " For us, we would adopt this strategy, merging Prof-school into HS-Graduate group, and instead of arranging the education\n",
    " level like shown above, we have the following order:  \n",
    " dropout < hs-graduate < associates < bachelor < master < doctorate.\n",
    " \n",
    "### 3.2 Verify data quality\n",
    "#### 3.2.1 duplication"
   ],
   "metadata": {
    "collapsed": false,
    "pycharm": {
     "name": "#%% md\n"
    }
   }
  },
  {
   "cell_type": "code",
   "execution_count": 4,
   "outputs": [
    {
     "name": "stdout",
     "text": [
      "There are 24 duplicated data entries found.(One copy of the data entry will be kept in the dataset)\nAfter drop duplicate, there are 32537 data entries remains.\n"
     ],
     "output_type": "stream"
    }
   ],
   "source": [
    "# Check duplication and drop duplication via pandas built in function\n",
    "check_duplication = adult.duplicated()\n",
    "duplicated = adult[check_duplication]\n",
    "print(\"There are \"+str(len(duplicated.index))+\" duplicated data entries found.(One copy of the data entry will be kept in the dataset)\")\n",
    "adult = adult.drop_duplicates()\n",
    "print(\"After drop duplicate, there are \"+str(len(adult.index))+ \" data entries remains.\")\n",
    "adult = adult.reset_index(drop=True)"
   ],
   "metadata": {
    "collapsed": false,
    "pycharm": {
     "name": "#%%\n",
     "is_executing": false
    }
   }
  },
  {
   "cell_type": "markdown",
   "source": [
    "#### 3.2.2 missing values"
   ],
   "metadata": {
    "collapsed": false,
    "pycharm": {
     "name": "#%% md\n"
    }
   }
  },
  {
   "cell_type": "code",
   "execution_count": 5,
   "metadata": {
    "pycharm": {
     "is_executing": false
    }
   },
   "outputs": [],
   "source": [
    "# drop the indexes for which column has value '?'\n",
    "unknown_row =[]\n",
    "\n",
    "for i in range(len(adult.index)):\n",
    "    if ('?' in adult.iloc[i]['workclass']) or ('?' in adult.iloc[i]['occupation']) or ('?' in adult.iloc[i]['native-country']):\n",
    "        unknown_row.append(i)\n",
    "adult = adult.drop(index = unknown_row)\n",
    "adult = adult.reset_index(drop=True)"
   ]
  },
  {
   "cell_type": "code",
   "execution_count": 21,
   "outputs": [
    {
     "name": "stdout",
     "text": [
      "{' 10th', ' 7th-8th', ' Prof-school', ' 9th', ' 5th-6th', ' HS-grad', ' Some-college', ' Assoc-acdm', ' Bachelors', ' 12th', ' 1st-4th', ' Doctorate', ' Assoc-voc', ' 11th', ' Preschool', ' Masters'}\n"
     ],
     "output_type": "stream"
    }
   ],
   "source": [
    "print(set(adult['education']))\n",
    "# print(adult.loc[adult['education']==' Preschool'])\n",
    "# print(set(adult['education']))"
   ],
   "metadata": {
    "collapsed": false,
    "pycharm": {
     "name": "#%%\n",
     "is_executing": false
    }
   }
  },
  {
   "cell_type": "markdown",
   "source": [
    "#### 3.2.3 finding outliers\n",
    "\n",
    "To find outlier, we only focus on numeric values\n",
    "As we can see in the following, the calculated lower bound and upper bound for both capital_gain and capital loss is both\n",
    "0. In 3.3 section we will see that the median for these two value are 0 either. Which means in this dataset most of the people\n",
    "doesn't do investment and thus investment does not incur gain or loss to their income. So for this two attribute we just\n",
    "don't do anything to the outliers"
   ],
   "metadata": {
    "collapsed": false
   }
  },
  {
   "cell_type": "code",
   "execution_count": 6,
   "outputs": [
    {
     "name": "stdout",
     "text": [
      "By calculating interquantile range, we can get the expected lower/upper bound for each numeric value\nAs explained before we drop the catipal-gain and capital-loss condition, and thus we have\nlower bound as:\nage                  -0.5\nfnlwgt           -62338.0\neducation-num         3.0\nhours-per-week       32.5\ndtype: float64\nand upper bound as:\nage                   75.5\nfnlwgt            417570.0\neducation-num         19.0\nhours-per-week        52.5\ndtype: float64\nAfter reviewing this calculated lower and upper bound, we decided to change some of the value. Since the result\nvalue would be an outlier according to the interquantile range, but still a reasonable value in reality\nThe lower bound of hours-per-week is set to 20, which is the expected value for a part-time job\nThe upper bound of age is set to 85, which is longer than the life expectancy in U.S., and around the value of \nlife expectancy in Canada\nThe upper bound of hours-per-week is set to 72, which is calculated according to the 'famous' 9-9-6 working load\nin China.\nThe upper bound of education-num is set to 26, which is a little bit longer than the expected year of education of\na Ph.D., which is 6 years for elementary, 6 years for middle and high school, 4 year undergraduate, 2 year master\nand 5 year Ph.D. studentship, add up to 23 years.\nAfter applying such filter, we found 2774 outliers in the dataset, which is a pretty large portion of the dataset\nConsider the number of the outliers is quite big, we will just keep them inside the dataset and have a closer\nlook in section 4 Exceptional Work\n"
     ],
     "output_type": "stream"
    }
   ],
   "source": [
    "# we calculate interquantile range add use it as our guide line as detecting outlier\n",
    "\n",
    "adult_numrics = adult.select_dtypes(include=['int64'])\n",
    "Q1 = adult_numrics.quantile(0.25)\n",
    "Q3 = adult_numrics.quantile(0.75)\n",
    "iqr = Q3-Q1\n",
    "# print(iqr)\n",
    "# print(adult_numrics['capital-gain'])\n",
    "lower_bound = Q1 - 1.5 * iqr\n",
    "upper_bound = Q3 + 1.5 * iqr\n",
    "print(\"By calculating interquantile range, we can get the expected lower/upper bound for each numeric value\")\n",
    "adult_numrics = adult_numrics.drop(['capital-gain','capital-loss'],axis='columns')\n",
    "lower_bound.drop(['capital-gain','capital-loss'],inplace=True)\n",
    "upper_bound.drop(['capital-gain','capital-loss'],inplace=True)\n",
    "print(\"As explained before we drop the catipal-gain and capital-loss condition, and thus we have\")\n",
    "outliers = adult_numrics[((adult_numrics<lower_bound) | (adult_numrics>upper_bound)).any(axis=1)]\n",
    "print(\"lower bound as:\")\n",
    "print(lower_bound)\n",
    "print(\"and upper bound as:\")\n",
    "print(upper_bound)\n",
    "print(\"After reviewing this calculated lower and upper bound, we decided to change some of the value. Since the result\")\n",
    "print(\"value would be an outlier according to the interquantile range, but still a reasonable value in reality\")\n",
    "print(\"The lower bound of hours-per-week is set to 20, which is the expected value for a part-time job\")\n",
    "print(\"The upper bound of age is set to 85, which is longer than the life expectancy in U.S., and around the value of \")\n",
    "print(\"life expectancy in Canada\")\n",
    "print(\"The upper bound of hours-per-week is set to 72, which is calculated according to the \\'famous\\' 9-9-6 working load\")\n",
    "print(\"in China.\")\n",
    "print(\"The upper bound of education-num is set to 26, which is a little bit longer than the expected year of education of\")\n",
    "print(\"a Ph.D., which is 6 years for elementary, 6 years for middle and high school, 4 year undergraduate, 2 year master\")\n",
    "print(\"and 5 year Ph.D. studentship, add up to 23 years.\")\n",
    "\n",
    "lower_bound['hours-per-week'] = 20\n",
    "upper_bound['age']=85\n",
    "upper_bound['hours-per-week']=72\n",
    "upper_bound['education-num'] = 26\n",
    "outliers = adult_numrics[((adult_numrics<lower_bound) | (adult_numrics>upper_bound)).any(axis=1)]\n",
    "print(\"After applying such filter, we found %d outliers in the dataset, which is a pretty large portion of the dataset\"%len(outliers.index))\n",
    "adult_inliers = adult.drop(outliers.index)\n",
    "print(\"Consider the number of the outliers is quite big, we will just keep them inside the dataset and have a closer\")\n",
    "print(\"look in section 4 Exceptional Work\")"
   ],
   "metadata": {
    "collapsed": false,
    "pycharm": {
     "name": "#%%\n",
     "is_executing": false
    }
   }
  },
  {
   "cell_type": "code",
   "execution_count": 7,
   "metadata": {
    "pycharm": {
     "is_executing": false
    }
   },
   "outputs": [
    {
     "data": {
      "text/plain": "       age  fnlwgt  education  education-num  capital-gain  capital-loss  \\\n26510   57  201991          4             13             0             0   \n13975   36  184498          1              7             0             0   \n13431   23  256211          2             10             0             0   \n11427   37  249392          3             11             0             0   \n20716   49  240869          1              4             0             0   \n\n       hours-per-week  >50K  workclass_ Federal-gov  workclass_ Local-gov  \\\n26510              40     0                       0                     0   \n13975              40     0                       0                     0   \n13431              24     0                       0                     0   \n11427              40     1                       0                     1   \n20716              35     0                       0                     0   \n\n       ...  native-country_ Portugal  native-country_ Puerto-Rico  \\\n26510  ...                         0                            0   \n13975  ...                         0                            0   \n13431  ...                         0                            0   \n11427  ...                         0                            0   \n20716  ...                         0                            0   \n\n       native-country_ Scotland  native-country_ South  \\\n26510                         0                      0   \n13975                         0                      0   \n13431                         0                      0   \n11427                         0                      0   \n20716                         0                      0   \n\n       native-country_ Taiwan  native-country_ Thailand  \\\n26510                       0                         0   \n13975                       0                         0   \n13431                       0                         0   \n11427                       0                         0   \n20716                       0                         0   \n\n       native-country_ Trinadad&Tobago  native-country_ United-States  \\\n26510                                0                              1   \n13975                                0                              1   \n13431                                0                              0   \n11427                                0                              1   \n20716                                0                              1   \n\n       native-country_ Vietnam  native-country_ Yugoslavia  \n26510                        0                           0  \n13975                        0                           0  \n13431                        1                           0  \n11427                        0                           0  \n20716                        0                           0  \n\n[5 rows x 90 columns]",
      "text/html": "<div>\n<style scoped>\n    .dataframe tbody tr th:only-of-type {\n        vertical-align: middle;\n    }\n\n    .dataframe tbody tr th {\n        vertical-align: top;\n    }\n\n    .dataframe thead th {\n        text-align: right;\n    }\n</style>\n<table border=\"1\" class=\"dataframe\">\n  <thead>\n    <tr style=\"text-align: right;\">\n      <th></th>\n      <th>age</th>\n      <th>fnlwgt</th>\n      <th>education</th>\n      <th>education-num</th>\n      <th>capital-gain</th>\n      <th>capital-loss</th>\n      <th>hours-per-week</th>\n      <th>&gt;50K</th>\n      <th>workclass_ Federal-gov</th>\n      <th>workclass_ Local-gov</th>\n      <th>...</th>\n      <th>native-country_ Portugal</th>\n      <th>native-country_ Puerto-Rico</th>\n      <th>native-country_ Scotland</th>\n      <th>native-country_ South</th>\n      <th>native-country_ Taiwan</th>\n      <th>native-country_ Thailand</th>\n      <th>native-country_ Trinadad&amp;Tobago</th>\n      <th>native-country_ United-States</th>\n      <th>native-country_ Vietnam</th>\n      <th>native-country_ Yugoslavia</th>\n    </tr>\n  </thead>\n  <tbody>\n    <tr>\n      <th>26510</th>\n      <td>57</td>\n      <td>201991</td>\n      <td>4</td>\n      <td>13</td>\n      <td>0</td>\n      <td>0</td>\n      <td>40</td>\n      <td>0</td>\n      <td>0</td>\n      <td>0</td>\n      <td>...</td>\n      <td>0</td>\n      <td>0</td>\n      <td>0</td>\n      <td>0</td>\n      <td>0</td>\n      <td>0</td>\n      <td>0</td>\n      <td>1</td>\n      <td>0</td>\n      <td>0</td>\n    </tr>\n    <tr>\n      <th>13975</th>\n      <td>36</td>\n      <td>184498</td>\n      <td>1</td>\n      <td>7</td>\n      <td>0</td>\n      <td>0</td>\n      <td>40</td>\n      <td>0</td>\n      <td>0</td>\n      <td>0</td>\n      <td>...</td>\n      <td>0</td>\n      <td>0</td>\n      <td>0</td>\n      <td>0</td>\n      <td>0</td>\n      <td>0</td>\n      <td>0</td>\n      <td>1</td>\n      <td>0</td>\n      <td>0</td>\n    </tr>\n    <tr>\n      <th>13431</th>\n      <td>23</td>\n      <td>256211</td>\n      <td>2</td>\n      <td>10</td>\n      <td>0</td>\n      <td>0</td>\n      <td>24</td>\n      <td>0</td>\n      <td>0</td>\n      <td>0</td>\n      <td>...</td>\n      <td>0</td>\n      <td>0</td>\n      <td>0</td>\n      <td>0</td>\n      <td>0</td>\n      <td>0</td>\n      <td>0</td>\n      <td>0</td>\n      <td>1</td>\n      <td>0</td>\n    </tr>\n    <tr>\n      <th>11427</th>\n      <td>37</td>\n      <td>249392</td>\n      <td>3</td>\n      <td>11</td>\n      <td>0</td>\n      <td>0</td>\n      <td>40</td>\n      <td>1</td>\n      <td>0</td>\n      <td>1</td>\n      <td>...</td>\n      <td>0</td>\n      <td>0</td>\n      <td>0</td>\n      <td>0</td>\n      <td>0</td>\n      <td>0</td>\n      <td>0</td>\n      <td>1</td>\n      <td>0</td>\n      <td>0</td>\n    </tr>\n    <tr>\n      <th>20716</th>\n      <td>49</td>\n      <td>240869</td>\n      <td>1</td>\n      <td>4</td>\n      <td>0</td>\n      <td>0</td>\n      <td>35</td>\n      <td>0</td>\n      <td>0</td>\n      <td>0</td>\n      <td>...</td>\n      <td>0</td>\n      <td>0</td>\n      <td>0</td>\n      <td>0</td>\n      <td>0</td>\n      <td>0</td>\n      <td>0</td>\n      <td>1</td>\n      <td>0</td>\n      <td>0</td>\n    </tr>\n  </tbody>\n</table>\n<p>5 rows × 90 columns</p>\n</div>"
     },
     "metadata": {},
     "output_type": "execute_result",
     "execution_count": 7
    }
   ],
   "source": [
    "\"\"\"\n",
    "Numericalize the categorical columns\n",
    "\"\"\"\n",
    "# mapping dictioniary for education row, we take education as a ordinal attribute, as was explained earlier\n",
    "education_mapping_dict = {' Preschool':1, ' 1st-4th':1, ' 5th-6th':1, ' 7th-8th':1, ' 9th':1, ' 10th':1, ' 11th':1, ' 12th':1,\n",
    "                          ' HS-grad':2, ' Prof-school':2, ' Some-college':2,\n",
    "                          ' Assoc-voc':3, ' Assoc-acdm':3,\n",
    "                          ' Bachelors':4,\n",
    "                          ' Masters':5,\n",
    "                          ' Doctorate':6}\n",
    "categorical_list=['workclass','marital-status','occupation','relationship','race','sex','native-country']\n",
    "def categorical_is_converted(input_dtype):\n",
    "    \"\"\"\n",
    "    check if the target categorical value is converted to some integer value\n",
    "    :param input_dtype: the datatype of the input column\n",
    "    :return: True if the dtype is some kind of integer, False otherwise\n",
    "    \"\"\"\n",
    "    return input_dtype in [np.int, np.int64, np.int32, np.long]\n",
    "def one_hot_batch(df, attribute_list,prefix_list=None):\n",
    "    \"\"\"\n",
    "    :param attribute_list: list of attributes that waiting to be one hotted \n",
    "    :param prefix_list: list of prefix for the attribute after one-hot representation, if not set, just use the attribute name\n",
    "    :return: False if unexpected input found, otherwise return the result dataframe\n",
    "    \"\"\"\n",
    "    if prefix_list is None:\n",
    "        prefix_list = attribute_list\n",
    "    if not len(attribute_list) == len(prefix_list):\n",
    "        return False\n",
    "    for i in range(len(attribute_list)):\n",
    "        if not categorical_is_converted(df[attribute_list[i]].dtype):\n",
    "            dummies = pd.get_dummies(df[attribute_list[i]], prefix=prefix_list[i])\n",
    "            df = df.drop(columns=[attribute_list[i]])\n",
    "            df = pd.concat([df,dummies], axis=1)\n",
    "    return df\n",
    "# map education to integers\n",
    "if not categorical_is_converted(adult['education'].dtype):\n",
    "    adult = adult.replace({'education': education_mapping_dict})\n",
    "# convert all non-ordinal categorical attribute using one-hot representation\n",
    "adult = one_hot_batch(adult, categorical_list)\n",
    "# map the prediction target: the ultimate income rank into integer. Since it's binary, we don't use one hot representation\n",
    "if not categorical_is_converted(adult['>50K'].dtype):\n",
    "    for i in range(len(adult.index)):\n",
    "        if '>50K' in adult.iloc[i]['>50K']:\n",
    "            adult.iloc[i, adult.columns.get_loc('>50K')] = 1\n",
    "        else:\n",
    "            adult.iloc[i,adult.columns.get_loc('>50K')] = 0\n",
    "adult.sample(5)"
   ]
  },
  {
   "cell_type": "code",
   "execution_count": 24,
   "metadata": {
    "scrolled": true,
    "pycharm": {
     "is_executing": false
    }
   },
   "outputs": [
    {
     "data": {
      "text/plain": "   age  fnlwgt  education  education-num  capital-gain  capital-loss  \\\n0   39   77516          4             13          2174             0   \n1   50   83311          4             13             0             0   \n2   38  215646          2              9             0             0   \n3   53  234721          1              7             0             0   \n4   28  338409          4             13             0             0   \n\n   hours-per-week  >50K  workclass_ Federal-gov  workclass_ Local-gov  ...  \\\n0              40     0                       0                     0  ...   \n1              13     0                       0                     0  ...   \n2              40     0                       0                     0  ...   \n3              40     0                       0                     0  ...   \n4              40     0                       0                     0  ...   \n\n   native-country_ Portugal  native-country_ Puerto-Rico  \\\n0                         0                            0   \n1                         0                            0   \n2                         0                            0   \n3                         0                            0   \n4                         0                            0   \n\n   native-country_ Scotland  native-country_ South  native-country_ Taiwan  \\\n0                         0                      0                       0   \n1                         0                      0                       0   \n2                         0                      0                       0   \n3                         0                      0                       0   \n4                         0                      0                       0   \n\n   native-country_ Thailand  native-country_ Trinadad&Tobago  \\\n0                         0                                0   \n1                         0                                0   \n2                         0                                0   \n3                         0                                0   \n4                         0                                0   \n\n   native-country_ United-States  native-country_ Vietnam  \\\n0                              1                        0   \n1                              1                        0   \n2                              1                        0   \n3                              1                        0   \n4                              0                        0   \n\n   native-country_ Yugoslavia  \n0                           0  \n1                           0  \n2                           0  \n3                           0  \n4                           0  \n\n[5 rows x 90 columns]",
      "text/html": "<div>\n<style scoped>\n    .dataframe tbody tr th:only-of-type {\n        vertical-align: middle;\n    }\n\n    .dataframe tbody tr th {\n        vertical-align: top;\n    }\n\n    .dataframe thead th {\n        text-align: right;\n    }\n</style>\n<table border=\"1\" class=\"dataframe\">\n  <thead>\n    <tr style=\"text-align: right;\">\n      <th></th>\n      <th>age</th>\n      <th>fnlwgt</th>\n      <th>education</th>\n      <th>education-num</th>\n      <th>capital-gain</th>\n      <th>capital-loss</th>\n      <th>hours-per-week</th>\n      <th>&gt;50K</th>\n      <th>workclass_ Federal-gov</th>\n      <th>workclass_ Local-gov</th>\n      <th>...</th>\n      <th>native-country_ Portugal</th>\n      <th>native-country_ Puerto-Rico</th>\n      <th>native-country_ Scotland</th>\n      <th>native-country_ South</th>\n      <th>native-country_ Taiwan</th>\n      <th>native-country_ Thailand</th>\n      <th>native-country_ Trinadad&amp;Tobago</th>\n      <th>native-country_ United-States</th>\n      <th>native-country_ Vietnam</th>\n      <th>native-country_ Yugoslavia</th>\n    </tr>\n  </thead>\n  <tbody>\n    <tr>\n      <th>0</th>\n      <td>39</td>\n      <td>77516</td>\n      <td>4</td>\n      <td>13</td>\n      <td>2174</td>\n      <td>0</td>\n      <td>40</td>\n      <td>0</td>\n      <td>0</td>\n      <td>0</td>\n      <td>...</td>\n      <td>0</td>\n      <td>0</td>\n      <td>0</td>\n      <td>0</td>\n      <td>0</td>\n      <td>0</td>\n      <td>0</td>\n      <td>1</td>\n      <td>0</td>\n      <td>0</td>\n    </tr>\n    <tr>\n      <th>1</th>\n      <td>50</td>\n      <td>83311</td>\n      <td>4</td>\n      <td>13</td>\n      <td>0</td>\n      <td>0</td>\n      <td>13</td>\n      <td>0</td>\n      <td>0</td>\n      <td>0</td>\n      <td>...</td>\n      <td>0</td>\n      <td>0</td>\n      <td>0</td>\n      <td>0</td>\n      <td>0</td>\n      <td>0</td>\n      <td>0</td>\n      <td>1</td>\n      <td>0</td>\n      <td>0</td>\n    </tr>\n    <tr>\n      <th>2</th>\n      <td>38</td>\n      <td>215646</td>\n      <td>2</td>\n      <td>9</td>\n      <td>0</td>\n      <td>0</td>\n      <td>40</td>\n      <td>0</td>\n      <td>0</td>\n      <td>0</td>\n      <td>...</td>\n      <td>0</td>\n      <td>0</td>\n      <td>0</td>\n      <td>0</td>\n      <td>0</td>\n      <td>0</td>\n      <td>0</td>\n      <td>1</td>\n      <td>0</td>\n      <td>0</td>\n    </tr>\n    <tr>\n      <th>3</th>\n      <td>53</td>\n      <td>234721</td>\n      <td>1</td>\n      <td>7</td>\n      <td>0</td>\n      <td>0</td>\n      <td>40</td>\n      <td>0</td>\n      <td>0</td>\n      <td>0</td>\n      <td>...</td>\n      <td>0</td>\n      <td>0</td>\n      <td>0</td>\n      <td>0</td>\n      <td>0</td>\n      <td>0</td>\n      <td>0</td>\n      <td>1</td>\n      <td>0</td>\n      <td>0</td>\n    </tr>\n    <tr>\n      <th>4</th>\n      <td>28</td>\n      <td>338409</td>\n      <td>4</td>\n      <td>13</td>\n      <td>0</td>\n      <td>0</td>\n      <td>40</td>\n      <td>0</td>\n      <td>0</td>\n      <td>0</td>\n      <td>...</td>\n      <td>0</td>\n      <td>0</td>\n      <td>0</td>\n      <td>0</td>\n      <td>0</td>\n      <td>0</td>\n      <td>0</td>\n      <td>0</td>\n      <td>0</td>\n      <td>0</td>\n    </tr>\n  </tbody>\n</table>\n<p>5 rows × 90 columns</p>\n</div>"
     },
     "metadata": {},
     "output_type": "execute_result",
     "execution_count": 24
    }
   ],
   "source": [
    "adult.head(5)"
   ]
  },
  {
   "cell_type": "markdown",
   "metadata": {},
   "source": [
    "### 1. Statistics about Numeric values"
   ]
  },
  {
   "cell_type": "code",
   "execution_count": 25,
   "metadata": {
    "pycharm": {
     "is_executing": false
    }
   },
   "outputs": [],
   "source": [
    "# select all columns with numeric values\n",
    "adult_numeric = adult.select_dtypes(include=np.number)"
   ]
  },
  {
   "cell_type": "code",
   "execution_count": 26,
   "metadata": {
    "pycharm": {
     "is_executing": false
    }
   },
   "outputs": [
    {
     "data": {
      "text/plain": "   age  fnlwgt  education  education-num  capital-gain  capital-loss  \\\n0   39   77516          4             13          2174             0   \n1   50   83311          4             13             0             0   \n2   38  215646          2              9             0             0   \n3   53  234721          1              7             0             0   \n4   28  338409          4             13             0             0   \n\n   hours-per-week  >50K  workclass_ Federal-gov  workclass_ Local-gov  ...  \\\n0              40     0                       0                     0  ...   \n1              13     0                       0                     0  ...   \n2              40     0                       0                     0  ...   \n3              40     0                       0                     0  ...   \n4              40     0                       0                     0  ...   \n\n   native-country_ Portugal  native-country_ Puerto-Rico  \\\n0                         0                            0   \n1                         0                            0   \n2                         0                            0   \n3                         0                            0   \n4                         0                            0   \n\n   native-country_ Scotland  native-country_ South  native-country_ Taiwan  \\\n0                         0                      0                       0   \n1                         0                      0                       0   \n2                         0                      0                       0   \n3                         0                      0                       0   \n4                         0                      0                       0   \n\n   native-country_ Thailand  native-country_ Trinadad&Tobago  \\\n0                         0                                0   \n1                         0                                0   \n2                         0                                0   \n3                         0                                0   \n4                         0                                0   \n\n   native-country_ United-States  native-country_ Vietnam  \\\n0                              1                        0   \n1                              1                        0   \n2                              1                        0   \n3                              1                        0   \n4                              0                        0   \n\n   native-country_ Yugoslavia  \n0                           0  \n1                           0  \n2                           0  \n3                           0  \n4                           0  \n\n[5 rows x 90 columns]",
      "text/html": "<div>\n<style scoped>\n    .dataframe tbody tr th:only-of-type {\n        vertical-align: middle;\n    }\n\n    .dataframe tbody tr th {\n        vertical-align: top;\n    }\n\n    .dataframe thead th {\n        text-align: right;\n    }\n</style>\n<table border=\"1\" class=\"dataframe\">\n  <thead>\n    <tr style=\"text-align: right;\">\n      <th></th>\n      <th>age</th>\n      <th>fnlwgt</th>\n      <th>education</th>\n      <th>education-num</th>\n      <th>capital-gain</th>\n      <th>capital-loss</th>\n      <th>hours-per-week</th>\n      <th>&gt;50K</th>\n      <th>workclass_ Federal-gov</th>\n      <th>workclass_ Local-gov</th>\n      <th>...</th>\n      <th>native-country_ Portugal</th>\n      <th>native-country_ Puerto-Rico</th>\n      <th>native-country_ Scotland</th>\n      <th>native-country_ South</th>\n      <th>native-country_ Taiwan</th>\n      <th>native-country_ Thailand</th>\n      <th>native-country_ Trinadad&amp;Tobago</th>\n      <th>native-country_ United-States</th>\n      <th>native-country_ Vietnam</th>\n      <th>native-country_ Yugoslavia</th>\n    </tr>\n  </thead>\n  <tbody>\n    <tr>\n      <th>0</th>\n      <td>39</td>\n      <td>77516</td>\n      <td>4</td>\n      <td>13</td>\n      <td>2174</td>\n      <td>0</td>\n      <td>40</td>\n      <td>0</td>\n      <td>0</td>\n      <td>0</td>\n      <td>...</td>\n      <td>0</td>\n      <td>0</td>\n      <td>0</td>\n      <td>0</td>\n      <td>0</td>\n      <td>0</td>\n      <td>0</td>\n      <td>1</td>\n      <td>0</td>\n      <td>0</td>\n    </tr>\n    <tr>\n      <th>1</th>\n      <td>50</td>\n      <td>83311</td>\n      <td>4</td>\n      <td>13</td>\n      <td>0</td>\n      <td>0</td>\n      <td>13</td>\n      <td>0</td>\n      <td>0</td>\n      <td>0</td>\n      <td>...</td>\n      <td>0</td>\n      <td>0</td>\n      <td>0</td>\n      <td>0</td>\n      <td>0</td>\n      <td>0</td>\n      <td>0</td>\n      <td>1</td>\n      <td>0</td>\n      <td>0</td>\n    </tr>\n    <tr>\n      <th>2</th>\n      <td>38</td>\n      <td>215646</td>\n      <td>2</td>\n      <td>9</td>\n      <td>0</td>\n      <td>0</td>\n      <td>40</td>\n      <td>0</td>\n      <td>0</td>\n      <td>0</td>\n      <td>...</td>\n      <td>0</td>\n      <td>0</td>\n      <td>0</td>\n      <td>0</td>\n      <td>0</td>\n      <td>0</td>\n      <td>0</td>\n      <td>1</td>\n      <td>0</td>\n      <td>0</td>\n    </tr>\n    <tr>\n      <th>3</th>\n      <td>53</td>\n      <td>234721</td>\n      <td>1</td>\n      <td>7</td>\n      <td>0</td>\n      <td>0</td>\n      <td>40</td>\n      <td>0</td>\n      <td>0</td>\n      <td>0</td>\n      <td>...</td>\n      <td>0</td>\n      <td>0</td>\n      <td>0</td>\n      <td>0</td>\n      <td>0</td>\n      <td>0</td>\n      <td>0</td>\n      <td>1</td>\n      <td>0</td>\n      <td>0</td>\n    </tr>\n    <tr>\n      <th>4</th>\n      <td>28</td>\n      <td>338409</td>\n      <td>4</td>\n      <td>13</td>\n      <td>0</td>\n      <td>0</td>\n      <td>40</td>\n      <td>0</td>\n      <td>0</td>\n      <td>0</td>\n      <td>...</td>\n      <td>0</td>\n      <td>0</td>\n      <td>0</td>\n      <td>0</td>\n      <td>0</td>\n      <td>0</td>\n      <td>0</td>\n      <td>0</td>\n      <td>0</td>\n      <td>0</td>\n    </tr>\n  </tbody>\n</table>\n<p>5 rows × 90 columns</p>\n</div>"
     },
     "metadata": {},
     "output_type": "execute_result",
     "execution_count": 26
    }
   ],
   "source": [
    "adult_numeric.head(5)"
   ]
  },
  {
   "cell_type": "code",
   "execution_count": 27,
   "metadata": {
    "pycharm": {
     "is_executing": false
    }
   },
   "outputs": [
    {
     "data": {
      "text/plain": "                            age        fnlwgt  education  education-num  \\\nmean                  38.441720  1.897950e+05   2.499054      10.122532   \nmedian                37.000000  1.784170e+05   2.000000      10.000000   \nmode                  36.000000  2.034880e+05   2.000000       9.000000   \ntrimmed mean (p=20%)  37.364999  1.775251e+05   2.240365      10.025104   \nmin                   17.000000  1.376900e+04   1.000000       1.000000   \nmax                   90.000000  1.484705e+06   6.000000      16.000000   \nrange                 73.000000  1.470936e+06   5.000000      15.000000   \nstd                   13.131426  1.056586e+05   1.142607       2.548738   \n\n                      capital-gain  capital-loss  hours-per-week      >50K  \\\nmean                   1092.841202     88.439928       40.934703  0.249046   \nmedian                    0.000000      0.000000       40.000000  0.000000   \nmode                      0.000000      0.000000       40.000000  0.000000   \ntrimmed mean (p=20%)      0.000000      0.000000       40.860879  0.081780   \nmin                       0.000000      0.000000        1.000000  0.000000   \nmax                   99999.000000   4356.000000       99.000000  1.000000   \nrange                 99999.000000   4356.000000       98.000000  1.000000   \nstd                    7409.110596    404.445239       11.978753  0.432468   \n\n                      workclass_ Federal-gov  workclass_ Local-gov  ...  \\\nmean                                0.031288              0.068582  ...   \nmedian                              0.000000              0.000000  ...   \nmode                                0.000000              0.000000  ...   \ntrimmed mean (p=20%)                0.000000              0.000000  ...   \nmin                                 0.000000              0.000000  ...   \nmax                                 1.000000              1.000000  ...   \nrange                               1.000000              1.000000  ...   \nstd                                 0.174099              0.252747  ...   \n\n                      native-country_ Portugal  native-country_ Puerto-Rico  \\\nmean                                  0.001128                     0.003617   \nmedian                                0.000000                     0.000000   \nmode                                  0.000000                     0.000000   \ntrimmed mean (p=20%)                  0.000000                     0.000000   \nmin                                   0.000000                     0.000000   \nmax                                   1.000000                     1.000000   \nrange                                 1.000000                     1.000000   \nstd                                   0.033569                     0.060030   \n\n                      native-country_ Scotland  native-country_ South  \\\nmean                                  0.000365               0.002356   \nmedian                                0.000000               0.000000   \nmode                                  0.000000               0.000000   \ntrimmed mean (p=20%)                  0.000000               0.000000   \nmin                                   0.000000               0.000000   \nmax                                   1.000000               1.000000   \nrange                                 1.000000               1.000000   \nstd                                   0.019101               0.048480   \n\n                      native-country_ Taiwan  native-country_ Thailand  \\\nmean                                0.001394                  0.000564   \nmedian                              0.000000                  0.000000   \nmode                                0.000000                  0.000000   \ntrimmed mean (p=20%)                0.000000                  0.000000   \nmin                                 0.000000                  0.000000   \nmax                                 1.000000                  1.000000   \nrange                               1.000000                  1.000000   \nstd                                 0.037305                  0.023743   \n\n                      native-country_ Trinadad&Tobago  \\\nmean                                         0.000597   \nmedian                                       0.000000   \nmode                                         0.000000   \ntrimmed mean (p=20%)                         0.000000   \nmin                                          0.000000   \nmax                                          1.000000   \nrange                                        1.000000   \nstd                                          0.024431   \n\n                      native-country_ United-States  native-country_ Vietnam  \\\nmean                                       0.912008                 0.002123   \nmedian                                     1.000000                 0.000000   \nmode                                       1.000000                 0.000000   \ntrimmed mean (p=20%)                       1.000000                 0.000000   \nmin                                        0.000000                 0.000000   \nmax                                        1.000000                 1.000000   \nrange                                      1.000000                 1.000000   \nstd                                        0.283288                 0.046033   \n\n                      native-country_ Yugoslavia  \nmean                                    0.000531  \nmedian                                  0.000000  \nmode                                    0.000000  \ntrimmed mean (p=20%)                    0.000000  \nmin                                     0.000000  \nmax                                     1.000000  \nrange                                   1.000000  \nstd                                     0.023035  \n\n[8 rows x 90 columns]",
      "text/html": "<div>\n<style scoped>\n    .dataframe tbody tr th:only-of-type {\n        vertical-align: middle;\n    }\n\n    .dataframe tbody tr th {\n        vertical-align: top;\n    }\n\n    .dataframe thead th {\n        text-align: right;\n    }\n</style>\n<table border=\"1\" class=\"dataframe\">\n  <thead>\n    <tr style=\"text-align: right;\">\n      <th></th>\n      <th>age</th>\n      <th>fnlwgt</th>\n      <th>education</th>\n      <th>education-num</th>\n      <th>capital-gain</th>\n      <th>capital-loss</th>\n      <th>hours-per-week</th>\n      <th>&gt;50K</th>\n      <th>workclass_ Federal-gov</th>\n      <th>workclass_ Local-gov</th>\n      <th>...</th>\n      <th>native-country_ Portugal</th>\n      <th>native-country_ Puerto-Rico</th>\n      <th>native-country_ Scotland</th>\n      <th>native-country_ South</th>\n      <th>native-country_ Taiwan</th>\n      <th>native-country_ Thailand</th>\n      <th>native-country_ Trinadad&amp;Tobago</th>\n      <th>native-country_ United-States</th>\n      <th>native-country_ Vietnam</th>\n      <th>native-country_ Yugoslavia</th>\n    </tr>\n  </thead>\n  <tbody>\n    <tr>\n      <th>mean</th>\n      <td>38.441720</td>\n      <td>1.897950e+05</td>\n      <td>2.499054</td>\n      <td>10.122532</td>\n      <td>1092.841202</td>\n      <td>88.439928</td>\n      <td>40.934703</td>\n      <td>0.249046</td>\n      <td>0.031288</td>\n      <td>0.068582</td>\n      <td>...</td>\n      <td>0.001128</td>\n      <td>0.003617</td>\n      <td>0.000365</td>\n      <td>0.002356</td>\n      <td>0.001394</td>\n      <td>0.000564</td>\n      <td>0.000597</td>\n      <td>0.912008</td>\n      <td>0.002123</td>\n      <td>0.000531</td>\n    </tr>\n    <tr>\n      <th>median</th>\n      <td>37.000000</td>\n      <td>1.784170e+05</td>\n      <td>2.000000</td>\n      <td>10.000000</td>\n      <td>0.000000</td>\n      <td>0.000000</td>\n      <td>40.000000</td>\n      <td>0.000000</td>\n      <td>0.000000</td>\n      <td>0.000000</td>\n      <td>...</td>\n      <td>0.000000</td>\n      <td>0.000000</td>\n      <td>0.000000</td>\n      <td>0.000000</td>\n      <td>0.000000</td>\n      <td>0.000000</td>\n      <td>0.000000</td>\n      <td>1.000000</td>\n      <td>0.000000</td>\n      <td>0.000000</td>\n    </tr>\n    <tr>\n      <th>mode</th>\n      <td>36.000000</td>\n      <td>2.034880e+05</td>\n      <td>2.000000</td>\n      <td>9.000000</td>\n      <td>0.000000</td>\n      <td>0.000000</td>\n      <td>40.000000</td>\n      <td>0.000000</td>\n      <td>0.000000</td>\n      <td>0.000000</td>\n      <td>...</td>\n      <td>0.000000</td>\n      <td>0.000000</td>\n      <td>0.000000</td>\n      <td>0.000000</td>\n      <td>0.000000</td>\n      <td>0.000000</td>\n      <td>0.000000</td>\n      <td>1.000000</td>\n      <td>0.000000</td>\n      <td>0.000000</td>\n    </tr>\n    <tr>\n      <th>trimmed mean (p=20%)</th>\n      <td>37.364999</td>\n      <td>1.775251e+05</td>\n      <td>2.240365</td>\n      <td>10.025104</td>\n      <td>0.000000</td>\n      <td>0.000000</td>\n      <td>40.860879</td>\n      <td>0.081780</td>\n      <td>0.000000</td>\n      <td>0.000000</td>\n      <td>...</td>\n      <td>0.000000</td>\n      <td>0.000000</td>\n      <td>0.000000</td>\n      <td>0.000000</td>\n      <td>0.000000</td>\n      <td>0.000000</td>\n      <td>0.000000</td>\n      <td>1.000000</td>\n      <td>0.000000</td>\n      <td>0.000000</td>\n    </tr>\n    <tr>\n      <th>min</th>\n      <td>17.000000</td>\n      <td>1.376900e+04</td>\n      <td>1.000000</td>\n      <td>1.000000</td>\n      <td>0.000000</td>\n      <td>0.000000</td>\n      <td>1.000000</td>\n      <td>0.000000</td>\n      <td>0.000000</td>\n      <td>0.000000</td>\n      <td>...</td>\n      <td>0.000000</td>\n      <td>0.000000</td>\n      <td>0.000000</td>\n      <td>0.000000</td>\n      <td>0.000000</td>\n      <td>0.000000</td>\n      <td>0.000000</td>\n      <td>0.000000</td>\n      <td>0.000000</td>\n      <td>0.000000</td>\n    </tr>\n    <tr>\n      <th>max</th>\n      <td>90.000000</td>\n      <td>1.484705e+06</td>\n      <td>6.000000</td>\n      <td>16.000000</td>\n      <td>99999.000000</td>\n      <td>4356.000000</td>\n      <td>99.000000</td>\n      <td>1.000000</td>\n      <td>1.000000</td>\n      <td>1.000000</td>\n      <td>...</td>\n      <td>1.000000</td>\n      <td>1.000000</td>\n      <td>1.000000</td>\n      <td>1.000000</td>\n      <td>1.000000</td>\n      <td>1.000000</td>\n      <td>1.000000</td>\n      <td>1.000000</td>\n      <td>1.000000</td>\n      <td>1.000000</td>\n    </tr>\n    <tr>\n      <th>range</th>\n      <td>73.000000</td>\n      <td>1.470936e+06</td>\n      <td>5.000000</td>\n      <td>15.000000</td>\n      <td>99999.000000</td>\n      <td>4356.000000</td>\n      <td>98.000000</td>\n      <td>1.000000</td>\n      <td>1.000000</td>\n      <td>1.000000</td>\n      <td>...</td>\n      <td>1.000000</td>\n      <td>1.000000</td>\n      <td>1.000000</td>\n      <td>1.000000</td>\n      <td>1.000000</td>\n      <td>1.000000</td>\n      <td>1.000000</td>\n      <td>1.000000</td>\n      <td>1.000000</td>\n      <td>1.000000</td>\n    </tr>\n    <tr>\n      <th>std</th>\n      <td>13.131426</td>\n      <td>1.056586e+05</td>\n      <td>1.142607</td>\n      <td>2.548738</td>\n      <td>7409.110596</td>\n      <td>404.445239</td>\n      <td>11.978753</td>\n      <td>0.432468</td>\n      <td>0.174099</td>\n      <td>0.252747</td>\n      <td>...</td>\n      <td>0.033569</td>\n      <td>0.060030</td>\n      <td>0.019101</td>\n      <td>0.048480</td>\n      <td>0.037305</td>\n      <td>0.023743</td>\n      <td>0.024431</td>\n      <td>0.283288</td>\n      <td>0.046033</td>\n      <td>0.023035</td>\n    </tr>\n  </tbody>\n</table>\n<p>8 rows × 90 columns</p>\n</div>"
     },
     "metadata": {},
     "output_type": "execute_result",
     "execution_count": 27
    }
   ],
   "source": [
    "cnames = ['mean', 'median', 'mode', 'trimmed mean (p=20%)', 'min', 'max', 'range', 'std']\n",
    "adult_numeric.agg(lambda x: pd.Series([np.mean(x), np.median(x),x.mode()[0], trim_mean(x, 0.2),x.min(),x.max(),x.max()-x.min(),x.std()], index=cnames))"
   ]
  },
  {
   "cell_type": "markdown",
   "metadata": {},
   "source": [
    "### 2. Statistics about Categorical values"
   ]
  },
  {
   "cell_type": "code",
   "execution_count": 28,
   "metadata": {
    "pycharm": {
     "is_executing": false
    }
   },
   "outputs": [],
   "source": [
    "# select all columns with categorical values\n",
    "adult_categorical = adult.select_dtypes(include=['object'])"
   ]
  },
  {
   "cell_type": "code",
   "execution_count": 29,
   "metadata": {
    "pycharm": {
     "is_executing": false
    }
   },
   "outputs": [
    {
     "data": {
      "text/plain": "Empty DataFrame\nColumns: []\nIndex: [0, 1, 2, 3, 4]",
      "text/html": "<div>\n<style scoped>\n    .dataframe tbody tr th:only-of-type {\n        vertical-align: middle;\n    }\n\n    .dataframe tbody tr th {\n        vertical-align: top;\n    }\n\n    .dataframe thead th {\n        text-align: right;\n    }\n</style>\n<table border=\"1\" class=\"dataframe\">\n  <thead>\n    <tr style=\"text-align: right;\">\n      <th></th>\n    </tr>\n  </thead>\n  <tbody>\n    <tr>\n      <th>0</th>\n    </tr>\n    <tr>\n      <th>1</th>\n    </tr>\n    <tr>\n      <th>2</th>\n    </tr>\n    <tr>\n      <th>3</th>\n    </tr>\n    <tr>\n      <th>4</th>\n    </tr>\n  </tbody>\n</table>\n</div>"
     },
     "metadata": {},
     "output_type": "execute_result",
     "execution_count": 29
    }
   ],
   "source": [
    "adult_categorical.head(5)"
   ]
  },
  {
   "cell_type": "code",
   "execution_count": 30,
   "metadata": {
    "pycharm": {
     "is_executing": false
    }
   },
   "outputs": [
    {
     "data": {
      "text/plain": "[]"
     },
     "metadata": {},
     "output_type": "execute_result",
     "execution_count": 30
    }
   ],
   "source": [
    "cnames = adult_categorical.columns.tolist()\n",
    "cnames"
   ]
  },
  {
   "cell_type": "code",
   "execution_count": 31,
   "metadata": {
    "pycharm": {
     "is_executing": false
    }
   },
   "outputs": [
    {
     "traceback": [
      "\u001b[1;31m---------------------------------------------------------------------------\u001b[0m",
      "\u001b[1;31mKeyError\u001b[0m                                  Traceback (most recent call last)",
      "\u001b[1;32m~\\venv\\lib\\site-packages\\pandas\\core\\indexes\\base.py\u001b[0m in \u001b[0;36mget_loc\u001b[1;34m(self, key, method, tolerance)\u001b[0m\n\u001b[0;32m   2889\u001b[0m             \u001b[1;32mtry\u001b[0m\u001b[1;33m:\u001b[0m\u001b[1;33m\u001b[0m\u001b[0m\n\u001b[1;32m-> 2890\u001b[1;33m                 \u001b[1;32mreturn\u001b[0m \u001b[0mself\u001b[0m\u001b[1;33m.\u001b[0m\u001b[0m_engine\u001b[0m\u001b[1;33m.\u001b[0m\u001b[0mget_loc\u001b[0m\u001b[1;33m(\u001b[0m\u001b[0mkey\u001b[0m\u001b[1;33m)\u001b[0m\u001b[1;33m\u001b[0m\u001b[0m\n\u001b[0m\u001b[0;32m   2891\u001b[0m             \u001b[1;32mexcept\u001b[0m \u001b[0mKeyError\u001b[0m\u001b[1;33m:\u001b[0m\u001b[1;33m\u001b[0m\u001b[0m\n",
      "\u001b[1;32mpandas\\_libs\\index.pyx\u001b[0m in \u001b[0;36mpandas._libs.index.IndexEngine.get_loc\u001b[1;34m()\u001b[0m\n",
      "\u001b[1;32mpandas\\_libs\\index.pyx\u001b[0m in \u001b[0;36mpandas._libs.index.IndexEngine.get_loc\u001b[1;34m()\u001b[0m\n",
      "\u001b[1;32mpandas\\_libs\\hashtable_class_helper.pxi\u001b[0m in \u001b[0;36mpandas._libs.hashtable.PyObjectHashTable.get_item\u001b[1;34m()\u001b[0m\n",
      "\u001b[1;32mpandas\\_libs\\hashtable_class_helper.pxi\u001b[0m in \u001b[0;36mpandas._libs.hashtable.PyObjectHashTable.get_item\u001b[1;34m()\u001b[0m\n",
      "\u001b[1;31mKeyError\u001b[0m: 'workclass'",
      "\nDuring handling of the above exception, another exception occurred:\n",
      "\u001b[1;31mKeyError\u001b[0m                                  Traceback (most recent call last)",
      "\u001b[1;32m<ipython-input-31-955bf1b345cb>\u001b[0m in \u001b[0;36m<module>\u001b[1;34m\u001b[0m\n\u001b[0;32m      1\u001b[0m \u001b[1;33m\u001b[0m\u001b[0m\n\u001b[1;32m----> 2\u001b[1;33m \u001b[0madult_categorical\u001b[0m\u001b[1;33m[\u001b[0m\u001b[1;34m'workclass'\u001b[0m\u001b[1;33m]\u001b[0m\u001b[1;33m.\u001b[0m\u001b[0mvalue_counts\u001b[0m\u001b[1;33m(\u001b[0m\u001b[1;33m)\u001b[0m\u001b[1;33m\u001b[0m\u001b[0m\n\u001b[0m\u001b[0;32m      3\u001b[0m \u001b[1;33m\u001b[0m\u001b[0m\n",
      "\u001b[1;32m~\\venv\\lib\\site-packages\\pandas\\core\\frame.py\u001b[0m in \u001b[0;36m__getitem__\u001b[1;34m(self, key)\u001b[0m\n\u001b[0;32m   2973\u001b[0m             \u001b[1;32mif\u001b[0m \u001b[0mself\u001b[0m\u001b[1;33m.\u001b[0m\u001b[0mcolumns\u001b[0m\u001b[1;33m.\u001b[0m\u001b[0mnlevels\u001b[0m \u001b[1;33m>\u001b[0m \u001b[1;36m1\u001b[0m\u001b[1;33m:\u001b[0m\u001b[1;33m\u001b[0m\u001b[0m\n\u001b[0;32m   2974\u001b[0m                 \u001b[1;32mreturn\u001b[0m \u001b[0mself\u001b[0m\u001b[1;33m.\u001b[0m\u001b[0m_getitem_multilevel\u001b[0m\u001b[1;33m(\u001b[0m\u001b[0mkey\u001b[0m\u001b[1;33m)\u001b[0m\u001b[1;33m\u001b[0m\u001b[0m\n\u001b[1;32m-> 2975\u001b[1;33m             \u001b[0mindexer\u001b[0m \u001b[1;33m=\u001b[0m \u001b[0mself\u001b[0m\u001b[1;33m.\u001b[0m\u001b[0mcolumns\u001b[0m\u001b[1;33m.\u001b[0m\u001b[0mget_loc\u001b[0m\u001b[1;33m(\u001b[0m\u001b[0mkey\u001b[0m\u001b[1;33m)\u001b[0m\u001b[1;33m\u001b[0m\u001b[0m\n\u001b[0m\u001b[0;32m   2976\u001b[0m             \u001b[1;32mif\u001b[0m \u001b[0mis_integer\u001b[0m\u001b[1;33m(\u001b[0m\u001b[0mindexer\u001b[0m\u001b[1;33m)\u001b[0m\u001b[1;33m:\u001b[0m\u001b[1;33m\u001b[0m\u001b[0m\n\u001b[0;32m   2977\u001b[0m                 \u001b[0mindexer\u001b[0m \u001b[1;33m=\u001b[0m \u001b[1;33m[\u001b[0m\u001b[0mindexer\u001b[0m\u001b[1;33m]\u001b[0m\u001b[1;33m\u001b[0m\u001b[0m\n",
      "\u001b[1;32m~\\venv\\lib\\site-packages\\pandas\\core\\indexes\\base.py\u001b[0m in \u001b[0;36mget_loc\u001b[1;34m(self, key, method, tolerance)\u001b[0m\n\u001b[0;32m   2890\u001b[0m                 \u001b[1;32mreturn\u001b[0m \u001b[0mself\u001b[0m\u001b[1;33m.\u001b[0m\u001b[0m_engine\u001b[0m\u001b[1;33m.\u001b[0m\u001b[0mget_loc\u001b[0m\u001b[1;33m(\u001b[0m\u001b[0mkey\u001b[0m\u001b[1;33m)\u001b[0m\u001b[1;33m\u001b[0m\u001b[0m\n\u001b[0;32m   2891\u001b[0m             \u001b[1;32mexcept\u001b[0m \u001b[0mKeyError\u001b[0m\u001b[1;33m:\u001b[0m\u001b[1;33m\u001b[0m\u001b[0m\n\u001b[1;32m-> 2892\u001b[1;33m                 \u001b[1;32mreturn\u001b[0m \u001b[0mself\u001b[0m\u001b[1;33m.\u001b[0m\u001b[0m_engine\u001b[0m\u001b[1;33m.\u001b[0m\u001b[0mget_loc\u001b[0m\u001b[1;33m(\u001b[0m\u001b[0mself\u001b[0m\u001b[1;33m.\u001b[0m\u001b[0m_maybe_cast_indexer\u001b[0m\u001b[1;33m(\u001b[0m\u001b[0mkey\u001b[0m\u001b[1;33m)\u001b[0m\u001b[1;33m)\u001b[0m\u001b[1;33m\u001b[0m\u001b[0m\n\u001b[0m\u001b[0;32m   2893\u001b[0m         \u001b[0mindexer\u001b[0m \u001b[1;33m=\u001b[0m \u001b[0mself\u001b[0m\u001b[1;33m.\u001b[0m\u001b[0mget_indexer\u001b[0m\u001b[1;33m(\u001b[0m\u001b[1;33m[\u001b[0m\u001b[0mkey\u001b[0m\u001b[1;33m]\u001b[0m\u001b[1;33m,\u001b[0m \u001b[0mmethod\u001b[0m\u001b[1;33m=\u001b[0m\u001b[0mmethod\u001b[0m\u001b[1;33m,\u001b[0m \u001b[0mtolerance\u001b[0m\u001b[1;33m=\u001b[0m\u001b[0mtolerance\u001b[0m\u001b[1;33m)\u001b[0m\u001b[1;33m\u001b[0m\u001b[0m\n\u001b[0;32m   2894\u001b[0m         \u001b[1;32mif\u001b[0m \u001b[0mindexer\u001b[0m\u001b[1;33m.\u001b[0m\u001b[0mndim\u001b[0m \u001b[1;33m>\u001b[0m \u001b[1;36m1\u001b[0m \u001b[1;32mor\u001b[0m \u001b[0mindexer\u001b[0m\u001b[1;33m.\u001b[0m\u001b[0msize\u001b[0m \u001b[1;33m>\u001b[0m \u001b[1;36m1\u001b[0m\u001b[1;33m:\u001b[0m\u001b[1;33m\u001b[0m\u001b[0m\n",
      "\u001b[1;32mpandas\\_libs\\index.pyx\u001b[0m in \u001b[0;36mpandas._libs.index.IndexEngine.get_loc\u001b[1;34m()\u001b[0m\n",
      "\u001b[1;32mpandas\\_libs\\index.pyx\u001b[0m in \u001b[0;36mpandas._libs.index.IndexEngine.get_loc\u001b[1;34m()\u001b[0m\n",
      "\u001b[1;32mpandas\\_libs\\hashtable_class_helper.pxi\u001b[0m in \u001b[0;36mpandas._libs.hashtable.PyObjectHashTable.get_item\u001b[1;34m()\u001b[0m\n",
      "\u001b[1;32mpandas\\_libs\\hashtable_class_helper.pxi\u001b[0m in \u001b[0;36mpandas._libs.hashtable.PyObjectHashTable.get_item\u001b[1;34m()\u001b[0m\n",
      "\u001b[1;31mKeyError\u001b[0m: 'workclass'"
     ],
     "ename": "KeyError",
     "evalue": "'workclass'",
     "output_type": "error"
    }
   ],
   "source": [
    "adult_categorical['workclass'].value_counts()"
   ]
  },
  {
   "cell_type": "code",
   "execution_count": null,
   "metadata": {
    "pycharm": {
     "is_executing": false
    }
   },
   "outputs": [],
   "source": [
    "adult_categorical['education'].value_counts()"
   ]
  },
  {
   "cell_type": "code",
   "execution_count": null,
   "metadata": {
    "pycharm": {
     "is_executing": false
    }
   },
   "outputs": [],
   "source": [
    "adult['marital-status'].value_counts()"
   ]
  },
  {
   "cell_type": "code",
   "execution_count": null,
   "metadata": {
    "pycharm": {
     "is_executing": false
    }
   },
   "outputs": [],
   "source": [
    "adult_categorical['occupation'].value_counts()"
   ]
  },
  {
   "cell_type": "code",
   "execution_count": null,
   "metadata": {
    "pycharm": {
     "is_executing": false
    }
   },
   "outputs": [],
   "source": [
    "adult['relationship'].value_counts()"
   ]
  },
  {
   "cell_type": "code",
   "execution_count": null,
   "metadata": {
    "pycharm": {
     "is_executing": false
    }
   },
   "outputs": [],
   "source": [
    "adult['race'].value_counts()"
   ]
  },
  {
   "cell_type": "code",
   "execution_count": null,
   "metadata": {
    "pycharm": {
     "is_executing": false
    }
   },
   "outputs": [],
   "source": [
    "adult['sex'].value_counts()"
   ]
  },
  {
   "cell_type": "code",
   "execution_count": null,
   "metadata": {
    "pycharm": {
     "is_executing": false
    }
   },
   "outputs": [],
   "source": [
    "adult['native-country'].value_counts()"
   ]
  },
  {
   "cell_type": "code",
   "execution_count": null,
   "metadata": {
    "pycharm": {
     "is_executing": false
    }
   },
   "outputs": [],
   "source": [
    "adult.groupby('workclass').agg(['mean', lambda x: trim_mean(x, 0.2), 'median', 'std']).T"
   ]
  },
  {
   "cell_type": "code",
   "execution_count": null,
   "metadata": {
    "pycharm": {
     "is_executing": false
    }
   },
   "outputs": [],
   "source": [
    "adult.cov()"
   ]
  },
  {
   "cell_type": "markdown",
   "metadata": {
    "pycharm": {
     "is_executing": false,
     "name": "#%% md\n"
    }
   },
   "source": [
    "# 4 Exceptional work\n",
    "In section 3.2.3 we used interquantile range to find the outlier, and we found around 4000 samples are tagged as outlier,\n",
    "which is quite a large portion. So, in this section, we will study these outliers and evaluate how they influence our viewport\n",
    "of this dataset. Our evaluation of outlier finding algorithm includes the following two aspects:\n",
    "\n",
    " - We employ some dimensional reduction algorithm that reduces the entire dataset to 2 and 3 dimension, we then treat \n",
    " outliers and commoners as different classes and render them in different colors, and thus study their behavior.\n",
    " - We employ classifiers trained on both full training set and the training set without outlier, and we observed a accuracy\n",
    " loss using 5-fold validation, we thus conclude that the out-lier detection with interquantile range does not fit this dataset \n",
    " \n",
    "### 4.1 PCA and visualization\n",
    "We applied principle component analysis to transform the entire dataset into 2d and 3d dimension, then we plot them with\n",
    "scatter in both dimension. The outliers are in red color and the commoners are in blue color. In the 2d plot we can see \n",
    "that the outliers are basically overlaps with the commoners, and for the 3d plot we found out that the commoners and outliers\n",
    "can be distinguishable; however, the distance between the outliers and the nearest commoners are not huge, and far less then\n",
    "the furthest distance between different cluster of commoners, we therefore infer that the outliers are still valuable data\n",
    "entries in our dataset and does not recommand to just remove this; we also infer that the outliers are introduced just \n",
    "because the nature of the data is not evenly distributed instead of an error. "
   ]
  },
  {
   "cell_type": "code",
   "execution_count": 8,
   "outputs": [
    {
     "name": "stdout",
     "text": [
      "True\n[[-1.12278991e+05  1.08464409e+03 -9.07193328e+01]\n [ 2.58509450e+04 -1.09345043e+03 -8.94071730e+01]\n [ 4.49259448e+04 -1.09401424e+03 -8.86662167e+01]\n ...\n [ 3.24920945e+05 -1.10232396e+03 -7.82713806e+01]\n [ 1.85294516e+03 -1.09274335e+03 -9.03658360e+01]\n [-7.36570548e+04 -1.09050291e+03 -9.31762692e+01]]\n"
     ],
     "output_type": "stream"
    },
    {
     "data": {
      "text/plain": "<Figure size 432x288 with 2 Axes>",
      "image/png": "[encoded data removed]"
     },
     "metadata": {
      "needs_background": "light"
     },
     "output_type": "display_data"
    }
   ],
   "source": [
    "iqr_outliers = adult_numrics[((adult_numrics<lower_bound) | (adult_numrics>upper_bound)).any(axis=1)]\n",
    "iqr_outliers.sample(5)\n",
    "iqr_inliers = adult.drop(outliers.index)\n",
    "iqr_outliers = adult.loc[iqr_outliers.index]\n",
    "iqr_outliers.sample(5)\n",
    "iqr_outliers.loc[:,'out_lier'] = 1\n",
    "iqr_inliers.loc[:,'out_lier'] = 0\n",
    "total = pd.concat([iqr_inliers,iqr_outliers])\n",
    "\n",
    "\n",
    "print('out_lier' in iqr_outliers.columns)\n",
    "is_outlier = total['out_lier']\n",
    "pca = deco.PCA(n_components=3)\n",
    "attributes = total.drop(columns=['out_lier']).values\n",
    "reduced = pca.fit_transform(attributes)\n",
    "print(reduced)\n",
    "fig = plt.figure()\n",
    "ax = fig.add_subplot(121, projection='3d')\n",
    "\n",
    "x0=[];y0=[];z0=[];x1=[];y1=[];z1=[]\n",
    "for i in range(len(reduced)):\n",
    "    if is_outlier[i] == 0:\n",
    "        x0.append(reduced[i][0])\n",
    "        y0.append(reduced[i][1])\n",
    "        z0.append(reduced[i][2])\n",
    "    else:\n",
    "        x1.append(reduced[i][0])\n",
    "        y1.append(reduced[i][1])\n",
    "        z1.append(reduced[i][2])\n",
    "ax.scatter(x0,y0,z0,c='b')\n",
    "ax.scatter(x1,y1,z1,c='r')\n",
    "\n",
    "pca2 = deco.PCA(n_components=2)\n",
    "reduced = pca2.fit_transform(attributes)\n",
    "bx = fig.add_subplot(122)\n",
    "x0=[];y0=[];x1=[];y1=[]\n",
    "for i in range(len(reduced)):\n",
    "    if is_outlier[i] == 0:\n",
    "        x0.append(reduced[i][0])\n",
    "        y0.append(reduced[i][1])\n",
    "    else:\n",
    "        x1.append(reduced[i][0])\n",
    "        y1.append(reduced[i][1])\n",
    "bx.scatter(x0,y0,c='b')\n",
    "bx.scatter(x1,y1,c='r')\n",
    "plt.show()"
   ],
   "metadata": {
    "collapsed": false,
    "pycharm": {
     "name": "#%%\n",
     "is_executing": false
    }
   }
  },
  {
   "cell_type": "markdown",
   "source": [
    "### 4.2 Evaluation of outlier detection algorithm using performance of classifer\n",
    "\n",
    "The intuition of collecting this dataset is to predict if a input person bolongs to high income group or not (>50K). So \n",
    "we employed two classification algorithm, trained and tested them using 5 fold validation. Both of the algorithm are trained\n",
    "on both the full training data and the training data without outliers, and thus by comparing their performance we can evaluate\n",
    "how outliers influences the classification process, and further evaluate the outlier detection algorithm.  \n",
    "The two algorithm include Support Vector Machine (LinearSVC) which in theory should be easily influenced by outliers and \n",
    "Random Forest (RandomForestClassfier) which has some natural immunity to outliers.\n",
    "\n",
    "After a 5 fold validation, we found out that for each classification algorithm, excluding outliers detected by IQR will \n",
    "introduce a minior loss in prediction accuracy, thus we conclude that detection outliers with interquantile range is not \n",
    "a feasible solution to this dataset. "
   ],
   "metadata": {
    "collapsed": false,
    "pycharm": {
     "name": "#%% md\n"
    }
   }
  },
  {
   "cell_type": "code",
   "execution_count": 16,
   "outputs": [
    {
     "name": "stderr",
     "text": [
      "C:\\Users\\rolo_\\venv\\lib\\site-packages\\sklearn\\svm\\base.py:922: ConvergenceWarning: Liblinear failed to converge, increase the number of iterations.\n  \"the number of iterations.\", ConvergenceWarning)\n",
      "C:\\Users\\rolo_\\venv\\lib\\site-packages\\sklearn\\svm\\base.py:922: ConvergenceWarning: Liblinear failed to converge, increase the number of iterations.\n  \"the number of iterations.\", ConvergenceWarning)\n",
      "C:\\Users\\rolo_\\venv\\lib\\site-packages\\sklearn\\svm\\base.py:922: ConvergenceWarning: Liblinear failed to converge, increase the number of iterations.\n  \"the number of iterations.\", ConvergenceWarning)\n",
      "C:\\Users\\rolo_\\venv\\lib\\site-packages\\sklearn\\svm\\base.py:922: ConvergenceWarning: Liblinear failed to converge, increase the number of iterations.\n  \"the number of iterations.\", ConvergenceWarning)\n",
      "C:\\Users\\rolo_\\venv\\lib\\site-packages\\sklearn\\svm\\base.py:922: ConvergenceWarning: Liblinear failed to converge, increase the number of iterations.\n  \"the number of iterations.\", ConvergenceWarning)\n",
      "C:\\Users\\rolo_\\venv\\lib\\site-packages\\sklearn\\svm\\base.py:922: ConvergenceWarning: Liblinear failed to converge, increase the number of iterations.\n  \"the number of iterations.\", ConvergenceWarning)\n",
      "C:\\Users\\rolo_\\venv\\lib\\site-packages\\sklearn\\svm\\base.py:922: ConvergenceWarning: Liblinear failed to converge, increase the number of iterations.\n  \"the number of iterations.\", ConvergenceWarning)\n",
      "C:\\Users\\rolo_\\venv\\lib\\site-packages\\sklearn\\svm\\base.py:922: ConvergenceWarning: Liblinear failed to converge, increase the number of iterations.\n  \"the number of iterations.\", ConvergenceWarning)\n",
      "C:\\Users\\rolo_\\venv\\lib\\site-packages\\sklearn\\svm\\base.py:922: ConvergenceWarning: Liblinear failed to converge, increase the number of iterations.\n  \"the number of iterations.\", ConvergenceWarning)\n",
      "C:\\Users\\rolo_\\venv\\lib\\site-packages\\sklearn\\svm\\base.py:922: ConvergenceWarning: Liblinear failed to converge, increase the number of iterations.\n  \"the number of iterations.\", ConvergenceWarning)\n"
     ],
     "output_type": "stream"
    }
   ],
   "source": [
    "iqr_outliers\n",
    "iqr_inliers\n",
    "shuffeled_out=iqr_outliers.sample(frac=1)\n",
    "out_lier_list=np.array_split(shuffeled_out,5)\n",
    "shuffeled_in=iqr_inliers.sample(frac=1)\n",
    "in_lier_list=np.array_split(shuffeled_in,5)\n",
    "\n",
    "def get_acc(classifier_name, train_x, train_y, test_x, test_y):\n",
    "    \"\"\"\n",
    "    calculate the accuracy trained with the given training data and return the accuracy evaluated using the given testing\n",
    "    data\n",
    "    :param classifier_name: a string indicating the target classifier algorithm, should be either 'SVM' or 'RF' \n",
    "    :param train_x: attributes of the training set\n",
    "    :param train_y: label of the training set\n",
    "    :param test_x: attributes of the testing set\n",
    "    :param test_y: label of the testing set\n",
    "    :return: the accuracy evaluated on the testing set\n",
    "    \"\"\"\n",
    "    if classifier_name == 'SVM':\n",
    "        classifier_ = LinearSVC(max_iter=5000)\n",
    "    else:\n",
    "        classifier_ = RandomForestClassifier(n_estimators=50, max_depth=5)\n",
    "    classifier_.fit(train_x, train_y)\n",
    "    return classifier_.score(test_x, test_y)\n",
    "svm_all = []\n",
    "svm_inlier = []\n",
    "rf_all = []\n",
    "rf_inlier = []\n",
    "for i in range(5):\n",
    "    test = [out_lier_list[i],in_lier_list[i]]\n",
    "    test_ = pd.concat(test)\n",
    "    train = out_lier_list[0:i]+out_lier_list[i+1:5]+in_lier_list[0:i]+in_lier_list[i+1:5]\n",
    "    train_ = pd.concat(train)\n",
    "    train_inliers = train_.loc[train_['out_lier']==0]\n",
    "    svm_all.append(get_acc('SVM',\n",
    "                           train_x=train_.drop(columns=['out_lier','>50K']),\n",
    "                           train_y=train_['>50K'],\n",
    "                           test_x=test_.drop(columns=['out_lier','>50K']),\n",
    "                           test_y=test_['>50K']\n",
    "                           )\n",
    "                   )\n",
    "    svm_inlier.append(get_acc('SVM',\n",
    "                           train_x=train_inliers.drop(columns=['out_lier','>50K']),\n",
    "                           train_y=train_inliers['>50K'],\n",
    "                           test_x=test_.drop(columns=['out_lier','>50K']),\n",
    "                           test_y=test_['>50K']\n",
    "                           )\n",
    "                   )\n",
    "    rf_all.append(get_acc('RF',\n",
    "                           train_x=train_.drop(columns=['out_lier','>50K']),\n",
    "                           train_y=train_['>50K'],\n",
    "                           test_x=test_.drop(columns=['out_lier','>50K']),\n",
    "                           test_y=test_['>50K']\n",
    "                           )\n",
    "                   )\n",
    "    rf_inlier.append(get_acc('RF',\n",
    "                           train_x=train_inliers.drop(columns=['out_lier','>50K']),\n",
    "                           train_y=train_inliers['>50K'],\n",
    "                           test_x=test_.drop(columns=['out_lier','>50K']),\n",
    "                           test_y=test_['>50K']\n",
    "                           )\n",
    "                   )"
   ],
   "metadata": {
    "collapsed": false,
    "pycharm": {
     "name": "#%%\n",
     "is_executing": false
    }
   }
  },
  {
   "cell_type": "code",
   "execution_count": 19,
   "outputs": [
    {
     "name": "stdout",
     "text": [
      "[0.7783676177836761, 0.7858327803583278, 0.7798606502986065, 0.7838420703384207, 0.7617388418782147]\n[0.7826808228268082, 0.42070338420703385, 0.787657597876576, 0.7777040477770405, 0.7559316409490625]\n[0.8385865958858659, 0.8349369608493696, 0.8342733908427339, 0.8307896483078965, 0.8378961340633815]\n[0.8364299933642999, 0.8379230258792303, 0.8375912408759124, 0.8299601857996018, 0.8330844532935126]\nsvm with all training data average accuracy 0.7779283921314493\nsvm with commoner training data average accuracy 0.7049354987273042\nRandomForest with all training data average accuracy 0.8352965459898496\nRandomForest with commoner training data average accuracy 0.8349977798425113\n"
     ],
     "output_type": "stream"
    }
   ],
   "source": [
    "def mean(lst):\n",
    "    return sum(lst)/float(len(lst))\n",
    "print(\"svm with all training data average accuracy \"+ str(mean(svm_all)))\n",
    "print(\"svm with commoner training data average accuracy \"+ str(mean(svm_inlier)))\n",
    "print(\"RandomForest with all training data average accuracy \"+ str(mean(rf_all)))\n",
    "print(\"RandomForest with commoner training data average accuracy \"+ str(mean(rf_inlier)))"
   ],
   "metadata": {
    "collapsed": false,
    "pycharm": {
     "name": "#%%\n",
     "is_executing": false
    }
   }
  },
  {
   "cell_type": "markdown",
   "source": [
    "# Reference\n",
    "    [1] Kaggle adult census income dataset. Date accessed: Sept. 2019. url: https://www.kaggle.com/uciml/adult-census-income\n",
    "    [2] Haojun Zhu, Predicting Earning Potential using the Adult Dataset. Dec. 2016. url: https://rstudio-pubs-static.s3.amazonaws.com/235617_51e06fa6c43b47d1b6daca2523b2f9e4.html\n",
    "    [3] Bui Dinh Chien, Jean-Daniel Zucker, Complex Data Mining Project. Date accessed: Sept. 2019. url: https://sites.google.com/site/complexdataminingproject/."
   ],
   "metadata": {
    "collapsed": false,
    "pycharm": {
     "name": "#%% md\n"
    }
   }
  }
 ],
 "metadata": {
  "kernelspec": {
   "display_name": "Python 3",
   "language": "python",
   "name": "python3"
  },
  "language_info": {
   "codemirror_mode": {
    "name": "ipython",
    "version": 3
   },
   "file_extension": ".py",
   "mimetype": "text/x-python",
   "name": "python",
   "nbconvert_exporter": "python",
   "pygments_lexer": "ipython3",
   "version": "3.7.4"
  },
  "pycharm": {
   "stem_cell": {
    "cell_type": "raw",
    "source": [],
    "metadata": {
     "collapsed": false
    }
   }
  }
 },
 "nbformat": 4,
 "nbformat_minor": 2
}