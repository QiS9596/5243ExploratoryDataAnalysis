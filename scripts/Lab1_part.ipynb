{
 "cells": [
  {
   "cell_type": "code",
   "execution_count": 47,
   "metadata": {
    "pycharm": {
     "is_executing": false
    }
   },
   "outputs": [],
   "source": [
    "import pathlib\n",
    "import urllib\n",
    "import sys\n",
    "import pandas as pd\n",
    "import numpy as np\n",
    "from scipy.stats import trim_mean, iqr, skew, kurtosis\n",
    "import matplotlib.pyplot as plt\n",
    "import seaborn as sns"
   ]
  },
  {
   "cell_type": "markdown",
   "metadata": {
    "pycharm": {
     "name": "#%% md\n"
    }
   },
   "source": [
    "# 1. Collect data"
   ]
  },
  {
   "cell_type": "code",
   "execution_count": 48,
   "metadata": {
    "pycharm": {
     "is_executing": false
    }
   },
   "outputs": [
    {
     "name": "stdout",
     "output_type": "stream",
     "text": [
      "adult dataset found!\n"
     ]
    }
   ],
   "source": [
    "path = pathlib.Path('../data/adult.csv')\n",
    "if path.exists():\n",
    "    print('adult dataset found!')\n",
    "else:\n",
    "    sys.stdout.write('Downloading the adult dataset from the Internet...')\n",
    "    ADULTURL = \"https://archive.ics.uci.edu/ml/machine-learning-databases/adult/adult.data\"\n",
    "    urllib.request.urlretrieve(ADULTURL, path.absolute())\n",
    "    sys.stdout.write('Done!')"
   ]
  },
  {
   "cell_type": "markdown",
   "metadata": {
    "pycharm": {
     "name": "#%% md\n"
    }
   },
   "source": [
    "# 2. Understand the data in context\n"
   ]
  },
  {
   "cell_type": "code",
   "execution_count": 49,
   "metadata": {
    "pycharm": {
     "is_executing": false
    }
   },
   "outputs": [],
   "source": [
    "# Load the adult dataset into a Pandas dataframe\n",
    "adult_columns = ['age', 'workclass', 'fnlwgt', 'education', 'eduNum', 'marital-status', 'occupation', 'relationship', 'race', 'sex', 'gain', 'loss', 'hours-per-week', 'native-country', 'income']\n",
    "adult = pd.read_csv(path.absolute(),names=adult_columns)\n",
    "adult['sex'] = adult['sex'].str.strip()\n",
    "adult['relationship'] = adult['relationship'].str.strip()\n",
    "adult['income'] = adult['income'].str.strip()"
   ]
  },
  {
   "cell_type": "markdown",
   "metadata": {
    "pycharm": {
     "name": "#%% md\n"
    }
   },
   "source": [
    "# 3. Understand the data\n",
    "### 3.1 Describe the meansing and type for each attribute\n",
    " - **age**: numeric, continuous. \n",
    " - **workclass**: categorical, discrete.\n",
    " - **fnlwgt**: numeric, continuous\n",
    " - **education**: categorical, discrete\n",
    " - **education-num**: numeric, continuous\n",
    " - **marital-status**: categorical, discrete\n",
    " - **occupation**: categorical, discrete\n",
    " - **relationship**: categorical, discrete\n",
    " - **race**: categorical, discrete\n",
    " - **sex**: categorical, binary\n",
    " - **capital-gain**: numeric, continuous\n",
    " - **capital-loss**: numeric, continuous\n",
    " - **hours-per-week**: numeric, continuous\n",
    " - **native-country**: categorical, discrete\n",
    " - **>50k**: categorical, binary\n",
    "\n",
    "*3.1 subsection: explanation for non-self-explanatory attributes*\n",
    " - **fnlwgt**: represents final weight. according to [2], it's the number of units that this record could represent in the \n",
    " target population. In [1], the author explained that the final weight is controlled by three factors: a single cell estimatation\n",
    " of the population 16+ for each state; controls for Hispanic Origin by age and sex; controls by race, age and sex.\n",
    " - **education_num**: represents the number of years of education in total.[2]\n",
    " - **relationship**: represents the individual's role in it's family.[2]\n",
    " - **capital_gain** and **capital_loss**: represents the income and loss from non-salary ways, e.g. investment.[2]\n",
    " \n",
    " \n",
    "### 3.2 Verify data quality\n",
    "#### 3.2.1 duplication"
   ]
  },
  {
   "cell_type": "code",
   "execution_count": 50,
   "metadata": {
    "pycharm": {
     "is_executing": false,
     "name": "#%%\n"
    }
   },
   "outputs": [
    {
     "name": "stdout",
     "output_type": "stream",
     "text": [
      "There are 24 duplicated data entries found.(One copy of the data entry will be kept in the dataset)\n",
      "After drop duplicate, there are 32537 data entries remains.\n"
     ]
    }
   ],
   "source": [
    "# Check duplication and drop duplication via pandas built in function\n",
    "check_duplication = adult.duplicated()\n",
    "duplicated = adult[check_duplication]\n",
    "print(\"There are \"+str(len(duplicated.index))+\" duplicated data entries found.(One copy of the data entry will be kept in the dataset)\")\n",
    "adult = adult.drop_duplicates()\n",
    "adult = adult.reset_index(drop=True)\n",
    "print(\"After drop duplicate, there are \"+str(len(adult.index))+ \" data entries remains.\")"
   ]
  },
  {
   "cell_type": "markdown",
   "metadata": {
    "pycharm": {
     "name": "#%% md\n"
    }
   },
   "source": [
    "#### 3.2.2 missing values"
   ]
  },
  {
   "cell_type": "code",
   "execution_count": 51,
   "metadata": {
    "pycharm": {
     "is_executing": false
    }
   },
   "outputs": [
    {
     "name": "stdout",
     "output_type": "stream",
     "text": [
      "After drop missing values, there are 30139 data entries remains.\n"
     ]
    }
   ],
   "source": [
    "# drop the indexes for which column has value '?'\n",
    "unknown_row =[]\n",
    "\n",
    "for i in range(len(adult.index)):\n",
    "    if ('?' in adult.iloc[i]['workclass']) or ('?' in adult.iloc[i]['occupation']) or ('?' in adult.iloc[i]['native-country']):\n",
    "        unknown_row.append(i)\n",
    "adult = adult.drop(index = unknown_row)\n",
    "adult = adult.reset_index(drop=True)\n",
    "print(\"After drop missing values, there are \"+str(len(adult.index))+ \" data entries remains.\")"
   ]
  },
  {
   "cell_type": "code",
   "execution_count": 52,
   "metadata": {
    "pycharm": {
     "is_executing": false,
     "name": "#%%\n"
    }
   },
   "outputs": [],
   "source": [
    "# print(set(adult['education']))"
   ]
  },
  {
   "cell_type": "code",
   "execution_count": 53,
   "metadata": {},
   "outputs": [],
   "source": [
    "#change >50k col to binary values\n",
    "for i in range(len(adult.index)):\n",
    "    if '>50K' in adult.iloc[i]['income']:\n",
    "        adult.iloc[i, adult.columns.get_loc('income')] = 1\n",
    "    else:\n",
    "        adult.iloc[i,adult.columns.get_loc('income')] = 0"
   ]
  },
  {
   "cell_type": "code",
   "execution_count": 54,
   "metadata": {
    "scrolled": true
   },
   "outputs": [
    {
     "data": {
      "text/html": [
       "<div>\n",
       "<style scoped>\n",
       "    .dataframe tbody tr th:only-of-type {\n",
       "        vertical-align: middle;\n",
       "    }\n",
       "\n",
       "    .dataframe tbody tr th {\n",
       "        vertical-align: top;\n",
       "    }\n",
       "\n",
       "    .dataframe thead th {\n",
       "        text-align: right;\n",
       "    }\n",
       "</style>\n",
       "<table border=\"1\" class=\"dataframe\">\n",
       "  <thead>\n",
       "    <tr style=\"text-align: right;\">\n",
       "      <th></th>\n",
       "      <th>age</th>\n",
       "      <th>workclass</th>\n",
       "      <th>fnlwgt</th>\n",
       "      <th>education</th>\n",
       "      <th>eduNum</th>\n",
       "      <th>marital-status</th>\n",
       "      <th>occupation</th>\n",
       "      <th>relationship</th>\n",
       "      <th>race</th>\n",
       "      <th>sex</th>\n",
       "      <th>gain</th>\n",
       "      <th>loss</th>\n",
       "      <th>hours-per-week</th>\n",
       "      <th>native-country</th>\n",
       "      <th>income</th>\n",
       "    </tr>\n",
       "  </thead>\n",
       "  <tbody>\n",
       "    <tr>\n",
       "      <th>0</th>\n",
       "      <td>39</td>\n",
       "      <td>State-gov</td>\n",
       "      <td>77516</td>\n",
       "      <td>Bachelors</td>\n",
       "      <td>13</td>\n",
       "      <td>Never-married</td>\n",
       "      <td>Adm-clerical</td>\n",
       "      <td>Not-in-family</td>\n",
       "      <td>White</td>\n",
       "      <td>Male</td>\n",
       "      <td>2174</td>\n",
       "      <td>0</td>\n",
       "      <td>40</td>\n",
       "      <td>United-States</td>\n",
       "      <td>0</td>\n",
       "    </tr>\n",
       "    <tr>\n",
       "      <th>1</th>\n",
       "      <td>50</td>\n",
       "      <td>Self-emp-not-inc</td>\n",
       "      <td>83311</td>\n",
       "      <td>Bachelors</td>\n",
       "      <td>13</td>\n",
       "      <td>Married-civ-spouse</td>\n",
       "      <td>Exec-managerial</td>\n",
       "      <td>Husband</td>\n",
       "      <td>White</td>\n",
       "      <td>Male</td>\n",
       "      <td>0</td>\n",
       "      <td>0</td>\n",
       "      <td>13</td>\n",
       "      <td>United-States</td>\n",
       "      <td>0</td>\n",
       "    </tr>\n",
       "    <tr>\n",
       "      <th>2</th>\n",
       "      <td>38</td>\n",
       "      <td>Private</td>\n",
       "      <td>215646</td>\n",
       "      <td>HS-grad</td>\n",
       "      <td>9</td>\n",
       "      <td>Divorced</td>\n",
       "      <td>Handlers-cleaners</td>\n",
       "      <td>Not-in-family</td>\n",
       "      <td>White</td>\n",
       "      <td>Male</td>\n",
       "      <td>0</td>\n",
       "      <td>0</td>\n",
       "      <td>40</td>\n",
       "      <td>United-States</td>\n",
       "      <td>0</td>\n",
       "    </tr>\n",
       "    <tr>\n",
       "      <th>3</th>\n",
       "      <td>53</td>\n",
       "      <td>Private</td>\n",
       "      <td>234721</td>\n",
       "      <td>11th</td>\n",
       "      <td>7</td>\n",
       "      <td>Married-civ-spouse</td>\n",
       "      <td>Handlers-cleaners</td>\n",
       "      <td>Husband</td>\n",
       "      <td>Black</td>\n",
       "      <td>Male</td>\n",
       "      <td>0</td>\n",
       "      <td>0</td>\n",
       "      <td>40</td>\n",
       "      <td>United-States</td>\n",
       "      <td>0</td>\n",
       "    </tr>\n",
       "    <tr>\n",
       "      <th>4</th>\n",
       "      <td>28</td>\n",
       "      <td>Private</td>\n",
       "      <td>338409</td>\n",
       "      <td>Bachelors</td>\n",
       "      <td>13</td>\n",
       "      <td>Married-civ-spouse</td>\n",
       "      <td>Prof-specialty</td>\n",
       "      <td>Wife</td>\n",
       "      <td>Black</td>\n",
       "      <td>Female</td>\n",
       "      <td>0</td>\n",
       "      <td>0</td>\n",
       "      <td>40</td>\n",
       "      <td>Cuba</td>\n",
       "      <td>0</td>\n",
       "    </tr>\n",
       "  </tbody>\n",
       "</table>\n",
       "</div>"
      ],
      "text/plain": [
       "   age          workclass  fnlwgt   education  eduNum       marital-status  \\\n",
       "0   39          State-gov   77516   Bachelors      13        Never-married   \n",
       "1   50   Self-emp-not-inc   83311   Bachelors      13   Married-civ-spouse   \n",
       "2   38            Private  215646     HS-grad       9             Divorced   \n",
       "3   53            Private  234721        11th       7   Married-civ-spouse   \n",
       "4   28            Private  338409   Bachelors      13   Married-civ-spouse   \n",
       "\n",
       "           occupation   relationship    race     sex  gain  loss  \\\n",
       "0        Adm-clerical  Not-in-family   White    Male  2174     0   \n",
       "1     Exec-managerial        Husband   White    Male     0     0   \n",
       "2   Handlers-cleaners  Not-in-family   White    Male     0     0   \n",
       "3   Handlers-cleaners        Husband   Black    Male     0     0   \n",
       "4      Prof-specialty           Wife   Black  Female     0     0   \n",
       "\n",
       "   hours-per-week  native-country  income  \n",
       "0              40   United-States       0  \n",
       "1              13   United-States       0  \n",
       "2              40   United-States       0  \n",
       "3              40   United-States       0  \n",
       "4              40            Cuba       0  "
      ]
     },
     "execution_count": 54,
     "metadata": {},
     "output_type": "execute_result"
    }
   ],
   "source": [
    "adult.head(5)"
   ]
  },
  {
   "cell_type": "markdown",
   "metadata": {},
   "source": [
    "### 1. Statistics about Numeric values"
   ]
  },
  {
   "cell_type": "code",
   "execution_count": 55,
   "metadata": {},
   "outputs": [],
   "source": [
    "# select all columns with numeric values\n",
    "adult_numeric = adult.select_dtypes(include=np.number)"
   ]
  },
  {
   "cell_type": "code",
   "execution_count": 56,
   "metadata": {},
   "outputs": [
    {
     "data": {
      "text/html": [
       "<div>\n",
       "<style scoped>\n",
       "    .dataframe tbody tr th:only-of-type {\n",
       "        vertical-align: middle;\n",
       "    }\n",
       "\n",
       "    .dataframe tbody tr th {\n",
       "        vertical-align: top;\n",
       "    }\n",
       "\n",
       "    .dataframe thead th {\n",
       "        text-align: right;\n",
       "    }\n",
       "</style>\n",
       "<table border=\"1\" class=\"dataframe\">\n",
       "  <thead>\n",
       "    <tr style=\"text-align: right;\">\n",
       "      <th></th>\n",
       "      <th>age</th>\n",
       "      <th>fnlwgt</th>\n",
       "      <th>eduNum</th>\n",
       "      <th>gain</th>\n",
       "      <th>loss</th>\n",
       "      <th>hours-per-week</th>\n",
       "      <th>income</th>\n",
       "    </tr>\n",
       "  </thead>\n",
       "  <tbody>\n",
       "    <tr>\n",
       "      <th>0</th>\n",
       "      <td>39</td>\n",
       "      <td>77516</td>\n",
       "      <td>13</td>\n",
       "      <td>2174</td>\n",
       "      <td>0</td>\n",
       "      <td>40</td>\n",
       "      <td>0</td>\n",
       "    </tr>\n",
       "    <tr>\n",
       "      <th>1</th>\n",
       "      <td>50</td>\n",
       "      <td>83311</td>\n",
       "      <td>13</td>\n",
       "      <td>0</td>\n",
       "      <td>0</td>\n",
       "      <td>13</td>\n",
       "      <td>0</td>\n",
       "    </tr>\n",
       "    <tr>\n",
       "      <th>2</th>\n",
       "      <td>38</td>\n",
       "      <td>215646</td>\n",
       "      <td>9</td>\n",
       "      <td>0</td>\n",
       "      <td>0</td>\n",
       "      <td>40</td>\n",
       "      <td>0</td>\n",
       "    </tr>\n",
       "    <tr>\n",
       "      <th>3</th>\n",
       "      <td>53</td>\n",
       "      <td>234721</td>\n",
       "      <td>7</td>\n",
       "      <td>0</td>\n",
       "      <td>0</td>\n",
       "      <td>40</td>\n",
       "      <td>0</td>\n",
       "    </tr>\n",
       "    <tr>\n",
       "      <th>4</th>\n",
       "      <td>28</td>\n",
       "      <td>338409</td>\n",
       "      <td>13</td>\n",
       "      <td>0</td>\n",
       "      <td>0</td>\n",
       "      <td>40</td>\n",
       "      <td>0</td>\n",
       "    </tr>\n",
       "  </tbody>\n",
       "</table>\n",
       "</div>"
      ],
      "text/plain": [
       "   age  fnlwgt  eduNum  gain  loss  hours-per-week  income\n",
       "0   39   77516      13  2174     0              40       0\n",
       "1   50   83311      13     0     0              13       0\n",
       "2   38  215646       9     0     0              40       0\n",
       "3   53  234721       7     0     0              40       0\n",
       "4   28  338409      13     0     0              40       0"
      ]
     },
     "execution_count": 56,
     "metadata": {},
     "output_type": "execute_result"
    }
   ],
   "source": [
    "adult_numeric.head(5)"
   ]
  },
  {
   "cell_type": "code",
   "execution_count": 57,
   "metadata": {},
   "outputs": [
    {
     "data": {
      "text/html": [
       "<div>\n",
       "<style scoped>\n",
       "    .dataframe tbody tr th:only-of-type {\n",
       "        vertical-align: middle;\n",
       "    }\n",
       "\n",
       "    .dataframe tbody tr th {\n",
       "        vertical-align: top;\n",
       "    }\n",
       "\n",
       "    .dataframe thead th {\n",
       "        text-align: right;\n",
       "    }\n",
       "</style>\n",
       "<table border=\"1\" class=\"dataframe\">\n",
       "  <thead>\n",
       "    <tr style=\"text-align: right;\">\n",
       "      <th></th>\n",
       "      <th>age</th>\n",
       "      <th>fnlwgt</th>\n",
       "      <th>eduNum</th>\n",
       "      <th>gain</th>\n",
       "      <th>loss</th>\n",
       "      <th>hours-per-week</th>\n",
       "      <th>income</th>\n",
       "    </tr>\n",
       "  </thead>\n",
       "  <tbody>\n",
       "    <tr>\n",
       "      <th>mean</th>\n",
       "      <td>38.441720</td>\n",
       "      <td>1.897950e+05</td>\n",
       "      <td>10.122532</td>\n",
       "      <td>1092.841202</td>\n",
       "      <td>88.439928</td>\n",
       "      <td>40.934703</td>\n",
       "      <td>0.249046</td>\n",
       "    </tr>\n",
       "    <tr>\n",
       "      <th>median</th>\n",
       "      <td>37.000000</td>\n",
       "      <td>1.784170e+05</td>\n",
       "      <td>10.000000</td>\n",
       "      <td>0.000000</td>\n",
       "      <td>0.000000</td>\n",
       "      <td>40.000000</td>\n",
       "      <td>0.000000</td>\n",
       "    </tr>\n",
       "    <tr>\n",
       "      <th>mode</th>\n",
       "      <td>36.000000</td>\n",
       "      <td>2.034880e+05</td>\n",
       "      <td>9.000000</td>\n",
       "      <td>0.000000</td>\n",
       "      <td>0.000000</td>\n",
       "      <td>40.000000</td>\n",
       "      <td>0.000000</td>\n",
       "    </tr>\n",
       "    <tr>\n",
       "      <th>trimmed mean (p=20%)</th>\n",
       "      <td>37.364999</td>\n",
       "      <td>1.775251e+05</td>\n",
       "      <td>10.025104</td>\n",
       "      <td>0.000000</td>\n",
       "      <td>0.000000</td>\n",
       "      <td>40.860879</td>\n",
       "      <td>0.081780</td>\n",
       "    </tr>\n",
       "    <tr>\n",
       "      <th>min</th>\n",
       "      <td>17.000000</td>\n",
       "      <td>1.376900e+04</td>\n",
       "      <td>1.000000</td>\n",
       "      <td>0.000000</td>\n",
       "      <td>0.000000</td>\n",
       "      <td>1.000000</td>\n",
       "      <td>0.000000</td>\n",
       "    </tr>\n",
       "    <tr>\n",
       "      <th>max</th>\n",
       "      <td>90.000000</td>\n",
       "      <td>1.484705e+06</td>\n",
       "      <td>16.000000</td>\n",
       "      <td>99999.000000</td>\n",
       "      <td>4356.000000</td>\n",
       "      <td>99.000000</td>\n",
       "      <td>1.000000</td>\n",
       "    </tr>\n",
       "    <tr>\n",
       "      <th>range</th>\n",
       "      <td>73.000000</td>\n",
       "      <td>1.470936e+06</td>\n",
       "      <td>15.000000</td>\n",
       "      <td>99999.000000</td>\n",
       "      <td>4356.000000</td>\n",
       "      <td>98.000000</td>\n",
       "      <td>1.000000</td>\n",
       "    </tr>\n",
       "    <tr>\n",
       "      <th>std</th>\n",
       "      <td>13.131426</td>\n",
       "      <td>1.056586e+05</td>\n",
       "      <td>2.548738</td>\n",
       "      <td>7409.110596</td>\n",
       "      <td>404.445239</td>\n",
       "      <td>11.978753</td>\n",
       "      <td>0.432468</td>\n",
       "    </tr>\n",
       "  </tbody>\n",
       "</table>\n",
       "</div>"
      ],
      "text/plain": [
       "                            age        fnlwgt     eduNum          gain  \\\n",
       "mean                  38.441720  1.897950e+05  10.122532   1092.841202   \n",
       "median                37.000000  1.784170e+05  10.000000      0.000000   \n",
       "mode                  36.000000  2.034880e+05   9.000000      0.000000   \n",
       "trimmed mean (p=20%)  37.364999  1.775251e+05  10.025104      0.000000   \n",
       "min                   17.000000  1.376900e+04   1.000000      0.000000   \n",
       "max                   90.000000  1.484705e+06  16.000000  99999.000000   \n",
       "range                 73.000000  1.470936e+06  15.000000  99999.000000   \n",
       "std                   13.131426  1.056586e+05   2.548738   7409.110596   \n",
       "\n",
       "                             loss  hours-per-week    income  \n",
       "mean                    88.439928       40.934703  0.249046  \n",
       "median                   0.000000       40.000000  0.000000  \n",
       "mode                     0.000000       40.000000  0.000000  \n",
       "trimmed mean (p=20%)     0.000000       40.860879  0.081780  \n",
       "min                      0.000000        1.000000  0.000000  \n",
       "max                   4356.000000       99.000000  1.000000  \n",
       "range                 4356.000000       98.000000  1.000000  \n",
       "std                    404.445239       11.978753  0.432468  "
      ]
     },
     "execution_count": 57,
     "metadata": {},
     "output_type": "execute_result"
    }
   ],
   "source": [
    "cnames = ['mean', 'median', 'mode', 'trimmed mean (p=20%)', 'min', 'max', 'range', 'std']\n",
    "adult_numeric.agg(lambda x: pd.Series([np.mean(x), np.median(x),x.mode()[0], trim_mean(x, 0.2),x.min(),x.max(),x.max()-x.min(),x.std()], index=cnames))"
   ]
  },
  {
   "cell_type": "code",
   "execution_count": 58,
   "metadata": {},
   "outputs": [
    {
     "data": {
      "text/plain": [
       "<matplotlib.axes._subplots.AxesSubplot at 0x2248b981dc8>"
      ]
     },
     "execution_count": 58,
     "metadata": {},
     "output_type": "execute_result"
    },
    {
     "data": {
      "image/png": "[encoded data removed]",
      "text/plain": [
       "<Figure size 432x288 with 1 Axes>"
      ]
     },
     "metadata": {
      "needs_background": "light"
     },
     "output_type": "display_data"
    }
   ],
   "source": [
    "#divide values into bins then plot the counts in each bin\n",
    "# very good for understanding distribution of values\n",
    "# easy to compare distributions\n",
    "# can judge even relatively small differences visually\n",
    "gain_counts = adult['gain']\n",
    "gain_counts.plot.hist()"
   ]
  },
  {
   "cell_type": "code",
   "execution_count": 59,
   "metadata": {},
   "outputs": [
    {
     "data": {
      "text/plain": [
       "<matplotlib.axes._subplots.AxesSubplot at 0x2248d701948>"
      ]
     },
     "execution_count": 59,
     "metadata": {},
     "output_type": "execute_result"
    },
    {
     "data": {
      "image/png": "[encoded data removed]",
      "text/plain": [
       "<Figure size 432x288 with 1 Axes>"
      ]
     },
     "metadata": {
      "needs_background": "light"
     },
     "output_type": "display_data"
    }
   ],
   "source": [
    "gain_counts = adult['loss']\n",
    "gain_counts.plot.hist()"
   ]
  },
  {
   "cell_type": "code",
   "execution_count": 60,
   "metadata": {},
   "outputs": [
    {
     "data": {
      "image/png": "[encoded data removed]",
      "text/plain": [
       "<Figure size 600x400 with 1 Axes>"
      ]
     },
     "metadata": {},
     "output_type": "display_data"
    }
   ],
   "source": [
    "X = adult['race'].value_counts().values\n",
    "L=adult['race'].value_counts().index\n",
    "plt.figure(figsize=(6,4), dpi=100)\n",
    "plt.pie(X, labels=L, autopct = '%1.1f%%')\n",
    "plt.show()"
   ]
  },
  {
   "cell_type": "code",
   "execution_count": 61,
   "metadata": {},
   "outputs": [
    {
     "data": {
      "image/png": "[encoded data removed]",
      "text/plain": [
       "<Figure size 600x400 with 1 Axes>"
      ]
     },
     "metadata": {},
     "output_type": "display_data"
    }
   ],
   "source": [
    "X = adult['workclass'].value_counts().values\n",
    "L=adult['workclass'].value_counts().index\n",
    "plt.figure(figsize=(6,4), dpi=100)\n",
    "plt.pie(X, labels=L, autopct = '%1.1f%%')\n",
    "plt.show()"
   ]
  },
  {
   "cell_type": "code",
   "execution_count": 62,
   "metadata": {},
   "outputs": [
    {
     "data": {
      "text/plain": [
       "<matplotlib.axes._subplots.AxesSubplot at 0x2248cd52388>"
      ]
     },
     "execution_count": 62,
     "metadata": {},
     "output_type": "execute_result"
    },
    {
     "data": {
      "image/png": "[encoded data removed]",
      "text/plain": [
       "<Figure size 432x288 with 1 Axes>"
      ]
     },
     "metadata": {
      "needs_background": "light"
     },
     "output_type": "display_data"
    }
   ],
   "source": [
    "sns.boxplot( x=adult[\"workclass\"], y=adult[\"age\"] )"
   ]
  },
  {
   "cell_type": "markdown",
   "metadata": {},
   "source": [
    "### 2. Statistics about Categorical values"
   ]
  },
  {
   "cell_type": "code",
   "execution_count": 63,
   "metadata": {},
   "outputs": [],
   "source": [
    "# select all columns with categorical values\n",
    "adult_categorical = adult.select_dtypes(include=['object'])"
   ]
  },
  {
   "cell_type": "code",
   "execution_count": 64,
   "metadata": {},
   "outputs": [
    {
     "data": {
      "text/html": [
       "<div>\n",
       "<style scoped>\n",
       "    .dataframe tbody tr th:only-of-type {\n",
       "        vertical-align: middle;\n",
       "    }\n",
       "\n",
       "    .dataframe tbody tr th {\n",
       "        vertical-align: top;\n",
       "    }\n",
       "\n",
       "    .dataframe thead th {\n",
       "        text-align: right;\n",
       "    }\n",
       "</style>\n",
       "<table border=\"1\" class=\"dataframe\">\n",
       "  <thead>\n",
       "    <tr style=\"text-align: right;\">\n",
       "      <th></th>\n",
       "      <th>workclass</th>\n",
       "      <th>education</th>\n",
       "      <th>marital-status</th>\n",
       "      <th>occupation</th>\n",
       "      <th>relationship</th>\n",
       "      <th>race</th>\n",
       "      <th>sex</th>\n",
       "      <th>native-country</th>\n",
       "    </tr>\n",
       "  </thead>\n",
       "  <tbody>\n",
       "    <tr>\n",
       "      <th>0</th>\n",
       "      <td>State-gov</td>\n",
       "      <td>Bachelors</td>\n",
       "      <td>Never-married</td>\n",
       "      <td>Adm-clerical</td>\n",
       "      <td>Not-in-family</td>\n",
       "      <td>White</td>\n",
       "      <td>Male</td>\n",
       "      <td>United-States</td>\n",
       "    </tr>\n",
       "    <tr>\n",
       "      <th>1</th>\n",
       "      <td>Self-emp-not-inc</td>\n",
       "      <td>Bachelors</td>\n",
       "      <td>Married-civ-spouse</td>\n",
       "      <td>Exec-managerial</td>\n",
       "      <td>Husband</td>\n",
       "      <td>White</td>\n",
       "      <td>Male</td>\n",
       "      <td>United-States</td>\n",
       "    </tr>\n",
       "    <tr>\n",
       "      <th>2</th>\n",
       "      <td>Private</td>\n",
       "      <td>HS-grad</td>\n",
       "      <td>Divorced</td>\n",
       "      <td>Handlers-cleaners</td>\n",
       "      <td>Not-in-family</td>\n",
       "      <td>White</td>\n",
       "      <td>Male</td>\n",
       "      <td>United-States</td>\n",
       "    </tr>\n",
       "    <tr>\n",
       "      <th>3</th>\n",
       "      <td>Private</td>\n",
       "      <td>11th</td>\n",
       "      <td>Married-civ-spouse</td>\n",
       "      <td>Handlers-cleaners</td>\n",
       "      <td>Husband</td>\n",
       "      <td>Black</td>\n",
       "      <td>Male</td>\n",
       "      <td>United-States</td>\n",
       "    </tr>\n",
       "    <tr>\n",
       "      <th>4</th>\n",
       "      <td>Private</td>\n",
       "      <td>Bachelors</td>\n",
       "      <td>Married-civ-spouse</td>\n",
       "      <td>Prof-specialty</td>\n",
       "      <td>Wife</td>\n",
       "      <td>Black</td>\n",
       "      <td>Female</td>\n",
       "      <td>Cuba</td>\n",
       "    </tr>\n",
       "  </tbody>\n",
       "</table>\n",
       "</div>"
      ],
      "text/plain": [
       "           workclass   education       marital-status          occupation  \\\n",
       "0          State-gov   Bachelors        Never-married        Adm-clerical   \n",
       "1   Self-emp-not-inc   Bachelors   Married-civ-spouse     Exec-managerial   \n",
       "2            Private     HS-grad             Divorced   Handlers-cleaners   \n",
       "3            Private        11th   Married-civ-spouse   Handlers-cleaners   \n",
       "4            Private   Bachelors   Married-civ-spouse      Prof-specialty   \n",
       "\n",
       "    relationship    race     sex  native-country  \n",
       "0  Not-in-family   White    Male   United-States  \n",
       "1        Husband   White    Male   United-States  \n",
       "2  Not-in-family   White    Male   United-States  \n",
       "3        Husband   Black    Male   United-States  \n",
       "4           Wife   Black  Female            Cuba  "
      ]
     },
     "execution_count": 64,
     "metadata": {},
     "output_type": "execute_result"
    }
   ],
   "source": [
    "adult_categorical.head(5)"
   ]
  },
  {
   "cell_type": "code",
   "execution_count": 65,
   "metadata": {},
   "outputs": [
    {
     "data": {
      "text/plain": [
       "['workclass',\n",
       " 'education',\n",
       " 'marital-status',\n",
       " 'occupation',\n",
       " 'relationship',\n",
       " 'race',\n",
       " 'sex',\n",
       " 'native-country']"
      ]
     },
     "execution_count": 65,
     "metadata": {},
     "output_type": "execute_result"
    }
   ],
   "source": [
    "cnames = adult_categorical.columns.tolist()\n",
    "cnames"
   ]
  },
  {
   "cell_type": "code",
   "execution_count": 66,
   "metadata": {},
   "outputs": [
    {
     "data": {
      "text/plain": [
       " Private             22264\n",
       " Self-emp-not-inc     2498\n",
       " Local-gov            2067\n",
       " State-gov            1279\n",
       " Self-emp-inc         1074\n",
       " Federal-gov           943\n",
       " Without-pay            14\n",
       "Name: workclass, dtype: int64"
      ]
     },
     "execution_count": 66,
     "metadata": {},
     "output_type": "execute_result"
    }
   ],
   "source": [
    "adult_categorical['workclass'].value_counts()"
   ]
  },
  {
   "cell_type": "code",
   "execution_count": 67,
   "metadata": {},
   "outputs": [
    {
     "data": {
      "text/plain": [
       " HS-grad         9834\n",
       " Some-college    6669\n",
       " Bachelors       5042\n",
       " Masters         1626\n",
       " Assoc-voc       1307\n",
       " 11th            1048\n",
       " Assoc-acdm      1008\n",
       " 10th             820\n",
       " 7th-8th          556\n",
       " Prof-school      542\n",
       " 9th              455\n",
       " 12th             377\n",
       " Doctorate        375\n",
       " 5th-6th          287\n",
       " 1st-4th          149\n",
       " Preschool         44\n",
       "Name: education, dtype: int64"
      ]
     },
     "execution_count": 67,
     "metadata": {},
     "output_type": "execute_result"
    }
   ],
   "source": [
    "adult_categorical['education'].value_counts()"
   ]
  },
  {
   "cell_type": "code",
   "execution_count": 68,
   "metadata": {},
   "outputs": [
    {
     "data": {
      "text/plain": [
       " Married-civ-spouse       14059\n",
       " Never-married             9711\n",
       " Divorced                  4212\n",
       " Separated                  939\n",
       " Widowed                    827\n",
       " Married-spouse-absent      370\n",
       " Married-AF-spouse           21\n",
       "Name: marital-status, dtype: int64"
      ]
     },
     "execution_count": 68,
     "metadata": {},
     "output_type": "execute_result"
    }
   ],
   "source": [
    "adult['marital-status'].value_counts()"
   ]
  },
  {
   "cell_type": "code",
   "execution_count": 69,
   "metadata": {},
   "outputs": [
    {
     "data": {
      "text/plain": [
       " Prof-specialty       4034\n",
       " Craft-repair         4025\n",
       " Exec-managerial      3991\n",
       " Adm-clerical         3719\n",
       " Sales                3584\n",
       " Other-service        3209\n",
       " Machine-op-inspct    1964\n",
       " Transport-moving     1572\n",
       " Handlers-cleaners    1349\n",
       " Farming-fishing       987\n",
       " Tech-support          911\n",
       " Protective-serv       644\n",
       " Priv-house-serv       141\n",
       " Armed-Forces            9\n",
       "Name: occupation, dtype: int64"
      ]
     },
     "execution_count": 69,
     "metadata": {},
     "output_type": "execute_result"
    }
   ],
   "source": [
    "adult_categorical['occupation'].value_counts()"
   ]
  },
  {
   "cell_type": "code",
   "execution_count": 70,
   "metadata": {},
   "outputs": [
    {
     "data": {
      "text/plain": [
       "Husband           12457\n",
       "Not-in-family      7714\n",
       "Own-child          4462\n",
       "Unmarried          3211\n",
       "Wife               1406\n",
       "Other-relative      889\n",
       "Name: relationship, dtype: int64"
      ]
     },
     "execution_count": 70,
     "metadata": {},
     "output_type": "execute_result"
    }
   ],
   "source": [
    "adult['relationship'].value_counts()"
   ]
  },
  {
   "cell_type": "code",
   "execution_count": 71,
   "metadata": {},
   "outputs": [
    {
     "data": {
      "text/plain": [
       " White                 25912\n",
       " Black                  2816\n",
       " Asian-Pac-Islander      894\n",
       " Amer-Indian-Eskimo      286\n",
       " Other                   231\n",
       "Name: race, dtype: int64"
      ]
     },
     "execution_count": 71,
     "metadata": {},
     "output_type": "execute_result"
    }
   ],
   "source": [
    "adult['race'].value_counts()"
   ]
  },
  {
   "cell_type": "code",
   "execution_count": 72,
   "metadata": {},
   "outputs": [
    {
     "data": {
      "text/plain": [
       "Male      20366\n",
       "Female     9773\n",
       "Name: sex, dtype: int64"
      ]
     },
     "execution_count": 72,
     "metadata": {},
     "output_type": "execute_result"
    }
   ],
   "source": [
    "adult['sex'].value_counts()"
   ]
  },
  {
   "cell_type": "code",
   "execution_count": 73,
   "metadata": {},
   "outputs": [
    {
     "data": {
      "text/plain": [
       " United-States                 27487\n",
       " Mexico                          606\n",
       " Philippines                     188\n",
       " Germany                         128\n",
       " Puerto-Rico                     109\n",
       " Canada                          107\n",
       " India                           100\n",
       " El-Salvador                     100\n",
       " Cuba                             92\n",
       " England                          86\n",
       " Jamaica                          80\n",
       " South                            71\n",
       " China                            68\n",
       " Italy                            68\n",
       " Dominican-Republic               67\n",
       " Vietnam                          64\n",
       " Guatemala                        61\n",
       " Japan                            59\n",
       " Columbia                         56\n",
       " Poland                           56\n",
       " Taiwan                           42\n",
       " Iran                             42\n",
       " Haiti                            42\n",
       " Portugal                         34\n",
       " Nicaragua                        33\n",
       " Peru                             30\n",
       " Greece                           29\n",
       " Ecuador                          27\n",
       " France                           27\n",
       " Ireland                          24\n",
       " Hong                             19\n",
       " Trinadad&Tobago                  18\n",
       " Cambodia                         18\n",
       " Laos                             17\n",
       " Thailand                         17\n",
       " Yugoslavia                       16\n",
       " Outlying-US(Guam-USVI-etc)       14\n",
       " Hungary                          13\n",
       " Honduras                         12\n",
       " Scotland                         11\n",
       " Holand-Netherlands                1\n",
       "Name: native-country, dtype: int64"
      ]
     },
     "execution_count": 73,
     "metadata": {},
     "output_type": "execute_result"
    }
   ],
   "source": [
    "adult['native-country'].value_counts()"
   ]
  },
  {
   "cell_type": "code",
   "execution_count": 76,
   "metadata": {},
   "outputs": [
    {
     "data": {
      "text/html": [
       "<div>\n",
       "<style scoped>\n",
       "    .dataframe tbody tr th:only-of-type {\n",
       "        vertical-align: middle;\n",
       "    }\n",
       "\n",
       "    .dataframe tbody tr th {\n",
       "        vertical-align: top;\n",
       "    }\n",
       "\n",
       "    .dataframe thead th {\n",
       "        text-align: right;\n",
       "    }\n",
       "</style>\n",
       "<table border=\"1\" class=\"dataframe\">\n",
       "  <thead>\n",
       "    <tr style=\"text-align: right;\">\n",
       "      <th></th>\n",
       "      <th>age</th>\n",
       "      <th>fnlwgt</th>\n",
       "      <th>eduNum</th>\n",
       "      <th>gain</th>\n",
       "      <th>loss</th>\n",
       "      <th>hours-per-week</th>\n",
       "      <th>income</th>\n",
       "    </tr>\n",
       "  </thead>\n",
       "  <tbody>\n",
       "    <tr>\n",
       "      <th>age</th>\n",
       "      <td>172.434348</td>\n",
       "      <td>-1.058327e+05</td>\n",
       "      <td>1.445940</td>\n",
       "      <td>7.799171e+03</td>\n",
       "      <td>319.404315</td>\n",
       "      <td>15.941911</td>\n",
       "      <td>1.374393</td>\n",
       "    </tr>\n",
       "    <tr>\n",
       "      <th>fnlwgt</th>\n",
       "      <td>-105832.721245</td>\n",
       "      <td>1.116374e+10</td>\n",
       "      <td>-12171.985000</td>\n",
       "      <td>3.288265e+05</td>\n",
       "      <td>-416877.489398</td>\n",
       "      <td>-29152.321019</td>\n",
       "      <td>-410.876170</td>\n",
       "    </tr>\n",
       "    <tr>\n",
       "      <th>eduNum</th>\n",
       "      <td>1.445940</td>\n",
       "      <td>-1.217199e+04</td>\n",
       "      <td>6.496068</td>\n",
       "      <td>2.350198e+03</td>\n",
       "      <td>82.066871</td>\n",
       "      <td>4.666373</td>\n",
       "      <td>0.369708</td>\n",
       "    </tr>\n",
       "    <tr>\n",
       "      <th>gain</th>\n",
       "      <td>7799.171381</td>\n",
       "      <td>3.288265e+05</td>\n",
       "      <td>2350.197805</td>\n",
       "      <td>5.489492e+07</td>\n",
       "      <td>-96654.004562</td>\n",
       "      <td>7138.205869</td>\n",
       "      <td>708.780740</td>\n",
       "    </tr>\n",
       "    <tr>\n",
       "      <th>loss</th>\n",
       "      <td>319.404315</td>\n",
       "      <td>-4.168775e+05</td>\n",
       "      <td>82.066871</td>\n",
       "      <td>-9.665400e+04</td>\n",
       "      <td>163575.951158</td>\n",
       "      <td>253.768690</td>\n",
       "      <td>26.240955</td>\n",
       "    </tr>\n",
       "    <tr>\n",
       "      <th>hours-per-week</th>\n",
       "      <td>15.941911</td>\n",
       "      <td>-2.915232e+04</td>\n",
       "      <td>4.666373</td>\n",
       "      <td>7.138206e+03</td>\n",
       "      <td>253.768690</td>\n",
       "      <td>143.490527</td>\n",
       "      <td>1.188570</td>\n",
       "    </tr>\n",
       "    <tr>\n",
       "      <th>income</th>\n",
       "      <td>1.374393</td>\n",
       "      <td>-4.108762e+02</td>\n",
       "      <td>0.369708</td>\n",
       "      <td>7.087807e+02</td>\n",
       "      <td>26.240955</td>\n",
       "      <td>1.188570</td>\n",
       "      <td>0.187028</td>\n",
       "    </tr>\n",
       "  </tbody>\n",
       "</table>\n",
       "</div>"
      ],
      "text/plain": [
       "                          age        fnlwgt        eduNum          gain  \\\n",
       "age                172.434348 -1.058327e+05      1.445940  7.799171e+03   \n",
       "fnlwgt         -105832.721245  1.116374e+10 -12171.985000  3.288265e+05   \n",
       "eduNum               1.445940 -1.217199e+04      6.496068  2.350198e+03   \n",
       "gain              7799.171381  3.288265e+05   2350.197805  5.489492e+07   \n",
       "loss               319.404315 -4.168775e+05     82.066871 -9.665400e+04   \n",
       "hours-per-week      15.941911 -2.915232e+04      4.666373  7.138206e+03   \n",
       "income               1.374393 -4.108762e+02      0.369708  7.087807e+02   \n",
       "\n",
       "                         loss  hours-per-week      income  \n",
       "age                319.404315       15.941911    1.374393  \n",
       "fnlwgt         -416877.489398   -29152.321019 -410.876170  \n",
       "eduNum              82.066871        4.666373    0.369708  \n",
       "gain            -96654.004562     7138.205869  708.780740  \n",
       "loss            163575.951158      253.768690   26.240955  \n",
       "hours-per-week     253.768690      143.490527    1.188570  \n",
       "income              26.240955        1.188570    0.187028  "
      ]
     },
     "execution_count": 76,
     "metadata": {},
     "output_type": "execute_result"
    }
   ],
   "source": [
    "adult.cov()"
   ]
  },
  {
   "cell_type": "markdown",
   "metadata": {
    "pycharm": {
     "name": "#%% md\n"
    }
   },
   "source": [
    "# Reference\n",
    "[1] Kaggle adult census income dataset. Last access: Sept. 2019. url: https://www.kaggle.com/uciml/adult-census-income\n",
    "[2] [2] Haojun Zhu, Predicting Earning Potential using the Adult Dataset. Dec. 2016. url: https://rstudio-pubs-static.s3.amazonaws.com/235617_51e06fa6c43b47d1b6daca2523b2f9e4.html"
   ]
  },
  {
   "cell_type": "code",
   "execution_count": 89,
   "metadata": {},
   "outputs": [
    {
     "data": {
      "text/html": [
       "<div>\n",
       "<style scoped>\n",
       "    .dataframe tbody tr th:only-of-type {\n",
       "        vertical-align: middle;\n",
       "    }\n",
       "\n",
       "    .dataframe tbody tr th {\n",
       "        vertical-align: top;\n",
       "    }\n",
       "\n",
       "    .dataframe thead th {\n",
       "        text-align: right;\n",
       "    }\n",
       "</style>\n",
       "<table border=\"1\" class=\"dataframe\">\n",
       "  <thead>\n",
       "    <tr style=\"text-align: right;\">\n",
       "      <th></th>\n",
       "      <th>age</th>\n",
       "      <th>fnlwgt</th>\n",
       "      <th>eduNum</th>\n",
       "      <th>gain</th>\n",
       "      <th>loss</th>\n",
       "      <th>hours-per-week</th>\n",
       "      <th>income</th>\n",
       "    </tr>\n",
       "  </thead>\n",
       "  <tbody>\n",
       "    <tr>\n",
       "      <th>age</th>\n",
       "      <td>1.000000</td>\n",
       "      <td>-0.076279</td>\n",
       "      <td>0.043203</td>\n",
       "      <td>0.080162</td>\n",
       "      <td>0.060141</td>\n",
       "      <td>0.101348</td>\n",
       "      <td>0.242017</td>\n",
       "    </tr>\n",
       "    <tr>\n",
       "      <th>fnlwgt</th>\n",
       "      <td>-0.076279</td>\n",
       "      <td>1.000000</td>\n",
       "      <td>-0.045199</td>\n",
       "      <td>0.000420</td>\n",
       "      <td>-0.009755</td>\n",
       "      <td>-0.023033</td>\n",
       "      <td>-0.008992</td>\n",
       "    </tr>\n",
       "    <tr>\n",
       "      <th>eduNum</th>\n",
       "      <td>0.043203</td>\n",
       "      <td>-0.045199</td>\n",
       "      <td>1.000000</td>\n",
       "      <td>0.124455</td>\n",
       "      <td>0.079613</td>\n",
       "      <td>0.152842</td>\n",
       "      <td>0.335413</td>\n",
       "    </tr>\n",
       "    <tr>\n",
       "      <th>gain</th>\n",
       "      <td>0.080162</td>\n",
       "      <td>0.000420</td>\n",
       "      <td>0.124455</td>\n",
       "      <td>1.000000</td>\n",
       "      <td>-0.032255</td>\n",
       "      <td>0.080429</td>\n",
       "      <td>0.221204</td>\n",
       "    </tr>\n",
       "    <tr>\n",
       "      <th>loss</th>\n",
       "      <td>0.060141</td>\n",
       "      <td>-0.009755</td>\n",
       "      <td>0.079613</td>\n",
       "      <td>-0.032255</td>\n",
       "      <td>1.000000</td>\n",
       "      <td>0.052380</td>\n",
       "      <td>0.150026</td>\n",
       "    </tr>\n",
       "    <tr>\n",
       "      <th>hours-per-week</th>\n",
       "      <td>0.101348</td>\n",
       "      <td>-0.023033</td>\n",
       "      <td>0.152842</td>\n",
       "      <td>0.080429</td>\n",
       "      <td>0.052380</td>\n",
       "      <td>1.000000</td>\n",
       "      <td>0.229435</td>\n",
       "    </tr>\n",
       "    <tr>\n",
       "      <th>income</th>\n",
       "      <td>0.242017</td>\n",
       "      <td>-0.008992</td>\n",
       "      <td>0.335413</td>\n",
       "      <td>0.221204</td>\n",
       "      <td>0.150026</td>\n",
       "      <td>0.229435</td>\n",
       "      <td>1.000000</td>\n",
       "    </tr>\n",
       "  </tbody>\n",
       "</table>\n",
       "</div>"
      ],
      "text/plain": [
       "                     age    fnlwgt    eduNum      gain      loss  \\\n",
       "age             1.000000 -0.076279  0.043203  0.080162  0.060141   \n",
       "fnlwgt         -0.076279  1.000000 -0.045199  0.000420 -0.009755   \n",
       "eduNum          0.043203 -0.045199  1.000000  0.124455  0.079613   \n",
       "gain            0.080162  0.000420  0.124455  1.000000 -0.032255   \n",
       "loss            0.060141 -0.009755  0.079613 -0.032255  1.000000   \n",
       "hours-per-week  0.101348 -0.023033  0.152842  0.080429  0.052380   \n",
       "income          0.242017 -0.008992  0.335413  0.221204  0.150026   \n",
       "\n",
       "                hours-per-week    income  \n",
       "age                   0.101348  0.242017  \n",
       "fnlwgt               -0.023033 -0.008992  \n",
       "eduNum                0.152842  0.335413  \n",
       "gain                  0.080429  0.221204  \n",
       "loss                  0.052380  0.150026  \n",
       "hours-per-week        1.000000  0.229435  \n",
       "income                0.229435  1.000000  "
      ]
     },
     "execution_count": 89,
     "metadata": {},
     "output_type": "execute_result"
    }
   ],
   "source": [
    "#correlation matrices\n",
    "adult.corr()"
   ]
  },
  {
   "cell_type": "code",
   "execution_count": 90,
   "metadata": {},
   "outputs": [
    {
     "data": {
      "text/plain": [
       "<matplotlib.image.AxesImage at 0x2248ca79e08>"
      ]
     },
     "execution_count": 90,
     "metadata": {},
     "output_type": "execute_result"
    },
    {
     "data": {
      "image/png": "[encoded data removed]",
      "text/plain": [
       "<Figure size 288x288 with 1 Axes>"
      ]
     },
     "metadata": {
      "needs_background": "light"
     },
     "output_type": "display_data"
    }
   ],
   "source": [
    "plt.matshow(adult.corr())"
   ]
  },
  {
   "cell_type": "code",
   "execution_count": 91,
   "metadata": {},
   "outputs": [
    {
     "data": {
      "text/html": [
       "<div>\n",
       "<style scoped>\n",
       "    .dataframe tbody tr th:only-of-type {\n",
       "        vertical-align: middle;\n",
       "    }\n",
       "\n",
       "    .dataframe tbody tr th {\n",
       "        vertical-align: top;\n",
       "    }\n",
       "\n",
       "    .dataframe thead th {\n",
       "        text-align: right;\n",
       "    }\n",
       "</style>\n",
       "<table border=\"1\" class=\"dataframe\">\n",
       "  <thead>\n",
       "    <tr style=\"text-align: right;\">\n",
       "      <th></th>\n",
       "      <th>workclass</th>\n",
       "      <th>Federal-gov</th>\n",
       "      <th>Local-gov</th>\n",
       "      <th>Private</th>\n",
       "      <th>Self-emp-inc</th>\n",
       "      <th>Self-emp-not-inc</th>\n",
       "      <th>State-gov</th>\n",
       "      <th>Without-pay</th>\n",
       "    </tr>\n",
       "  </thead>\n",
       "  <tbody>\n",
       "    <tr>\n",
       "      <th rowspan=\"4\" valign=\"top\">age</th>\n",
       "      <th>mean</th>\n",
       "      <td>42.577943</td>\n",
       "      <td>41.743106</td>\n",
       "      <td>36.798374</td>\n",
       "      <td>46.027933</td>\n",
       "      <td>45.010008</td>\n",
       "      <td>39.362002</td>\n",
       "      <td>47.785714</td>\n",
       "    </tr>\n",
       "    <tr>\n",
       "      <th>&lt;lambda_0&gt;</th>\n",
       "      <td>42.433862</td>\n",
       "      <td>41.235294</td>\n",
       "      <td>35.469985</td>\n",
       "      <td>45.595975</td>\n",
       "      <td>44.179333</td>\n",
       "      <td>38.738622</td>\n",
       "      <td>49.100000</td>\n",
       "    </tr>\n",
       "    <tr>\n",
       "      <th>median</th>\n",
       "      <td>43.000000</td>\n",
       "      <td>41.000000</td>\n",
       "      <td>35.000000</td>\n",
       "      <td>46.000000</td>\n",
       "      <td>44.000000</td>\n",
       "      <td>39.000000</td>\n",
       "      <td>57.000000</td>\n",
       "    </tr>\n",
       "    <tr>\n",
       "      <th>std</th>\n",
       "      <td>11.532840</td>\n",
       "      <td>12.267402</td>\n",
       "      <td>12.837864</td>\n",
       "      <td>12.689685</td>\n",
       "      <td>13.366507</td>\n",
       "      <td>12.386871</td>\n",
       "      <td>21.075610</td>\n",
       "    </tr>\n",
       "    <tr>\n",
       "      <th rowspan=\"4\" valign=\"top\">fnlwgt</th>\n",
       "      <th>mean</th>\n",
       "      <td>185717.107105</td>\n",
       "      <td>188422.886309</td>\n",
       "      <td>192717.919107</td>\n",
       "      <td>175775.219739</td>\n",
       "      <td>175275.246197</td>\n",
       "      <td>184440.424550</td>\n",
       "      <td>174267.500000</td>\n",
       "    </tr>\n",
       "    <tr>\n",
       "      <th>&lt;lambda_0&gt;</th>\n",
       "      <td>171778.003527</td>\n",
       "      <td>178795.264303</td>\n",
       "      <td>180021.024626</td>\n",
       "      <td>163314.314241</td>\n",
       "      <td>165255.830000</td>\n",
       "      <td>170642.979194</td>\n",
       "      <td>172164.100000</td>\n",
       "    </tr>\n",
       "    <tr>\n",
       "      <th>median</th>\n",
       "      <td>176904.000000</td>\n",
       "      <td>178383.000000</td>\n",
       "      <td>181026.000000</td>\n",
       "      <td>164614.000000</td>\n",
       "      <td>168103.500000</td>\n",
       "      <td>170091.000000</td>\n",
       "      <td>171531.500000</td>\n",
       "    </tr>\n",
       "    <tr>\n",
       "      <th>std</th>\n",
       "      <td>117766.713221</td>\n",
       "      <td>100654.252367</td>\n",
       "      <td>105991.767659</td>\n",
       "      <td>97355.381441</td>\n",
       "      <td>100643.462755</td>\n",
       "      <td>111202.987584</td>\n",
       "      <td>85536.385921</td>\n",
       "    </tr>\n",
       "    <tr>\n",
       "      <th rowspan=\"4\" valign=\"top\">eduNum</th>\n",
       "      <th>mean</th>\n",
       "      <td>10.948038</td>\n",
       "      <td>11.036768</td>\n",
       "      <td>9.872485</td>\n",
       "      <td>11.167598</td>\n",
       "      <td>10.211369</td>\n",
       "      <td>11.349492</td>\n",
       "      <td>9.071429</td>\n",
       "    </tr>\n",
       "    <tr>\n",
       "      <th>&lt;lambda_0&gt;</th>\n",
       "      <td>10.749559</td>\n",
       "      <td>11.099114</td>\n",
       "      <td>9.769611</td>\n",
       "      <td>11.071207</td>\n",
       "      <td>10.094667</td>\n",
       "      <td>11.240572</td>\n",
       "      <td>9.200000</td>\n",
       "    </tr>\n",
       "    <tr>\n",
       "      <th>median</th>\n",
       "      <td>10.000000</td>\n",
       "      <td>10.000000</td>\n",
       "      <td>10.000000</td>\n",
       "      <td>10.000000</td>\n",
       "      <td>10.000000</td>\n",
       "      <td>10.000000</td>\n",
       "      <td>9.000000</td>\n",
       "    </tr>\n",
       "    <tr>\n",
       "      <th>std</th>\n",
       "      <td>2.100565</td>\n",
       "      <td>2.545539</td>\n",
       "      <td>2.482323</td>\n",
       "      <td>2.544997</td>\n",
       "      <td>2.757187</td>\n",
       "      <td>2.530994</td>\n",
       "      <td>1.685426</td>\n",
       "    </tr>\n",
       "    <tr>\n",
       "      <th rowspan=\"4\" valign=\"top\">gain</th>\n",
       "      <th>mean</th>\n",
       "      <td>832.321315</td>\n",
       "      <td>829.230285</td>\n",
       "      <td>880.727632</td>\n",
       "      <td>4810.746741</td>\n",
       "      <td>1913.900320</td>\n",
       "      <td>684.306489</td>\n",
       "      <td>487.857143</td>\n",
       "    </tr>\n",
       "    <tr>\n",
       "      <th>&lt;lambda_0&gt;</th>\n",
       "      <td>0.000000</td>\n",
       "      <td>0.000000</td>\n",
       "      <td>0.000000</td>\n",
       "      <td>0.000000</td>\n",
       "      <td>0.000000</td>\n",
       "      <td>0.000000</td>\n",
       "      <td>0.000000</td>\n",
       "    </tr>\n",
       "    <tr>\n",
       "      <th>median</th>\n",
       "      <td>0.000000</td>\n",
       "      <td>0.000000</td>\n",
       "      <td>0.000000</td>\n",
       "      <td>0.000000</td>\n",
       "      <td>0.000000</td>\n",
       "      <td>0.000000</td>\n",
       "      <td>0.000000</td>\n",
       "    </tr>\n",
       "    <tr>\n",
       "      <th>std</th>\n",
       "      <td>4111.473884</td>\n",
       "      <td>5375.040712</td>\n",
       "      <td>6341.187485</td>\n",
       "      <td>17828.904145</td>\n",
       "      <td>11076.735577</td>\n",
       "      <td>3771.592651</td>\n",
       "      <td>1300.780467</td>\n",
       "    </tr>\n",
       "    <tr>\n",
       "      <th rowspan=\"4\" valign=\"top\">loss</th>\n",
       "      <th>mean</th>\n",
       "      <td>111.731707</td>\n",
       "      <td>110.323174</td>\n",
       "      <td>79.708184</td>\n",
       "      <td>153.504655</td>\n",
       "      <td>115.618495</td>\n",
       "      <td>81.147772</td>\n",
       "      <td>0.000000</td>\n",
       "    </tr>\n",
       "    <tr>\n",
       "      <th>&lt;lambda_0&gt;</th>\n",
       "      <td>0.000000</td>\n",
       "      <td>0.000000</td>\n",
       "      <td>0.000000</td>\n",
       "      <td>0.000000</td>\n",
       "      <td>0.000000</td>\n",
       "      <td>0.000000</td>\n",
       "      <td>0.000000</td>\n",
       "    </tr>\n",
       "    <tr>\n",
       "      <th>median</th>\n",
       "      <td>0.000000</td>\n",
       "      <td>0.000000</td>\n",
       "      <td>0.000000</td>\n",
       "      <td>0.000000</td>\n",
       "      <td>0.000000</td>\n",
       "      <td>0.000000</td>\n",
       "      <td>0.000000</td>\n",
       "    </tr>\n",
       "    <tr>\n",
       "      <th>std</th>\n",
       "      <td>451.148107</td>\n",
       "      <td>440.372500</td>\n",
       "      <td>383.354450</td>\n",
       "      <td>546.910433</td>\n",
       "      <td>465.828429</td>\n",
       "      <td>388.739091</td>\n",
       "      <td>0.000000</td>\n",
       "    </tr>\n",
       "    <tr>\n",
       "      <th rowspan=\"4\" valign=\"top\">hours-per-week</th>\n",
       "      <th>mean</th>\n",
       "      <td>41.279958</td>\n",
       "      <td>41.002419</td>\n",
       "      <td>40.254851</td>\n",
       "      <td>48.802607</td>\n",
       "      <td>44.433947</td>\n",
       "      <td>39.053948</td>\n",
       "      <td>32.714286</td>\n",
       "    </tr>\n",
       "    <tr>\n",
       "      <th>&lt;lambda_0&gt;</th>\n",
       "      <td>40.014109</td>\n",
       "      <td>40.476229</td>\n",
       "      <td>40.488922</td>\n",
       "      <td>47.907121</td>\n",
       "      <td>44.182000</td>\n",
       "      <td>39.728218</td>\n",
       "      <td>31.600000</td>\n",
       "    </tr>\n",
       "    <tr>\n",
       "      <th>median</th>\n",
       "      <td>40.000000</td>\n",
       "      <td>40.000000</td>\n",
       "      <td>40.000000</td>\n",
       "      <td>50.000000</td>\n",
       "      <td>40.000000</td>\n",
       "      <td>40.000000</td>\n",
       "      <td>27.500000</td>\n",
       "    </tr>\n",
       "    <tr>\n",
       "      <th>std</th>\n",
       "      <td>8.720239</td>\n",
       "      <td>10.760325</td>\n",
       "      <td>11.262432</td>\n",
       "      <td>13.777156</td>\n",
       "      <td>16.685741</td>\n",
       "      <td>11.669861</td>\n",
       "      <td>17.357900</td>\n",
       "    </tr>\n",
       "    <tr>\n",
       "      <th rowspan=\"4\" valign=\"top\">income</th>\n",
       "      <th>mean</th>\n",
       "      <td>0.387063</td>\n",
       "      <td>0.294630</td>\n",
       "      <td>0.218918</td>\n",
       "      <td>0.558659</td>\n",
       "      <td>0.285829</td>\n",
       "      <td>0.268960</td>\n",
       "      <td>0.000000</td>\n",
       "    </tr>\n",
       "    <tr>\n",
       "      <th>&lt;lambda_0&gt;</th>\n",
       "      <td>0.312169</td>\n",
       "      <td>0.157937</td>\n",
       "      <td>0.031587</td>\n",
       "      <td>0.597523</td>\n",
       "      <td>0.143333</td>\n",
       "      <td>0.115735</td>\n",
       "      <td>0.000000</td>\n",
       "    </tr>\n",
       "    <tr>\n",
       "      <th>median</th>\n",
       "      <td>0.000000</td>\n",
       "      <td>0.000000</td>\n",
       "      <td>0.000000</td>\n",
       "      <td>1.000000</td>\n",
       "      <td>0.000000</td>\n",
       "      <td>0.000000</td>\n",
       "      <td>0.000000</td>\n",
       "    </tr>\n",
       "    <tr>\n",
       "      <th>std</th>\n",
       "      <td>0.487337</td>\n",
       "      <td>0.455987</td>\n",
       "      <td>0.413522</td>\n",
       "      <td>0.496779</td>\n",
       "      <td>0.451899</td>\n",
       "      <td>0.443593</td>\n",
       "      <td>0.000000</td>\n",
       "    </tr>\n",
       "  </tbody>\n",
       "</table>\n",
       "</div>"
      ],
      "text/plain": [
       "workclass                    Federal-gov      Local-gov        Private  \\\n",
       "age            mean            42.577943      41.743106      36.798374   \n",
       "               <lambda_0>      42.433862      41.235294      35.469985   \n",
       "               median          43.000000      41.000000      35.000000   \n",
       "               std             11.532840      12.267402      12.837864   \n",
       "fnlwgt         mean        185717.107105  188422.886309  192717.919107   \n",
       "               <lambda_0>  171778.003527  178795.264303  180021.024626   \n",
       "               median      176904.000000  178383.000000  181026.000000   \n",
       "               std         117766.713221  100654.252367  105991.767659   \n",
       "eduNum         mean            10.948038      11.036768       9.872485   \n",
       "               <lambda_0>      10.749559      11.099114       9.769611   \n",
       "               median          10.000000      10.000000      10.000000   \n",
       "               std              2.100565       2.545539       2.482323   \n",
       "gain           mean           832.321315     829.230285     880.727632   \n",
       "               <lambda_0>       0.000000       0.000000       0.000000   \n",
       "               median           0.000000       0.000000       0.000000   \n",
       "               std           4111.473884    5375.040712    6341.187485   \n",
       "loss           mean           111.731707     110.323174      79.708184   \n",
       "               <lambda_0>       0.000000       0.000000       0.000000   \n",
       "               median           0.000000       0.000000       0.000000   \n",
       "               std            451.148107     440.372500     383.354450   \n",
       "hours-per-week mean            41.279958      41.002419      40.254851   \n",
       "               <lambda_0>      40.014109      40.476229      40.488922   \n",
       "               median          40.000000      40.000000      40.000000   \n",
       "               std              8.720239      10.760325      11.262432   \n",
       "income         mean             0.387063       0.294630       0.218918   \n",
       "               <lambda_0>       0.312169       0.157937       0.031587   \n",
       "               median           0.000000       0.000000       0.000000   \n",
       "               std              0.487337       0.455987       0.413522   \n",
       "\n",
       "workclass                   Self-emp-inc   Self-emp-not-inc      State-gov  \\\n",
       "age            mean            46.027933          45.010008      39.362002   \n",
       "               <lambda_0>      45.595975          44.179333      38.738622   \n",
       "               median          46.000000          44.000000      39.000000   \n",
       "               std             12.689685          13.366507      12.386871   \n",
       "fnlwgt         mean        175775.219739      175275.246197  184440.424550   \n",
       "               <lambda_0>  163314.314241      165255.830000  170642.979194   \n",
       "               median      164614.000000      168103.500000  170091.000000   \n",
       "               std          97355.381441      100643.462755  111202.987584   \n",
       "eduNum         mean            11.167598          10.211369      11.349492   \n",
       "               <lambda_0>      11.071207          10.094667      11.240572   \n",
       "               median          10.000000          10.000000      10.000000   \n",
       "               std              2.544997           2.757187       2.530994   \n",
       "gain           mean          4810.746741        1913.900320     684.306489   \n",
       "               <lambda_0>       0.000000           0.000000       0.000000   \n",
       "               median           0.000000           0.000000       0.000000   \n",
       "               std          17828.904145       11076.735577    3771.592651   \n",
       "loss           mean           153.504655         115.618495      81.147772   \n",
       "               <lambda_0>       0.000000           0.000000       0.000000   \n",
       "               median           0.000000           0.000000       0.000000   \n",
       "               std            546.910433         465.828429     388.739091   \n",
       "hours-per-week mean            48.802607          44.433947      39.053948   \n",
       "               <lambda_0>      47.907121          44.182000      39.728218   \n",
       "               median          50.000000          40.000000      40.000000   \n",
       "               std             13.777156          16.685741      11.669861   \n",
       "income         mean             0.558659           0.285829       0.268960   \n",
       "               <lambda_0>       0.597523           0.143333       0.115735   \n",
       "               median           1.000000           0.000000       0.000000   \n",
       "               std              0.496779           0.451899       0.443593   \n",
       "\n",
       "workclass                    Without-pay  \n",
       "age            mean            47.785714  \n",
       "               <lambda_0>      49.100000  \n",
       "               median          57.000000  \n",
       "               std             21.075610  \n",
       "fnlwgt         mean        174267.500000  \n",
       "               <lambda_0>  172164.100000  \n",
       "               median      171531.500000  \n",
       "               std          85536.385921  \n",
       "eduNum         mean             9.071429  \n",
       "               <lambda_0>       9.200000  \n",
       "               median           9.000000  \n",
       "               std              1.685426  \n",
       "gain           mean           487.857143  \n",
       "               <lambda_0>       0.000000  \n",
       "               median           0.000000  \n",
       "               std           1300.780467  \n",
       "loss           mean             0.000000  \n",
       "               <lambda_0>       0.000000  \n",
       "               median           0.000000  \n",
       "               std              0.000000  \n",
       "hours-per-week mean            32.714286  \n",
       "               <lambda_0>      31.600000  \n",
       "               median          27.500000  \n",
       "               std             17.357900  \n",
       "income         mean             0.000000  \n",
       "               <lambda_0>       0.000000  \n",
       "               median           0.000000  \n",
       "               std              0.000000  "
      ]
     },
     "execution_count": 91,
     "metadata": {},
     "output_type": "execute_result"
    }
   ],
   "source": [
    "adult.groupby('workclass').agg(['mean', lambda x: trim_mean(x, 0.2), 'median', 'std']).T"
   ]
  },
  {
   "cell_type": "code",
   "execution_count": 92,
   "metadata": {},
   "outputs": [
    {
     "data": {
      "text/html": [
       "<div>\n",
       "<style scoped>\n",
       "    .dataframe tbody tr th:only-of-type {\n",
       "        vertical-align: middle;\n",
       "    }\n",
       "\n",
       "    .dataframe tbody tr th {\n",
       "        vertical-align: top;\n",
       "    }\n",
       "\n",
       "    .dataframe thead th {\n",
       "        text-align: right;\n",
       "    }\n",
       "</style>\n",
       "<table border=\"1\" class=\"dataframe\">\n",
       "  <thead>\n",
       "    <tr style=\"text-align: right;\">\n",
       "      <th>sex</th>\n",
       "      <th>Female</th>\n",
       "      <th>Male</th>\n",
       "    </tr>\n",
       "    <tr>\n",
       "      <th>relationship</th>\n",
       "      <th></th>\n",
       "      <th></th>\n",
       "    </tr>\n",
       "  </thead>\n",
       "  <tbody>\n",
       "    <tr>\n",
       "      <th>Husband</th>\n",
       "      <td>1</td>\n",
       "      <td>12456</td>\n",
       "    </tr>\n",
       "    <tr>\n",
       "      <th>Not-in-family</th>\n",
       "      <td>3560</td>\n",
       "      <td>4154</td>\n",
       "    </tr>\n",
       "    <tr>\n",
       "      <th>Other-relative</th>\n",
       "      <td>386</td>\n",
       "      <td>503</td>\n",
       "    </tr>\n",
       "    <tr>\n",
       "      <th>Own-child</th>\n",
       "      <td>1959</td>\n",
       "      <td>2503</td>\n",
       "    </tr>\n",
       "    <tr>\n",
       "      <th>Unmarried</th>\n",
       "      <td>2462</td>\n",
       "      <td>749</td>\n",
       "    </tr>\n",
       "    <tr>\n",
       "      <th>Wife</th>\n",
       "      <td>1405</td>\n",
       "      <td>1</td>\n",
       "    </tr>\n",
       "  </tbody>\n",
       "</table>\n",
       "</div>"
      ],
      "text/plain": [
       "sex             Female   Male\n",
       "relationship                 \n",
       "Husband              1  12456\n",
       "Not-in-family     3560   4154\n",
       "Other-relative     386    503\n",
       "Own-child         1959   2503\n",
       "Unmarried         2462    749\n",
       "Wife              1405      1"
      ]
     },
     "execution_count": 92,
     "metadata": {},
     "output_type": "execute_result"
    }
   ],
   "source": [
    "#cross tabulations\n",
    "twowayct = pd.crosstab(index=adult['relationship'], columns=adult['sex'], margins=False)\n",
    "twowayct"
   ]
  },
  {
   "cell_type": "code",
   "execution_count": 93,
   "metadata": {},
   "outputs": [
    {
     "data": {
      "image/png": "[encoded data removed]",
      "text/plain": [
       "<Figure size 432x288 with 1 Axes>"
      ]
     },
     "metadata": {
      "needs_background": "light"
     },
     "output_type": "display_data"
    }
   ],
   "source": [
    "plt.bar(twowayct.index.values, twowayct.Female.values, color='#ffcccc')\n",
    "plt.bar(twowayct.index.values, twowayct.Male.values, color='#ccccff', bottom=twowayct.Female.values)\n",
    "plt.show()"
   ]
  },
  {
   "cell_type": "code",
   "execution_count": 95,
   "metadata": {},
   "outputs": [
    {
     "data": {
      "text/plain": [
       "<matplotlib.axes._subplots.AxesSubplot at 0x2248ca619c8>"
      ]
     },
     "execution_count": 95,
     "metadata": {},
     "output_type": "execute_result"
    },
    {
     "data": {
      "image/png": "[encoded data removed]",
      "text/plain": [
       "<Figure size 432x288 with 1 Axes>"
      ]
     },
     "metadata": {
      "needs_background": "light"
     },
     "output_type": "display_data"
    }
   ],
   "source": [
    "sns.boxplot(x=adult['income'], y=adult['eduNum'])"
   ]
  },
  {
   "cell_type": "code",
   "execution_count": null,
   "metadata": {},
   "outputs": [],
   "source": []
  }
 ],
 "metadata": {
  "kernelspec": {
   "display_name": "Python 3",
   "language": "python",
   "name": "python3"
  },
  "language_info": {
   "codemirror_mode": {
    "name": "ipython",
    "version": 3
   },
   "file_extension": ".py",
   "mimetype": "text/x-python",
   "name": "python",
   "nbconvert_exporter": "python",
   "pygments_lexer": "ipython3",
   "version": "3.7.4"
  },
  "pycharm": {
   "stem_cell": {
    "cell_type": "raw",
    "metadata": {
     "collapsed": false
    },
    "source": []
   }
  }
 },
 "nbformat": 4,
 "nbformat_minor": 2
}
