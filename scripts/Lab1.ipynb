{
 "cells": [
  {
   "cell_type": "code",
   "execution_count": 1,
   "metadata": {
    "pycharm": {
     "is_executing": false
    }
   },
   "outputs": [],
   "source": [
    "import pathlib\n",
    "import urllib\n",
    "import sys\n",
    "import pandas as pd\n",
    "import numpy as np\n",
    "from scipy.stats import trim_mean, iqr, skew, kurtosis"
   ]
  },
  {
   "cell_type": "markdown",
   "source": [
    "# 1. Collect data"
   ],
   "metadata": {
    "collapsed": false,
    "pycharm": {
     "name": "#%% md\n"
    }
   }
  },
  {
   "cell_type": "code",
   "execution_count": 5,
   "metadata": {
    "pycharm": {
     "is_executing": false
    }
   },
   "outputs": [
    {
     "name": "stdout",
     "text": [
      "adult dataset found!\n"
     ],
     "output_type": "stream"
    }
   ],
   "source": [
    "path = pathlib.Path('../data/adult.csv')\n",
    "if path.exists():\n",
    "    print('adult dataset found!')\n",
    "else:\n",
    "    sys.stdout.write('Downloading the adult dataset from the Internet...')\n",
    "    ADULTURL = \"https://archive.ics.uci.edu/ml/machine-learning-databases/adult/adult.data\"\n",
    "    urllib.request.urlretrieve(ADULTURL, path.absolute())\n",
    "    sys.stdout.write('Done!')"
   ]
  },
  {
   "cell_type": "markdown",
   "source": [
    "# 2. Understand the data in context\n"
   ],
   "metadata": {
    "collapsed": false,
    "pycharm": {
     "name": "#%% md\n"
    }
   }
  },
  {
   "cell_type": "code",
   "execution_count": 12,
   "metadata": {
    "pycharm": {
     "is_executing": false
    }
   },
   "outputs": [],
   "source": [
    "# Load the adult dataset into a Pandas dataframe\n",
    "adult_columns = ['age', 'workclass', 'fnlwgt', 'education', 'education-num', 'marital-status', 'occupation', 'relationship', 'race', 'sex', 'capital-gain', 'capital-loss', 'hours-per-week', 'native-country', '>50K']\n",
    "adult = pd.read_csv(path.absolute(),names=adult_columns)"
   ]
  },
  {
   "cell_type": "markdown",
   "source": [
    "# 3. Understand the data\n",
    "### 3.1 Describe the meansing and type for each attribute\n",
    " - **age**: numeric, continuous. \n",
    " - **workclass**: categorical, discrete.\n",
    " - **fnlwgt**: numeric, continuous\n",
    " - **education**: categorical, discrete\n",
    " - **education-num**: numeric, continuous\n",
    " - **marital-status**: categorical, discrete\n",
    " - **occupation**: categorical, discrete\n",
    " - **relationship**: categorical, discrete\n",
    " - **race**: categorical, discrete\n",
    " - **sex**: categorical, binary\n",
    " - **capital-gain**: numeric, continuous\n",
    " - **capital-loss**: numeric, continuous\n",
    " - **hours-per-week**: numeric, continuous\n",
    " - **native-country**: categorical, discrete\n",
    " - **>50k**: categorical, binary\n",
    "\n",
    "*3.1 subsection: explanation for non-self-explanatory attributes*\n",
    " - **fnlwgt**: represents final weight. according to [2], it's the number of units that this record could represent in the \n",
    " target population. In [1], the author explained that the final weight is controlled by three factors: a single cell estimatation\n",
    " of the population 16+ for each state; controls for Hispanic Origin by age and sex; controls by race, age and sex.\n",
    " - **education_num**: represents the number of years of education in total.[2]\n",
    " - **relationship**: represents the individual's role in it's family.[2]\n",
    " - **capital_gain** and **capital_loss**: represents the income and loss from non-salary ways, e.g. investment.[2]\n",
    " \n",
    " \n",
    "### 3.2 Verify data quality\n",
    "#### 3.2.1 duplication"
   ],
   "metadata": {
    "collapsed": false,
    "pycharm": {
     "name": "#%% md\n"
    }
   }
  },
  {
   "cell_type": "code",
   "execution_count": 14,
   "outputs": [
    {
     "name": "stdout",
     "text": [
      "There are 0 duplicated data entries found.(One copy of the data entry will be kept in the dataset)\nAfter drop duplicate, there are 32537 data entries remains.\n"
     ],
     "output_type": "stream"
    }
   ],
   "source": [
    "# Check duplication and drop duplication via pandas built in function\n",
    "check_duplication = adult.duplicated()\n",
    "duplicated = adult[check_duplication]\n",
    "print(\"There are \"+str(len(duplicated.index))+\" duplicated data entries found.(One copy of the data entry will be kept in the dataset)\")\n",
    "adult = adult.drop_duplicates()\n",
    "print(\"After drop duplicate, there are \"+str(len(adult.index))+ \" data entries remains.\")"
   ],
   "metadata": {
    "collapsed": false,
    "pycharm": {
     "name": "#%%\n",
     "is_executing": false
    }
   }
  },
  {
   "cell_type": "markdown",
   "source": [
    "#### 3.2.2 missing values"
   ],
   "metadata": {
    "collapsed": false,
    "pycharm": {
     "name": "#%% md\n"
    }
   }
  },
  {
   "cell_type": "code",
   "execution_count": 9,
   "metadata": {
    "pycharm": {
     "is_executing": false
    }
   },
   "outputs": [
    {
     "name": "stdout",
     "text": [
      "32561\n",
      "30162\n"
     ],
     "output_type": "stream"
    }
   ],
   "source": [
    "# drop the indexes for which column has value '?'\n",
    "unknown_row =[]\n",
    "\n",
    "for i in range(len(adult.index)):\n",
    "    if ('?' in adult.iloc[i]['workclass']) or ('?' in adult.iloc[i]['occupation']) or ('?' in adult.iloc[i]['native-country']):\n",
    "        unknown_row.append(i)\n",
    "adult = adult.drop(index = unknown_row)\n",
    "adult = adult.reset_index(drop=True)"
   ]
  },
  {
   "cell_type": "code",
   "execution_count": 10,
   "outputs": [
    {
     "name": "stdout",
     "text": [
      "{' Some-college', ' Bachelors', ' 1st-4th', ' 10th', ' 7th-8th', ' Prof-school', ' Assoc-voc', ' 11th', ' Assoc-acdm', ' Preschool', ' 9th', ' Masters', ' 5th-6th', ' 12th', ' HS-grad', ' Doctorate'}\n"
     ],
     "output_type": "stream"
    }
   ],
   "source": [
    "# print(set(adult['education']))"
   ],
   "metadata": {
    "collapsed": false,
    "pycharm": {
     "name": "#%%\n",
     "is_executing": false
    }
   }
  },
  {
   "cell_type": "code",
   "execution_count": 300,
   "metadata": {},
   "outputs": [],
   "source": [
    "#change >50k col to binary values\n",
    "for i in range(len(adult.index)):\n",
    "    if '>50K' in adult.iloc[i]['>50K']:\n",
    "        adult.iloc[i, adult.columns.get_loc('>50K')] = 1\n",
    "    else:\n",
    "        adult.iloc[i,adult.columns.get_loc('>50K')] = 0"
   ]
  },
  {
   "cell_type": "code",
   "execution_count": 303,
   "metadata": {
    "scrolled": true
   },
   "outputs": [
    {
     "data": {
      "text/html": [
       "<div>\n",
       "<style scoped>\n",
       "    .dataframe tbody tr th:only-of-type {\n",
       "        vertical-align: middle;\n",
       "    }\n",
       "\n",
       "    .dataframe tbody tr th {\n",
       "        vertical-align: top;\n",
       "    }\n",
       "\n",
       "    .dataframe thead th {\n",
       "        text-align: right;\n",
       "    }\n",
       "</style>\n",
       "<table border=\"1\" class=\"dataframe\">\n",
       "  <thead>\n",
       "    <tr style=\"text-align: right;\">\n",
       "      <th></th>\n",
       "      <th>age</th>\n",
       "      <th>workclass</th>\n",
       "      <th>fnlwgt</th>\n",
       "      <th>education</th>\n",
       "      <th>education-num</th>\n",
       "      <th>marital-status</th>\n",
       "      <th>occupation</th>\n",
       "      <th>relationship</th>\n",
       "      <th>race</th>\n",
       "      <th>sex</th>\n",
       "      <th>capital-gain</th>\n",
       "      <th>capital-loss</th>\n",
       "      <th>hours-per-week</th>\n",
       "      <th>native-country</th>\n",
       "      <th>&gt;50K</th>\n",
       "    </tr>\n",
       "  </thead>\n",
       "  <tbody>\n",
       "    <tr>\n",
       "      <th>0</th>\n",
       "      <td>39</td>\n",
       "      <td>State-gov</td>\n",
       "      <td>77516</td>\n",
       "      <td>Bachelors</td>\n",
       "      <td>13</td>\n",
       "      <td>Never-married</td>\n",
       "      <td>Adm-clerical</td>\n",
       "      <td>Not-in-family</td>\n",
       "      <td>White</td>\n",
       "      <td>Male</td>\n",
       "      <td>2174</td>\n",
       "      <td>0</td>\n",
       "      <td>40</td>\n",
       "      <td>United-States</td>\n",
       "      <td>0</td>\n",
       "    </tr>\n",
       "    <tr>\n",
       "      <th>1</th>\n",
       "      <td>50</td>\n",
       "      <td>Self-emp-not-inc</td>\n",
       "      <td>83311</td>\n",
       "      <td>Bachelors</td>\n",
       "      <td>13</td>\n",
       "      <td>Married-civ-spouse</td>\n",
       "      <td>Exec-managerial</td>\n",
       "      <td>Husband</td>\n",
       "      <td>White</td>\n",
       "      <td>Male</td>\n",
       "      <td>0</td>\n",
       "      <td>0</td>\n",
       "      <td>13</td>\n",
       "      <td>United-States</td>\n",
       "      <td>0</td>\n",
       "    </tr>\n",
       "    <tr>\n",
       "      <th>2</th>\n",
       "      <td>38</td>\n",
       "      <td>Private</td>\n",
       "      <td>215646</td>\n",
       "      <td>HS-grad</td>\n",
       "      <td>9</td>\n",
       "      <td>Divorced</td>\n",
       "      <td>Handlers-cleaners</td>\n",
       "      <td>Not-in-family</td>\n",
       "      <td>White</td>\n",
       "      <td>Male</td>\n",
       "      <td>0</td>\n",
       "      <td>0</td>\n",
       "      <td>40</td>\n",
       "      <td>United-States</td>\n",
       "      <td>0</td>\n",
       "    </tr>\n",
       "    <tr>\n",
       "      <th>3</th>\n",
       "      <td>53</td>\n",
       "      <td>Private</td>\n",
       "      <td>234721</td>\n",
       "      <td>11th</td>\n",
       "      <td>7</td>\n",
       "      <td>Married-civ-spouse</td>\n",
       "      <td>Handlers-cleaners</td>\n",
       "      <td>Husband</td>\n",
       "      <td>Black</td>\n",
       "      <td>Male</td>\n",
       "      <td>0</td>\n",
       "      <td>0</td>\n",
       "      <td>40</td>\n",
       "      <td>United-States</td>\n",
       "      <td>0</td>\n",
       "    </tr>\n",
       "    <tr>\n",
       "      <th>4</th>\n",
       "      <td>28</td>\n",
       "      <td>Private</td>\n",
       "      <td>338409</td>\n",
       "      <td>Bachelors</td>\n",
       "      <td>13</td>\n",
       "      <td>Married-civ-spouse</td>\n",
       "      <td>Prof-specialty</td>\n",
       "      <td>Wife</td>\n",
       "      <td>Black</td>\n",
       "      <td>Female</td>\n",
       "      <td>0</td>\n",
       "      <td>0</td>\n",
       "      <td>40</td>\n",
       "      <td>Cuba</td>\n",
       "      <td>0</td>\n",
       "    </tr>\n",
       "  </tbody>\n",
       "</table>\n",
       "</div>"
      ],
      "text/plain": [
       "   age          workclass  fnlwgt   education  education-num  \\\n",
       "0   39          State-gov   77516   Bachelors             13   \n",
       "1   50   Self-emp-not-inc   83311   Bachelors             13   \n",
       "2   38            Private  215646     HS-grad              9   \n",
       "3   53            Private  234721        11th              7   \n",
       "4   28            Private  338409   Bachelors             13   \n",
       "\n",
       "        marital-status          occupation    relationship    race      sex  \\\n",
       "0        Never-married        Adm-clerical   Not-in-family   White     Male   \n",
       "1   Married-civ-spouse     Exec-managerial         Husband   White     Male   \n",
       "2             Divorced   Handlers-cleaners   Not-in-family   White     Male   \n",
       "3   Married-civ-spouse   Handlers-cleaners         Husband   Black     Male   \n",
       "4   Married-civ-spouse      Prof-specialty            Wife   Black   Female   \n",
       "\n",
       "   capital-gain  capital-loss  hours-per-week  native-country  >50K  \n",
       "0          2174             0              40   United-States     0  \n",
       "1             0             0              13   United-States     0  \n",
       "2             0             0              40   United-States     0  \n",
       "3             0             0              40   United-States     0  \n",
       "4             0             0              40            Cuba     0  "
      ]
     },
     "execution_count": 303,
     "metadata": {},
     "output_type": "execute_result"
    }
   ],
   "source": [
    "adult.head(5)"
   ]
  },
  {
   "cell_type": "markdown",
   "metadata": {},
   "source": [
    "### 1. Statistics about Numeric values"
   ]
  },
  {
   "cell_type": "code",
   "execution_count": 304,
   "metadata": {},
   "outputs": [],
   "source": [
    "# select all columns with numeric values\n",
    "adult_numeric = adult.select_dtypes(include=np.number)"
   ]
  },
  {
   "cell_type": "code",
   "execution_count": 305,
   "metadata": {},
   "outputs": [
    {
     "data": {
      "text/html": [
       "<div>\n",
       "<style scoped>\n",
       "    .dataframe tbody tr th:only-of-type {\n",
       "        vertical-align: middle;\n",
       "    }\n",
       "\n",
       "    .dataframe tbody tr th {\n",
       "        vertical-align: top;\n",
       "    }\n",
       "\n",
       "    .dataframe thead th {\n",
       "        text-align: right;\n",
       "    }\n",
       "</style>\n",
       "<table border=\"1\" class=\"dataframe\">\n",
       "  <thead>\n",
       "    <tr style=\"text-align: right;\">\n",
       "      <th></th>\n",
       "      <th>age</th>\n",
       "      <th>fnlwgt</th>\n",
       "      <th>education-num</th>\n",
       "      <th>capital-gain</th>\n",
       "      <th>capital-loss</th>\n",
       "      <th>hours-per-week</th>\n",
       "      <th>&gt;50K</th>\n",
       "    </tr>\n",
       "  </thead>\n",
       "  <tbody>\n",
       "    <tr>\n",
       "      <th>0</th>\n",
       "      <td>39</td>\n",
       "      <td>77516</td>\n",
       "      <td>13</td>\n",
       "      <td>2174</td>\n",
       "      <td>0</td>\n",
       "      <td>40</td>\n",
       "      <td>0</td>\n",
       "    </tr>\n",
       "    <tr>\n",
       "      <th>1</th>\n",
       "      <td>50</td>\n",
       "      <td>83311</td>\n",
       "      <td>13</td>\n",
       "      <td>0</td>\n",
       "      <td>0</td>\n",
       "      <td>13</td>\n",
       "      <td>0</td>\n",
       "    </tr>\n",
       "    <tr>\n",
       "      <th>2</th>\n",
       "      <td>38</td>\n",
       "      <td>215646</td>\n",
       "      <td>9</td>\n",
       "      <td>0</td>\n",
       "      <td>0</td>\n",
       "      <td>40</td>\n",
       "      <td>0</td>\n",
       "    </tr>\n",
       "    <tr>\n",
       "      <th>3</th>\n",
       "      <td>53</td>\n",
       "      <td>234721</td>\n",
       "      <td>7</td>\n",
       "      <td>0</td>\n",
       "      <td>0</td>\n",
       "      <td>40</td>\n",
       "      <td>0</td>\n",
       "    </tr>\n",
       "    <tr>\n",
       "      <th>4</th>\n",
       "      <td>28</td>\n",
       "      <td>338409</td>\n",
       "      <td>13</td>\n",
       "      <td>0</td>\n",
       "      <td>0</td>\n",
       "      <td>40</td>\n",
       "      <td>0</td>\n",
       "    </tr>\n",
       "  </tbody>\n",
       "</table>\n",
       "</div>"
      ],
      "text/plain": [
       "   age  fnlwgt  education-num  capital-gain  capital-loss  hours-per-week  \\\n",
       "0   39   77516             13          2174             0              40   \n",
       "1   50   83311             13             0             0              13   \n",
       "2   38  215646              9             0             0              40   \n",
       "3   53  234721              7             0             0              40   \n",
       "4   28  338409             13             0             0              40   \n",
       "\n",
       "   >50K  \n",
       "0     0  \n",
       "1     0  \n",
       "2     0  \n",
       "3     0  \n",
       "4     0  "
      ]
     },
     "execution_count": 305,
     "metadata": {},
     "output_type": "execute_result"
    }
   ],
   "source": [
    "adult_numeric.head(5)"
   ]
  },
  {
   "cell_type": "code",
   "execution_count": 306,
   "metadata": {},
   "outputs": [
    {
     "data": {
      "text/html": [
       "<div>\n",
       "<style scoped>\n",
       "    .dataframe tbody tr th:only-of-type {\n",
       "        vertical-align: middle;\n",
       "    }\n",
       "\n",
       "    .dataframe tbody tr th {\n",
       "        vertical-align: top;\n",
       "    }\n",
       "\n",
       "    .dataframe thead th {\n",
       "        text-align: right;\n",
       "    }\n",
       "</style>\n",
       "<table border=\"1\" class=\"dataframe\">\n",
       "  <thead>\n",
       "    <tr style=\"text-align: right;\">\n",
       "      <th></th>\n",
       "      <th>age</th>\n",
       "      <th>fnlwgt</th>\n",
       "      <th>education-num</th>\n",
       "      <th>capital-gain</th>\n",
       "      <th>capital-loss</th>\n",
       "      <th>hours-per-week</th>\n",
       "      <th>&gt;50K</th>\n",
       "    </tr>\n",
       "  </thead>\n",
       "  <tbody>\n",
       "    <tr>\n",
       "      <th>mean</th>\n",
       "      <td>38.437902</td>\n",
       "      <td>1.897938e+05</td>\n",
       "      <td>10.121312</td>\n",
       "      <td>1092.007858</td>\n",
       "      <td>88.372489</td>\n",
       "      <td>40.931238</td>\n",
       "      <td>0.248922</td>\n",
       "    </tr>\n",
       "    <tr>\n",
       "      <th>median</th>\n",
       "      <td>37.000000</td>\n",
       "      <td>1.784250e+05</td>\n",
       "      <td>10.000000</td>\n",
       "      <td>0.000000</td>\n",
       "      <td>0.000000</td>\n",
       "      <td>40.000000</td>\n",
       "      <td>0.000000</td>\n",
       "    </tr>\n",
       "    <tr>\n",
       "      <th>mode</th>\n",
       "      <td>36.000000</td>\n",
       "      <td>2.034880e+05</td>\n",
       "      <td>9.000000</td>\n",
       "      <td>0.000000</td>\n",
       "      <td>0.000000</td>\n",
       "      <td>40.000000</td>\n",
       "      <td>0.000000</td>\n",
       "    </tr>\n",
       "    <tr>\n",
       "      <th>trimmed mean (p=20%)</th>\n",
       "      <td>37.360206</td>\n",
       "      <td>1.775348e+05</td>\n",
       "      <td>10.024423</td>\n",
       "      <td>0.000000</td>\n",
       "      <td>0.000000</td>\n",
       "      <td>40.859653</td>\n",
       "      <td>0.081556</td>\n",
       "    </tr>\n",
       "    <tr>\n",
       "      <th>min</th>\n",
       "      <td>17.000000</td>\n",
       "      <td>1.376900e+04</td>\n",
       "      <td>1.000000</td>\n",
       "      <td>0.000000</td>\n",
       "      <td>0.000000</td>\n",
       "      <td>1.000000</td>\n",
       "      <td>0.000000</td>\n",
       "    </tr>\n",
       "    <tr>\n",
       "      <th>max</th>\n",
       "      <td>90.000000</td>\n",
       "      <td>1.484705e+06</td>\n",
       "      <td>16.000000</td>\n",
       "      <td>99999.000000</td>\n",
       "      <td>4356.000000</td>\n",
       "      <td>99.000000</td>\n",
       "      <td>1.000000</td>\n",
       "    </tr>\n",
       "    <tr>\n",
       "      <th>range</th>\n",
       "      <td>73.000000</td>\n",
       "      <td>1.470936e+06</td>\n",
       "      <td>15.000000</td>\n",
       "      <td>99999.000000</td>\n",
       "      <td>4356.000000</td>\n",
       "      <td>98.000000</td>\n",
       "      <td>1.000000</td>\n",
       "    </tr>\n",
       "    <tr>\n",
       "      <th>std</th>\n",
       "      <td>13.134665</td>\n",
       "      <td>1.056530e+05</td>\n",
       "      <td>2.549995</td>\n",
       "      <td>7406.346497</td>\n",
       "      <td>404.298370</td>\n",
       "      <td>11.979984</td>\n",
       "      <td>0.432396</td>\n",
       "    </tr>\n",
       "  </tbody>\n",
       "</table>\n",
       "</div>"
      ],
      "text/plain": [
       "                            age        fnlwgt  education-num  capital-gain  \\\n",
       "mean                  38.437902  1.897938e+05      10.121312   1092.007858   \n",
       "median                37.000000  1.784250e+05      10.000000      0.000000   \n",
       "mode                  36.000000  2.034880e+05       9.000000      0.000000   \n",
       "trimmed mean (p=20%)  37.360206  1.775348e+05      10.024423      0.000000   \n",
       "min                   17.000000  1.376900e+04       1.000000      0.000000   \n",
       "max                   90.000000  1.484705e+06      16.000000  99999.000000   \n",
       "range                 73.000000  1.470936e+06      15.000000  99999.000000   \n",
       "std                   13.134665  1.056530e+05       2.549995   7406.346497   \n",
       "\n",
       "                      capital-loss  hours-per-week      >50K  \n",
       "mean                     88.372489       40.931238  0.248922  \n",
       "median                    0.000000       40.000000  0.000000  \n",
       "mode                      0.000000       40.000000  0.000000  \n",
       "trimmed mean (p=20%)      0.000000       40.859653  0.081556  \n",
       "min                       0.000000        1.000000  0.000000  \n",
       "max                    4356.000000       99.000000  1.000000  \n",
       "range                  4356.000000       98.000000  1.000000  \n",
       "std                     404.298370       11.979984  0.432396  "
      ]
     },
     "execution_count": 306,
     "metadata": {},
     "output_type": "execute_result"
    }
   ],
   "source": [
    "cnames = ['mean', 'median', 'mode', 'trimmed mean (p=20%)', 'min', 'max', 'range', 'std']\n",
    "adult_numeric.agg(lambda x: pd.Series([np.mean(x), np.median(x),x.mode()[0], trim_mean(x, 0.2),x.min(),x.max(),x.max()-x.min(),x.std()], index=cnames))"
   ]
  },
  {
   "cell_type": "markdown",
   "metadata": {},
   "source": [
    "### 2. Statistics about Categorical values"
   ]
  },
  {
   "cell_type": "code",
   "execution_count": 307,
   "metadata": {},
   "outputs": [],
   "source": [
    "# select all columns with categorical values\n",
    "adult_categorical = adult.select_dtypes(include=['object'])"
   ]
  },
  {
   "cell_type": "code",
   "execution_count": 308,
   "metadata": {},
   "outputs": [
    {
     "data": {
      "text/html": [
       "<div>\n",
       "<style scoped>\n",
       "    .dataframe tbody tr th:only-of-type {\n",
       "        vertical-align: middle;\n",
       "    }\n",
       "\n",
       "    .dataframe tbody tr th {\n",
       "        vertical-align: top;\n",
       "    }\n",
       "\n",
       "    .dataframe thead th {\n",
       "        text-align: right;\n",
       "    }\n",
       "</style>\n",
       "<table border=\"1\" class=\"dataframe\">\n",
       "  <thead>\n",
       "    <tr style=\"text-align: right;\">\n",
       "      <th></th>\n",
       "      <th>workclass</th>\n",
       "      <th>education</th>\n",
       "      <th>marital-status</th>\n",
       "      <th>occupation</th>\n",
       "      <th>relationship</th>\n",
       "      <th>race</th>\n",
       "      <th>sex</th>\n",
       "      <th>native-country</th>\n",
       "    </tr>\n",
       "  </thead>\n",
       "  <tbody>\n",
       "    <tr>\n",
       "      <th>0</th>\n",
       "      <td>State-gov</td>\n",
       "      <td>Bachelors</td>\n",
       "      <td>Never-married</td>\n",
       "      <td>Adm-clerical</td>\n",
       "      <td>Not-in-family</td>\n",
       "      <td>White</td>\n",
       "      <td>Male</td>\n",
       "      <td>United-States</td>\n",
       "    </tr>\n",
       "    <tr>\n",
       "      <th>1</th>\n",
       "      <td>Self-emp-not-inc</td>\n",
       "      <td>Bachelors</td>\n",
       "      <td>Married-civ-spouse</td>\n",
       "      <td>Exec-managerial</td>\n",
       "      <td>Husband</td>\n",
       "      <td>White</td>\n",
       "      <td>Male</td>\n",
       "      <td>United-States</td>\n",
       "    </tr>\n",
       "    <tr>\n",
       "      <th>2</th>\n",
       "      <td>Private</td>\n",
       "      <td>HS-grad</td>\n",
       "      <td>Divorced</td>\n",
       "      <td>Handlers-cleaners</td>\n",
       "      <td>Not-in-family</td>\n",
       "      <td>White</td>\n",
       "      <td>Male</td>\n",
       "      <td>United-States</td>\n",
       "    </tr>\n",
       "    <tr>\n",
       "      <th>3</th>\n",
       "      <td>Private</td>\n",
       "      <td>11th</td>\n",
       "      <td>Married-civ-spouse</td>\n",
       "      <td>Handlers-cleaners</td>\n",
       "      <td>Husband</td>\n",
       "      <td>Black</td>\n",
       "      <td>Male</td>\n",
       "      <td>United-States</td>\n",
       "    </tr>\n",
       "    <tr>\n",
       "      <th>4</th>\n",
       "      <td>Private</td>\n",
       "      <td>Bachelors</td>\n",
       "      <td>Married-civ-spouse</td>\n",
       "      <td>Prof-specialty</td>\n",
       "      <td>Wife</td>\n",
       "      <td>Black</td>\n",
       "      <td>Female</td>\n",
       "      <td>Cuba</td>\n",
       "    </tr>\n",
       "  </tbody>\n",
       "</table>\n",
       "</div>"
      ],
      "text/plain": [
       "           workclass   education       marital-status          occupation  \\\n",
       "0          State-gov   Bachelors        Never-married        Adm-clerical   \n",
       "1   Self-emp-not-inc   Bachelors   Married-civ-spouse     Exec-managerial   \n",
       "2            Private     HS-grad             Divorced   Handlers-cleaners   \n",
       "3            Private        11th   Married-civ-spouse   Handlers-cleaners   \n",
       "4            Private   Bachelors   Married-civ-spouse      Prof-specialty   \n",
       "\n",
       "     relationship    race      sex  native-country  \n",
       "0   Not-in-family   White     Male   United-States  \n",
       "1         Husband   White     Male   United-States  \n",
       "2   Not-in-family   White     Male   United-States  \n",
       "3         Husband   Black     Male   United-States  \n",
       "4            Wife   Black   Female            Cuba  "
      ]
     },
     "execution_count": 308,
     "metadata": {},
     "output_type": "execute_result"
    }
   ],
   "source": [
    "adult_categorical.head(5)"
   ]
  },
  {
   "cell_type": "code",
   "execution_count": 309,
   "metadata": {},
   "outputs": [
    {
     "data": {
      "text/plain": [
       "['workclass',\n",
       " 'education',\n",
       " 'marital-status',\n",
       " 'occupation',\n",
       " 'relationship',\n",
       " 'race',\n",
       " 'sex',\n",
       " 'native-country']"
      ]
     },
     "execution_count": 309,
     "metadata": {},
     "output_type": "execute_result"
    }
   ],
   "source": [
    "cnames = adult_categorical.columns.tolist()\n",
    "cnames"
   ]
  },
  {
   "cell_type": "code",
   "execution_count": 310,
   "metadata": {},
   "outputs": [
    {
     "data": {
      "text/plain": [
       " Private             22286\n",
       " Self-emp-not-inc     2499\n",
       " Local-gov            2067\n",
       " State-gov            1279\n",
       " Self-emp-inc         1074\n",
       " Federal-gov           943\n",
       " Without-pay            14\n",
       "Name: workclass, dtype: int64"
      ]
     },
     "execution_count": 310,
     "metadata": {},
     "output_type": "execute_result"
    }
   ],
   "source": [
    "adult_categorical['workclass'].value_counts()"
   ]
  },
  {
   "cell_type": "code",
   "execution_count": 311,
   "metadata": {},
   "outputs": [
    {
     "data": {
      "text/plain": [
       " HS-grad         9840\n",
       " Some-college    6678\n",
       " Bachelors       5044\n",
       " Masters         1627\n",
       " Assoc-voc       1307\n",
       " 11th            1048\n",
       " Assoc-acdm      1008\n",
       " 10th             820\n",
       " 7th-8th          557\n",
       " Prof-school      542\n",
       " 9th              455\n",
       " 12th             377\n",
       " Doctorate        375\n",
       " 5th-6th          288\n",
       " 1st-4th          151\n",
       " Preschool         45\n",
       "Name: education, dtype: int64"
      ]
     },
     "execution_count": 311,
     "metadata": {},
     "output_type": "execute_result"
    }
   ],
   "source": [
    "adult_categorical['education'].value_counts()"
   ]
  },
  {
   "cell_type": "code",
   "execution_count": 312,
   "metadata": {},
   "outputs": [
    {
     "data": {
      "text/plain": [
       " Married-civ-spouse       14065\n",
       " Never-married             9726\n",
       " Divorced                  4214\n",
       " Separated                  939\n",
       " Widowed                    827\n",
       " Married-spouse-absent      370\n",
       " Married-AF-spouse           21\n",
       "Name: marital-status, dtype: int64"
      ]
     },
     "execution_count": 312,
     "metadata": {},
     "output_type": "execute_result"
    }
   ],
   "source": [
    "adult['marital-status'].value_counts()"
   ]
  },
  {
   "cell_type": "code",
   "execution_count": 313,
   "metadata": {},
   "outputs": [
    {
     "data": {
      "text/plain": [
       " Prof-specialty       4038\n",
       " Craft-repair         4030\n",
       " Exec-managerial      3992\n",
       " Adm-clerical         3721\n",
       " Sales                3584\n",
       " Other-service        3212\n",
       " Machine-op-inspct    1966\n",
       " Transport-moving     1572\n",
       " Handlers-cleaners    1350\n",
       " Farming-fishing       989\n",
       " Tech-support          912\n",
       " Protective-serv       644\n",
       " Priv-house-serv       143\n",
       " Armed-Forces            9\n",
       "Name: occupation, dtype: int64"
      ]
     },
     "execution_count": 313,
     "metadata": {},
     "output_type": "execute_result"
    }
   ],
   "source": [
    "adult_categorical['occupation'].value_counts()"
   ]
  },
  {
   "cell_type": "code",
   "execution_count": 314,
   "metadata": {},
   "outputs": [
    {
     "data": {
      "text/plain": [
       " Husband           12463\n",
       " Not-in-family      7726\n",
       " Own-child          4466\n",
       " Unmarried          3212\n",
       " Wife               1406\n",
       " Other-relative      889\n",
       "Name: relationship, dtype: int64"
      ]
     },
     "execution_count": 314,
     "metadata": {},
     "output_type": "execute_result"
    }
   ],
   "source": [
    "adult['relationship'].value_counts()"
   ]
  },
  {
   "cell_type": "code",
   "execution_count": 315,
   "metadata": {},
   "outputs": [
    {
     "data": {
      "text/plain": [
       " White                 25933\n",
       " Black                  2817\n",
       " Asian-Pac-Islander      895\n",
       " Amer-Indian-Eskimo      286\n",
       " Other                   231\n",
       "Name: race, dtype: int64"
      ]
     },
     "execution_count": 315,
     "metadata": {},
     "output_type": "execute_result"
    }
   ],
   "source": [
    "adult['race'].value_counts()"
   ]
  },
  {
   "cell_type": "code",
   "execution_count": 316,
   "metadata": {},
   "outputs": [
    {
     "data": {
      "text/plain": [
       " Male      20380\n",
       " Female     9782\n",
       "Name: sex, dtype: int64"
      ]
     },
     "execution_count": 316,
     "metadata": {},
     "output_type": "execute_result"
    }
   ],
   "source": [
    "adult['sex'].value_counts()"
   ]
  },
  {
   "cell_type": "code",
   "execution_count": 317,
   "metadata": {},
   "outputs": [
    {
     "data": {
      "text/plain": [
       " United-States                 27504\n",
       " Mexico                          610\n",
       " Philippines                     188\n",
       " Germany                         128\n",
       " Puerto-Rico                     109\n",
       " Canada                          107\n",
       " El-Salvador                     100\n",
       " India                           100\n",
       " Cuba                             92\n",
       " England                          86\n",
       " Jamaica                          80\n",
       " South                            71\n",
       " China                            68\n",
       " Italy                            68\n",
       " Dominican-Republic               67\n",
       " Vietnam                          64\n",
       " Guatemala                        63\n",
       " Japan                            59\n",
       " Poland                           56\n",
       " Columbia                         56\n",
       " Haiti                            42\n",
       " Taiwan                           42\n",
       " Iran                             42\n",
       " Portugal                         34\n",
       " Nicaragua                        33\n",
       " Peru                             30\n",
       " Greece                           29\n",
       " Ecuador                          27\n",
       " France                           27\n",
       " Ireland                          24\n",
       " Hong                             19\n",
       " Cambodia                         18\n",
       " Trinadad&Tobago                  18\n",
       " Laos                             17\n",
       " Thailand                         17\n",
       " Yugoslavia                       16\n",
       " Outlying-US(Guam-USVI-etc)       14\n",
       " Hungary                          13\n",
       " Honduras                         12\n",
       " Scotland                         11\n",
       " Holand-Netherlands                1\n",
       "Name: native-country, dtype: int64"
      ]
     },
     "execution_count": 317,
     "metadata": {},
     "output_type": "execute_result"
    }
   ],
   "source": [
    "adult['native-country'].value_counts()"
   ]
  },
  {
   "cell_type": "code",
   "execution_count": 319,
   "metadata": {},
   "outputs": [
    {
     "data": {
      "text/html": [
       "<div>\n",
       "<style scoped>\n",
       "    .dataframe tbody tr th:only-of-type {\n",
       "        vertical-align: middle;\n",
       "    }\n",
       "\n",
       "    .dataframe tbody tr th {\n",
       "        vertical-align: top;\n",
       "    }\n",
       "\n",
       "    .dataframe thead th {\n",
       "        text-align: right;\n",
       "    }\n",
       "</style>\n",
       "<table border=\"1\" class=\"dataframe\">\n",
       "  <thead>\n",
       "    <tr style=\"text-align: right;\">\n",
       "      <th></th>\n",
       "      <th>workclass</th>\n",
       "      <th>Federal-gov</th>\n",
       "      <th>Local-gov</th>\n",
       "      <th>Private</th>\n",
       "      <th>Self-emp-inc</th>\n",
       "      <th>Self-emp-not-inc</th>\n",
       "      <th>State-gov</th>\n",
       "      <th>Without-pay</th>\n",
       "    </tr>\n",
       "  </thead>\n",
       "  <tbody>\n",
       "    <tr>\n",
       "      <th rowspan=\"4\" valign=\"top\">age</th>\n",
       "      <th>mean</th>\n",
       "      <td>42.577943</td>\n",
       "      <td>41.743106</td>\n",
       "      <td>36.794355</td>\n",
       "      <td>46.027933</td>\n",
       "      <td>45.011605</td>\n",
       "      <td>39.362002</td>\n",
       "      <td>47.785714</td>\n",
       "    </tr>\n",
       "    <tr>\n",
       "      <th>&lt;lambda_0&gt;</th>\n",
       "      <td>42.433862</td>\n",
       "      <td>41.235294</td>\n",
       "      <td>35.464403</td>\n",
       "      <td>45.595975</td>\n",
       "      <td>44.182545</td>\n",
       "      <td>38.738622</td>\n",
       "      <td>49.100000</td>\n",
       "    </tr>\n",
       "    <tr>\n",
       "      <th>median</th>\n",
       "      <td>43.000000</td>\n",
       "      <td>41.000000</td>\n",
       "      <td>35.000000</td>\n",
       "      <td>46.000000</td>\n",
       "      <td>44.000000</td>\n",
       "      <td>39.000000</td>\n",
       "      <td>57.000000</td>\n",
       "    </tr>\n",
       "    <tr>\n",
       "      <th>std</th>\n",
       "      <td>11.532840</td>\n",
       "      <td>12.267402</td>\n",
       "      <td>12.842129</td>\n",
       "      <td>12.689685</td>\n",
       "      <td>13.364069</td>\n",
       "      <td>12.386871</td>\n",
       "      <td>21.075610</td>\n",
       "    </tr>\n",
       "    <tr>\n",
       "      <th rowspan=\"4\" valign=\"top\">fnlwgt</th>\n",
       "      <th>mean</th>\n",
       "      <td>185717.107105</td>\n",
       "      <td>188422.886309</td>\n",
       "      <td>192719.985776</td>\n",
       "      <td>175775.219739</td>\n",
       "      <td>175222.506603</td>\n",
       "      <td>184440.424550</td>\n",
       "      <td>174267.500000</td>\n",
       "    </tr>\n",
       "    <tr>\n",
       "      <th>&lt;lambda_0&gt;</th>\n",
       "      <td>171778.003527</td>\n",
       "      <td>178795.264303</td>\n",
       "      <td>180036.951914</td>\n",
       "      <td>163314.314241</td>\n",
       "      <td>165205.450366</td>\n",
       "      <td>170642.979194</td>\n",
       "      <td>172164.100000</td>\n",
       "    </tr>\n",
       "    <tr>\n",
       "      <th>median</th>\n",
       "      <td>176904.000000</td>\n",
       "      <td>178383.000000</td>\n",
       "      <td>181059.500000</td>\n",
       "      <td>164614.000000</td>\n",
       "      <td>168098.000000</td>\n",
       "      <td>170091.000000</td>\n",
       "      <td>171531.500000</td>\n",
       "    </tr>\n",
       "    <tr>\n",
       "      <th>std</th>\n",
       "      <td>117766.713221</td>\n",
       "      <td>100654.252367</td>\n",
       "      <td>105981.547011</td>\n",
       "      <td>97355.381441</td>\n",
       "      <td>100657.849119</td>\n",
       "      <td>111202.987584</td>\n",
       "      <td>85536.385921</td>\n",
       "    </tr>\n",
       "    <tr>\n",
       "      <th rowspan=\"4\" valign=\"top\">education-num</th>\n",
       "      <th>mean</th>\n",
       "      <td>10.948038</td>\n",
       "      <td>11.036768</td>\n",
       "      <td>9.871085</td>\n",
       "      <td>11.167598</td>\n",
       "      <td>10.211285</td>\n",
       "      <td>11.349492</td>\n",
       "      <td>9.071429</td>\n",
       "    </tr>\n",
       "    <tr>\n",
       "      <th>&lt;lambda_0&gt;</th>\n",
       "      <td>10.749559</td>\n",
       "      <td>11.099114</td>\n",
       "      <td>9.768920</td>\n",
       "      <td>11.071207</td>\n",
       "      <td>10.094604</td>\n",
       "      <td>11.240572</td>\n",
       "      <td>9.200000</td>\n",
       "    </tr>\n",
       "    <tr>\n",
       "      <th>median</th>\n",
       "      <td>10.000000</td>\n",
       "      <td>10.000000</td>\n",
       "      <td>10.000000</td>\n",
       "      <td>10.000000</td>\n",
       "      <td>10.000000</td>\n",
       "      <td>10.000000</td>\n",
       "      <td>9.000000</td>\n",
       "    </tr>\n",
       "    <tr>\n",
       "      <th>std</th>\n",
       "      <td>2.100565</td>\n",
       "      <td>2.545539</td>\n",
       "      <td>2.484040</td>\n",
       "      <td>2.544997</td>\n",
       "      <td>2.756639</td>\n",
       "      <td>2.530994</td>\n",
       "      <td>1.685426</td>\n",
       "    </tr>\n",
       "    <tr>\n",
       "      <th rowspan=\"4\" valign=\"top\">capital-gain</th>\n",
       "      <th>mean</th>\n",
       "      <td>832.321315</td>\n",
       "      <td>829.230285</td>\n",
       "      <td>879.858207</td>\n",
       "      <td>4810.746741</td>\n",
       "      <td>1913.134454</td>\n",
       "      <td>684.306489</td>\n",
       "      <td>487.857143</td>\n",
       "    </tr>\n",
       "    <tr>\n",
       "      <th>&lt;lambda_0&gt;</th>\n",
       "      <td>0.000000</td>\n",
       "      <td>0.000000</td>\n",
       "      <td>0.000000</td>\n",
       "      <td>0.000000</td>\n",
       "      <td>0.000000</td>\n",
       "      <td>0.000000</td>\n",
       "      <td>0.000000</td>\n",
       "    </tr>\n",
       "    <tr>\n",
       "      <th>median</th>\n",
       "      <td>0.000000</td>\n",
       "      <td>0.000000</td>\n",
       "      <td>0.000000</td>\n",
       "      <td>0.000000</td>\n",
       "      <td>0.000000</td>\n",
       "      <td>0.000000</td>\n",
       "      <td>0.000000</td>\n",
       "    </tr>\n",
       "    <tr>\n",
       "      <th>std</th>\n",
       "      <td>4111.473884</td>\n",
       "      <td>5375.040712</td>\n",
       "      <td>6338.117016</td>\n",
       "      <td>17828.904145</td>\n",
       "      <td>11074.584412</td>\n",
       "      <td>3771.592651</td>\n",
       "      <td>1300.780467</td>\n",
       "    </tr>\n",
       "    <tr>\n",
       "      <th rowspan=\"4\" valign=\"top\">capital-loss</th>\n",
       "      <th>mean</th>\n",
       "      <td>111.731707</td>\n",
       "      <td>110.323174</td>\n",
       "      <td>79.629498</td>\n",
       "      <td>153.504655</td>\n",
       "      <td>115.572229</td>\n",
       "      <td>81.147772</td>\n",
       "      <td>0.000000</td>\n",
       "    </tr>\n",
       "    <tr>\n",
       "      <th>&lt;lambda_0&gt;</th>\n",
       "      <td>0.000000</td>\n",
       "      <td>0.000000</td>\n",
       "      <td>0.000000</td>\n",
       "      <td>0.000000</td>\n",
       "      <td>0.000000</td>\n",
       "      <td>0.000000</td>\n",
       "      <td>0.000000</td>\n",
       "    </tr>\n",
       "    <tr>\n",
       "      <th>median</th>\n",
       "      <td>0.000000</td>\n",
       "      <td>0.000000</td>\n",
       "      <td>0.000000</td>\n",
       "      <td>0.000000</td>\n",
       "      <td>0.000000</td>\n",
       "      <td>0.000000</td>\n",
       "      <td>0.000000</td>\n",
       "    </tr>\n",
       "    <tr>\n",
       "      <th>std</th>\n",
       "      <td>451.148107</td>\n",
       "      <td>440.372500</td>\n",
       "      <td>383.173354</td>\n",
       "      <td>546.910433</td>\n",
       "      <td>465.740922</td>\n",
       "      <td>388.739091</td>\n",
       "      <td>0.000000</td>\n",
       "    </tr>\n",
       "    <tr>\n",
       "      <th rowspan=\"4\" valign=\"top\">hours-per-week</th>\n",
       "      <th>mean</th>\n",
       "      <td>41.279958</td>\n",
       "      <td>41.002419</td>\n",
       "      <td>40.250875</td>\n",
       "      <td>48.802607</td>\n",
       "      <td>44.432173</td>\n",
       "      <td>39.053948</td>\n",
       "      <td>32.714286</td>\n",
       "    </tr>\n",
       "    <tr>\n",
       "      <th>&lt;lambda_0&gt;</th>\n",
       "      <td>40.014109</td>\n",
       "      <td>40.476229</td>\n",
       "      <td>40.488035</td>\n",
       "      <td>47.907121</td>\n",
       "      <td>44.179214</td>\n",
       "      <td>39.728218</td>\n",
       "      <td>31.600000</td>\n",
       "    </tr>\n",
       "    <tr>\n",
       "      <th>median</th>\n",
       "      <td>40.000000</td>\n",
       "      <td>40.000000</td>\n",
       "      <td>40.000000</td>\n",
       "      <td>50.000000</td>\n",
       "      <td>40.000000</td>\n",
       "      <td>40.000000</td>\n",
       "      <td>27.500000</td>\n",
       "    </tr>\n",
       "    <tr>\n",
       "      <th>std</th>\n",
       "      <td>8.720239</td>\n",
       "      <td>10.760325</td>\n",
       "      <td>11.264958</td>\n",
       "      <td>13.777156</td>\n",
       "      <td>16.682636</td>\n",
       "      <td>11.669861</td>\n",
       "      <td>17.357900</td>\n",
       "    </tr>\n",
       "    <tr>\n",
       "      <th rowspan=\"4\" valign=\"top\">&gt;50K</th>\n",
       "      <th>mean</th>\n",
       "      <td>0.387063</td>\n",
       "      <td>0.294630</td>\n",
       "      <td>0.218792</td>\n",
       "      <td>0.558659</td>\n",
       "      <td>0.285714</td>\n",
       "      <td>0.268960</td>\n",
       "      <td>0.000000</td>\n",
       "    </tr>\n",
       "    <tr>\n",
       "      <th>&lt;lambda_0&gt;</th>\n",
       "      <td>0.312169</td>\n",
       "      <td>0.157937</td>\n",
       "      <td>0.031334</td>\n",
       "      <td>0.597523</td>\n",
       "      <td>0.143238</td>\n",
       "      <td>0.115735</td>\n",
       "      <td>0.000000</td>\n",
       "    </tr>\n",
       "    <tr>\n",
       "      <th>median</th>\n",
       "      <td>0.000000</td>\n",
       "      <td>0.000000</td>\n",
       "      <td>0.000000</td>\n",
       "      <td>1.000000</td>\n",
       "      <td>0.000000</td>\n",
       "      <td>0.000000</td>\n",
       "      <td>0.000000</td>\n",
       "    </tr>\n",
       "    <tr>\n",
       "      <th>std</th>\n",
       "      <td>0.487337</td>\n",
       "      <td>0.455987</td>\n",
       "      <td>0.413437</td>\n",
       "      <td>0.496779</td>\n",
       "      <td>0.451844</td>\n",
       "      <td>0.443593</td>\n",
       "      <td>0.000000</td>\n",
       "    </tr>\n",
       "  </tbody>\n",
       "</table>\n",
       "</div>"
      ],
      "text/plain": [
       "workclass                    Federal-gov      Local-gov        Private  \\\n",
       "age            mean            42.577943      41.743106      36.794355   \n",
       "               <lambda_0>      42.433862      41.235294      35.464403   \n",
       "               median          43.000000      41.000000      35.000000   \n",
       "               std             11.532840      12.267402      12.842129   \n",
       "fnlwgt         mean        185717.107105  188422.886309  192719.985776   \n",
       "               <lambda_0>  171778.003527  178795.264303  180036.951914   \n",
       "               median      176904.000000  178383.000000  181059.500000   \n",
       "               std         117766.713221  100654.252367  105981.547011   \n",
       "education-num  mean            10.948038      11.036768       9.871085   \n",
       "               <lambda_0>      10.749559      11.099114       9.768920   \n",
       "               median          10.000000      10.000000      10.000000   \n",
       "               std              2.100565       2.545539       2.484040   \n",
       "capital-gain   mean           832.321315     829.230285     879.858207   \n",
       "               <lambda_0>       0.000000       0.000000       0.000000   \n",
       "               median           0.000000       0.000000       0.000000   \n",
       "               std           4111.473884    5375.040712    6338.117016   \n",
       "capital-loss   mean           111.731707     110.323174      79.629498   \n",
       "               <lambda_0>       0.000000       0.000000       0.000000   \n",
       "               median           0.000000       0.000000       0.000000   \n",
       "               std            451.148107     440.372500     383.173354   \n",
       "hours-per-week mean            41.279958      41.002419      40.250875   \n",
       "               <lambda_0>      40.014109      40.476229      40.488035   \n",
       "               median          40.000000      40.000000      40.000000   \n",
       "               std              8.720239      10.760325      11.264958   \n",
       ">50K           mean             0.387063       0.294630       0.218792   \n",
       "               <lambda_0>       0.312169       0.157937       0.031334   \n",
       "               median           0.000000       0.000000       0.000000   \n",
       "               std              0.487337       0.455987       0.413437   \n",
       "\n",
       "workclass                   Self-emp-inc   Self-emp-not-inc      State-gov  \\\n",
       "age            mean            46.027933          45.011605      39.362002   \n",
       "               <lambda_0>      45.595975          44.182545      38.738622   \n",
       "               median          46.000000          44.000000      39.000000   \n",
       "               std             12.689685          13.364069      12.386871   \n",
       "fnlwgt         mean        175775.219739      175222.506603  184440.424550   \n",
       "               <lambda_0>  163314.314241      165205.450366  170642.979194   \n",
       "               median      164614.000000      168098.000000  170091.000000   \n",
       "               std          97355.381441      100657.849119  111202.987584   \n",
       "education-num  mean            11.167598          10.211285      11.349492   \n",
       "               <lambda_0>      11.071207          10.094604      11.240572   \n",
       "               median          10.000000          10.000000      10.000000   \n",
       "               std              2.544997           2.756639       2.530994   \n",
       "capital-gain   mean          4810.746741        1913.134454     684.306489   \n",
       "               <lambda_0>       0.000000           0.000000       0.000000   \n",
       "               median           0.000000           0.000000       0.000000   \n",
       "               std          17828.904145       11074.584412    3771.592651   \n",
       "capital-loss   mean           153.504655         115.572229      81.147772   \n",
       "               <lambda_0>       0.000000           0.000000       0.000000   \n",
       "               median           0.000000           0.000000       0.000000   \n",
       "               std            546.910433         465.740922     388.739091   \n",
       "hours-per-week mean            48.802607          44.432173      39.053948   \n",
       "               <lambda_0>      47.907121          44.179214      39.728218   \n",
       "               median          50.000000          40.000000      40.000000   \n",
       "               std             13.777156          16.682636      11.669861   \n",
       ">50K           mean             0.558659           0.285714       0.268960   \n",
       "               <lambda_0>       0.597523           0.143238       0.115735   \n",
       "               median           1.000000           0.000000       0.000000   \n",
       "               std              0.496779           0.451844       0.443593   \n",
       "\n",
       "workclass                    Without-pay  \n",
       "age            mean            47.785714  \n",
       "               <lambda_0>      49.100000  \n",
       "               median          57.000000  \n",
       "               std             21.075610  \n",
       "fnlwgt         mean        174267.500000  \n",
       "               <lambda_0>  172164.100000  \n",
       "               median      171531.500000  \n",
       "               std          85536.385921  \n",
       "education-num  mean             9.071429  \n",
       "               <lambda_0>       9.200000  \n",
       "               median           9.000000  \n",
       "               std              1.685426  \n",
       "capital-gain   mean           487.857143  \n",
       "               <lambda_0>       0.000000  \n",
       "               median           0.000000  \n",
       "               std           1300.780467  \n",
       "capital-loss   mean             0.000000  \n",
       "               <lambda_0>       0.000000  \n",
       "               median           0.000000  \n",
       "               std              0.000000  \n",
       "hours-per-week mean            32.714286  \n",
       "               <lambda_0>      31.600000  \n",
       "               median          27.500000  \n",
       "               std             17.357900  \n",
       ">50K           mean             0.000000  \n",
       "               <lambda_0>       0.000000  \n",
       "               median           0.000000  \n",
       "               std              0.000000  "
      ]
     },
     "execution_count": 319,
     "metadata": {},
     "output_type": "execute_result"
    }
   ],
   "source": [
    "adult.groupby('workclass').agg(['mean', lambda x: trim_mean(x, 0.2), 'median', 'std']).T"
   ]
  },
  {
   "cell_type": "code",
   "execution_count": 320,
   "metadata": {},
   "outputs": [
    {
     "data": {
      "text/html": [
       "<div>\n",
       "<style scoped>\n",
       "    .dataframe tbody tr th:only-of-type {\n",
       "        vertical-align: middle;\n",
       "    }\n",
       "\n",
       "    .dataframe tbody tr th {\n",
       "        vertical-align: top;\n",
       "    }\n",
       "\n",
       "    .dataframe thead th {\n",
       "        text-align: right;\n",
       "    }\n",
       "</style>\n",
       "<table border=\"1\" class=\"dataframe\">\n",
       "  <thead>\n",
       "    <tr style=\"text-align: right;\">\n",
       "      <th></th>\n",
       "      <th>age</th>\n",
       "      <th>fnlwgt</th>\n",
       "      <th>education-num</th>\n",
       "      <th>capital-gain</th>\n",
       "      <th>capital-loss</th>\n",
       "      <th>hours-per-week</th>\n",
       "      <th>&gt;50K</th>\n",
       "    </tr>\n",
       "  </thead>\n",
       "  <tbody>\n",
       "    <tr>\n",
       "      <th>age</th>\n",
       "      <td>172.519419</td>\n",
       "      <td>-1.061753e+05</td>\n",
       "      <td>1.457834</td>\n",
       "      <td>7.797393e+03</td>\n",
       "      <td>319.498166</td>\n",
       "      <td>15.986877</td>\n",
       "      <td>1.374398</td>\n",
       "    </tr>\n",
       "    <tr>\n",
       "      <th>fnlwgt</th>\n",
       "      <td>-106175.339198</td>\n",
       "      <td>1.116255e+10</td>\n",
       "      <td>-12121.429540</td>\n",
       "      <td>3.298775e+05</td>\n",
       "      <td>-416454.241511</td>\n",
       "      <td>-28966.974882</td>\n",
       "      <td>-409.210210</td>\n",
       "    </tr>\n",
       "    <tr>\n",
       "      <th>education-num</th>\n",
       "      <td>1.457834</td>\n",
       "      <td>-1.212143e+04</td>\n",
       "      <td>6.502474</td>\n",
       "      <td>2.349739e+03</td>\n",
       "      <td>82.112167</td>\n",
       "      <td>4.659381</td>\n",
       "      <td>0.369689</td>\n",
       "    </tr>\n",
       "    <tr>\n",
       "      <th>capital-gain</th>\n",
       "      <td>7797.393396</td>\n",
       "      <td>3.298775e+05</td>\n",
       "      <td>2349.738644</td>\n",
       "      <td>5.485397e+07</td>\n",
       "      <td>-96506.651513</td>\n",
       "      <td>7136.545913</td>\n",
       "      <td>708.375220</td>\n",
       "    </tr>\n",
       "    <tr>\n",
       "      <th>capital-loss</th>\n",
       "      <td>319.498166</td>\n",
       "      <td>-4.164542e+05</td>\n",
       "      <td>82.112167</td>\n",
       "      <td>-9.650665e+04</td>\n",
       "      <td>163457.172378</td>\n",
       "      <td>253.881355</td>\n",
       "      <td>26.231868</td>\n",
       "    </tr>\n",
       "    <tr>\n",
       "      <th>hours-per-week</th>\n",
       "      <td>15.986877</td>\n",
       "      <td>-2.896697e+04</td>\n",
       "      <td>4.659381</td>\n",
       "      <td>7.136546e+03</td>\n",
       "      <td>253.881355</td>\n",
       "      <td>143.520022</td>\n",
       "      <td>1.188729</td>\n",
       "    </tr>\n",
       "    <tr>\n",
       "      <th>&gt;50K</th>\n",
       "      <td>1.374398</td>\n",
       "      <td>-4.092102e+02</td>\n",
       "      <td>0.369689</td>\n",
       "      <td>7.083752e+02</td>\n",
       "      <td>26.231868</td>\n",
       "      <td>1.188729</td>\n",
       "      <td>0.186966</td>\n",
       "    </tr>\n",
       "  </tbody>\n",
       "</table>\n",
       "</div>"
      ],
      "text/plain": [
       "                          age        fnlwgt  education-num  capital-gain  \\\n",
       "age                172.519419 -1.061753e+05       1.457834  7.797393e+03   \n",
       "fnlwgt         -106175.339198  1.116255e+10  -12121.429540  3.298775e+05   \n",
       "education-num        1.457834 -1.212143e+04       6.502474  2.349739e+03   \n",
       "capital-gain      7797.393396  3.298775e+05    2349.738644  5.485397e+07   \n",
       "capital-loss       319.498166 -4.164542e+05      82.112167 -9.650665e+04   \n",
       "hours-per-week      15.986877 -2.896697e+04       4.659381  7.136546e+03   \n",
       ">50K                 1.374398 -4.092102e+02       0.369689  7.083752e+02   \n",
       "\n",
       "                 capital-loss  hours-per-week        >50K  \n",
       "age                319.498166       15.986877    1.374398  \n",
       "fnlwgt         -416454.241511   -28966.974882 -409.210210  \n",
       "education-num       82.112167        4.659381    0.369689  \n",
       "capital-gain    -96506.651513     7136.545913  708.375220  \n",
       "capital-loss    163457.172378      253.881355   26.231868  \n",
       "hours-per-week     253.881355      143.520022    1.188729  \n",
       ">50K                26.231868        1.188729    0.186966  "
      ]
     },
     "execution_count": 320,
     "metadata": {},
     "output_type": "execute_result"
    }
   ],
   "source": [
    "adult.cov()"
   ]
  },
  {
   "cell_type": "code",
   "execution_count": null,
   "metadata": {},
   "outputs": [],
   "source": []
  },
  {
   "cell_type": "markdown",
   "source": [
    "# Reference\n",
    "[1] Kaggle adult census income dataset. Last access: Sept. 2019. url: https://www.kaggle.com/uciml/adult-census-income\n",
    "[2] [2] Haojun Zhu, Predicting Earning Potential using the Adult Dataset. Dec. 2016. url: https://rstudio-pubs-static.s3.amazonaws.com/235617_51e06fa6c43b47d1b6daca2523b2f9e4.html"
   ],
   "metadata": {
    "collapsed": false,
    "pycharm": {
     "name": "#%% md\n"
    }
   }
  }
 ],
 "metadata": {
  "kernelspec": {
   "display_name": "Python 3",
   "language": "python",
   "name": "python3"
  },
  "language_info": {
   "codemirror_mode": {
    "name": "ipython",
    "version": 3
   },
   "file_extension": ".py",
   "mimetype": "text/x-python",
   "name": "python",
   "nbconvert_exporter": "python",
   "pygments_lexer": "ipython3",
   "version": "3.7.4"
  },
  "pycharm": {
   "stem_cell": {
    "cell_type": "raw",
    "source": [],
    "metadata": {
     "collapsed": false
    }
   }
  }
 },
 "nbformat": 4,
 "nbformat_minor": 2
}