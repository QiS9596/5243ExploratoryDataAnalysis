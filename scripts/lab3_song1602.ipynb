{
 "cells": [
  {
   "cell_type": "code",
   "execution_count": 24,
   "metadata": {
    "collapsed": true,
    "pycharm": {
     "is_executing": false
    }
   },
   "outputs": [],
   "source": [
    "import pandas as pd\n",
    "import matplotlib\n",
    "import matplotlib.pyplot as plt\n",
    "matplotlib.use('TkAgg')"
   ]
  },
  {
   "cell_type": "code",
   "execution_count": 25,
   "outputs": [
    {
     "data": {
      "text/plain": "     label  alcohol  malic_acid   ash  alcalinity  magnesium  phenol  \\\n98       2    12.37        1.07  2.10        18.5         88    3.52   \n103      2    11.82        1.72  1.88        19.5         86    2.50   \n136      3    12.25        4.72  2.54        21.0         89    1.38   \n110      2    11.46        3.74  1.82        19.5        107    3.18   \n37       1    13.05        1.65  2.55        18.0         98    2.45   \n\n     flavanoids  nonfla_penols  proath_c  color   hue  od280  proline  \n98         3.75           0.24      1.95   4.50  1.04   2.77      660  \n103        1.64           0.37      1.42   2.06  0.94   2.44      415  \n136        0.47           0.53      0.80   3.85  0.75   1.27      720  \n110        2.58           0.24      3.58   2.90  0.75   2.81      562  \n37         2.43           0.29      1.44   4.25  1.12   2.51     1105  ",
      "text/html": "<div>\n<style scoped>\n    .dataframe tbody tr th:only-of-type {\n        vertical-align: middle;\n    }\n\n    .dataframe tbody tr th {\n        vertical-align: top;\n    }\n\n    .dataframe thead th {\n        text-align: right;\n    }\n</style>\n<table border=\"1\" class=\"dataframe\">\n  <thead>\n    <tr style=\"text-align: right;\">\n      <th></th>\n      <th>label</th>\n      <th>alcohol</th>\n      <th>malic_acid</th>\n      <th>ash</th>\n      <th>alcalinity</th>\n      <th>magnesium</th>\n      <th>phenol</th>\n      <th>flavanoids</th>\n      <th>nonfla_penols</th>\n      <th>proath_c</th>\n      <th>color</th>\n      <th>hue</th>\n      <th>od280</th>\n      <th>proline</th>\n    </tr>\n  </thead>\n  <tbody>\n    <tr>\n      <th>98</th>\n      <td>2</td>\n      <td>12.37</td>\n      <td>1.07</td>\n      <td>2.10</td>\n      <td>18.5</td>\n      <td>88</td>\n      <td>3.52</td>\n      <td>3.75</td>\n      <td>0.24</td>\n      <td>1.95</td>\n      <td>4.50</td>\n      <td>1.04</td>\n      <td>2.77</td>\n      <td>660</td>\n    </tr>\n    <tr>\n      <th>103</th>\n      <td>2</td>\n      <td>11.82</td>\n      <td>1.72</td>\n      <td>1.88</td>\n      <td>19.5</td>\n      <td>86</td>\n      <td>2.50</td>\n      <td>1.64</td>\n      <td>0.37</td>\n      <td>1.42</td>\n      <td>2.06</td>\n      <td>0.94</td>\n      <td>2.44</td>\n      <td>415</td>\n    </tr>\n    <tr>\n      <th>136</th>\n      <td>3</td>\n      <td>12.25</td>\n      <td>4.72</td>\n      <td>2.54</td>\n      <td>21.0</td>\n      <td>89</td>\n      <td>1.38</td>\n      <td>0.47</td>\n      <td>0.53</td>\n      <td>0.80</td>\n      <td>3.85</td>\n      <td>0.75</td>\n      <td>1.27</td>\n      <td>720</td>\n    </tr>\n    <tr>\n      <th>110</th>\n      <td>2</td>\n      <td>11.46</td>\n      <td>3.74</td>\n      <td>1.82</td>\n      <td>19.5</td>\n      <td>107</td>\n      <td>3.18</td>\n      <td>2.58</td>\n      <td>0.24</td>\n      <td>3.58</td>\n      <td>2.90</td>\n      <td>0.75</td>\n      <td>2.81</td>\n      <td>562</td>\n    </tr>\n    <tr>\n      <th>37</th>\n      <td>1</td>\n      <td>13.05</td>\n      <td>1.65</td>\n      <td>2.55</td>\n      <td>18.0</td>\n      <td>98</td>\n      <td>2.45</td>\n      <td>2.43</td>\n      <td>0.29</td>\n      <td>1.44</td>\n      <td>4.25</td>\n      <td>1.12</td>\n      <td>2.51</td>\n      <td>1105</td>\n    </tr>\n  </tbody>\n</table>\n</div>"
     },
     "metadata": {},
     "output_type": "execute_result",
     "execution_count": 25
    }
   ],
   "source": [
    "#load dataset\n",
    "wine_columns=['label','alcohol', 'malic_acid','ash','alcalinity','magnesium','phenol','flavanoids','nonfla_penols',\n",
    "              'proath_c','color','hue','od280','proline']\n",
    "df = pd.read_csv('../data/wine.data', names=wine_columns)\n",
    "df.sample(5)"
   ],
   "metadata": {
    "collapsed": false,
    "pycharm": {
     "name": "#%%\n",
     "is_executing": false
    }
   }
  },
  {
   "cell_type": "markdown",
   "source": [
    "## 1 Explantory data analysis\n",
    "###1.1 basic description\n",
    "There are 178 data entries in the dataset, each data point has 13 attributes and one class label, the name and \n",
    "definition of the attributes are defined as following:\n",
    "\n",
    "1. Alcohol (alcohol): the amount of alcohol contains\n",
    "2. Malic acid (malic_acid): a organic acid the produce the flavor of sour taste of fruit\n",
    "3. Ash (ash): inorganic matter that remains after evaporation and incineration\n",
    "4. Alcalinity of ash (alcalinity): The alkalinity of the ash is defined as the sum of cations, other than the ammonium \n",
    "ion, combined with the organic acids in the wine. The alkalinity of ash will be expressed in milliequivalents per litre \n",
    "or in grams per litre of potassium carbonate.\n",
    "5. Magnesium (magnesium): is a metal element that might be good at health. Some material suggests that it's related to \n",
    "ash\n",
    "6. Total Phenols (phenols): responsible for most flavor and body of the wine, consists of following three parts: \n",
    "Benzaldehyde (vanillin) and Benzoic acid (Vanillic and Gallic acids); Catechins(largest quantity of phenols); Resveratrol \n",
    "7. Flavanoids (flavanoids):  antioxidants. Antioxidants help prevent certain molecules, known as free radicals, from \n",
    "damaging cells.\n",
    "8. Nonflavaniod phenols (nonfla_penols):phenols that are not flavanoid\n",
    "9. Proanthocyanins (proath_c) : Proanthocyanidins play an important role in wine; with the capability to bind salivary \n",
    "proteins, these condensed tannins strongly influence the perceived astringency of the wine. \n",
    "10. Color intensity (color) :  As a very general rule of thumb, the intensity of a wine's color is directly proportional\n",
    " to the intensity of the wine's flavor. Paler wines are generally milder while deep rich colors represent more robust \n",
    " flavors.\n",
    "11. Hue (hue): The hues of red wines range from pink to varying shades of purple. You'll find lighter shades in wines \n",
    "such as Beaujolais and Pinot Noir and deeper, darker colors in wines like Cabernet Sauvignon, Syrah, and Merlot.\n",
    "12. OD280/OD315 of diluted wine (od280): od280 is a measurement that can be used to measure concentrated protein. No \n",
    "explanation of od315 has been found, it should be another kind of measurement\n",
    "13. Proline (proline) : Proline is typically the most abundant amino acid present in grape juice and wine. The amount \n",
    "present is influenced by viticultural and winemaking factors and can be of diagnostic importance."
   ],
   "metadata": {
    "collapsed": false,
    "pycharm": {
     "name": "#%% md\n"
    }
   }
  },
  {
   "cell_type": "code",
   "execution_count": null,
   "outputs": [],
   "source": [
    "# check duplication\n",
    "check_duplication = df.duplicated()\n",
    "duplicated = df[check_duplication]\n",
    "print(duplicated)"
   ],
   "metadata": {
    "collapsed": false,
    "pycharm": {
     "name": "#%%\n"
    }
   }
  },
  {
   "cell_type": "code",
   "execution_count": 27,
   "outputs": [
    {
     "name": "stdout",
     "text": [
      "False\n"
     ],
     "output_type": "stream"
    }
   ],
   "source": [
    "# check missing value\n",
    "empty = pd.isnull(df)\n",
    "has_miss = df[empty]\n",
    "print(True in has_miss)"
   ],
   "metadata": {
    "collapsed": false,
    "pycharm": {
     "name": "#%%\n",
     "is_executing": false
    }
   }
  },
  {
   "cell_type": "code",
   "execution_count": 40,
   "outputs": [
    {
     "data": {
      "text/plain": "<matplotlib.axes._subplots.AxesSubplot at 0x1e337db4108>"
     },
     "metadata": {},
     "output_type": "execute_result",
     "execution_count": 40
    },
    {
     "data": {
      "text/plain": "<Figure size 432x288 with 1 Axes>",
      "image/png": "[encoded data removed]"
     },
     "metadata": {
      "needs_background": "light"
     },
     "output_type": "display_data"
    }
   ],
   "source": [
    "df.boxplot(rot=45)"
   ],
   "metadata": {
    "collapsed": false,
    "pycharm": {
     "name": "#%%\n",
     "is_executing": false
    }
   }
  },
  {
   "cell_type": "code",
   "execution_count": 28,
   "outputs": [
    {
     "data": {
      "text/plain": "<Figure size 432x288 with 1 Axes>",
      "image/png": "[encoded data removed]"
     },
     "metadata": {
      "needs_background": "light"
     },
     "output_type": "display_data"
    }
   ],
   "source": [
    "# check outliers\n",
    "df_ = df.drop(['label','proline'],axis=1)\n",
    "df_.boxplot(rot=45)\n",
    "plt.title('boxplot of attributes')\n",
    "# plt.set_xticklabels(aax.get_xticklabels(), rotation=40, ha=\"right\")\n",
    "plt.show()"
   ],
   "metadata": {
    "collapsed": false,
    "pycharm": {
     "name": "#%% \n",
     "is_executing": false
    }
   }
  },
  {
   "cell_type": "code",
   "execution_count": 29,
   "outputs": [
    {
     "data": {
      "text/plain": "<Figure size 432x288 with 1 Axes>",
      "image/png": "[encoded data removed]"
     },
     "metadata": {
      "needs_background": "light"
     },
     "output_type": "display_data"
    }
   ],
   "source": [
    "df_ = df['proline'].to_frame()\n",
    "df_.boxplot()\n",
    "plt.title('boxplot of attribute: proline')\n",
    "plt.show()"
   ],
   "metadata": {
    "collapsed": false,
    "pycharm": {
     "name": "#%%\n",
     "is_executing": false
    }
   }
  },
  {
   "cell_type": "markdown",
   "source": [
    "As we can see from the plots, outliers exits in the following attributes: Malic acid (malic_acid), ash, (Alcalinity of ash) alcalinity, \n",
    "Proanthocyanins(proath_c), color intensity (color), hue.\n",
    "The following section select the outliers based on these attributes with interquantile range"
   ],
   "metadata": {
    "collapsed": false,
    "pycharm": {
     "name": "#%% md\n"
    }
   }
  },
  {
   "cell_type": "code",
   "execution_count": 38,
   "outputs": [
    {
     "name": "stdout",
     "text": [
      "     malic_acid   ash  alcalinity  proath_c  color   hue\n25         2.05  3.22        25.0      1.92   3.58  1.13\n59         0.94  1.36        10.6      0.42   1.95  1.05\n73         1.67  2.60        30.0      1.96   3.35  1.31\n95         1.52  2.20        19.0      3.28   2.60  1.16\n110        3.74  1.82        19.5      3.58   2.90  0.75\n115        1.51  2.20        21.5      2.01   1.90  1.71\n121        2.05  3.23        28.5      1.87   6.00  0.93\n123        5.80  2.13        21.5      2.01   2.60  0.73\n127        2.13  2.78        28.5      1.76   3.00  0.97\n137        5.51  2.64        25.0      1.10   5.00  0.82\n151        2.67  2.48        22.0      1.26  10.80  0.48\n158        1.68  2.70        25.0      2.70  13.00  0.57\n159        1.67  2.64        22.5      2.29  11.75  0.57\n166        3.70  2.60        23.0      1.46  10.68  0.85\n173        5.65  2.45        20.5      1.06   7.70  0.64\n163\n"
     ],
     "output_type": "stream"
    }
   ],
   "source": [
    "# select the suspicious columns\n",
    "suspicious_attributes = df[['malic_acid', 'ash','alcalinity', 'proath_c','color','hue']]\n",
    "Q1 = suspicious_attributes.quantile(0.25)\n",
    "Q3 = suspicious_attributes.quantile(0.75)\n",
    "iqr = Q3 - Q1\n",
    "lower_bound = Q1-1.5*iqr\n",
    "upper_bound = Q3+1.5*iqr\n",
    "#outliers = adult_numrics[((adult_numrics<lower_bound) | (adult_numrics>upper_bound)).any(axis=1)]\n",
    "outliers = suspicious_attributes[((suspicious_attributes<lower_bound)|(suspicious_attributes>upper_bound)).any(axis=1)]\n",
    "print(outliers)\n",
    "inliner_df = df.drop(outliers.index)\n",
    "print(len(inliner_df.index))\n",
    "# we will simply keep the outliers"
   ],
   "metadata": {
    "collapsed": false,
    "pycharm": {
     "name": "#%%\n",
     "is_executing": false
    }
   }
  },
  {
   "cell_type": "code",
   "execution_count": null,
   "outputs": [],
   "source": [
    "#find attribute dependency\n",
    "#TODO"
   ],
   "metadata": {
    "collapsed": false,
    "pycharm": {
     "name": "#%%\n"
    }
   }
  },
  {
   "cell_type": "markdown",
   "source": [
    "# 2. Data Preprocessing"
   ],
   "metadata": {
    "collapsed": false,
    "pycharm": {
     "name": "#%% md\n"
    }
   }
  },
  {
   "cell_type": "markdown",
   "source": [
    "# Reference\n",
    "[1] http://www.wineeducation.com/wineismadeof.html\n",
    "[2] https://www.institut-heidger.de/en/asche-summe-aller-mineralstoffe/\n",
    "[3] https://www.verywellhealth.com/red-wine-and-longevity-2224017\n",
    "[4] https://www.chron.com/news/health/article/The-skinny-on-red-wine-and-magnesium-1806764.php"
   ],
   "metadata": {
    "collapsed": false,
    "pycharm": {
     "name": "#%% md\n"
    }
   }
  }
 ],
 "metadata": {
  "language_info": {
   "codemirror_mode": {
    "name": "ipython",
    "version": 2
   },
   "file_extension": ".py",
   "mimetype": "text/x-python",
   "name": "python",
   "nbconvert_exporter": "python",
   "pygments_lexer": "ipython2",
   "version": "2.7.6"
  },
  "kernelspec": {
   "name": "python3",
   "language": "python",
   "display_name": "Python 3"
  },
  "pycharm": {
   "stem_cell": {
    "cell_type": "raw",
    "source": [],
    "metadata": {
     "collapsed": false
    }
   }
  }
 },
 "nbformat": 4,
 "nbformat_minor": 0
}