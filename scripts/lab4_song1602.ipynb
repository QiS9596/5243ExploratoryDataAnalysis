{
 "cells": [
  {
   "cell_type": "code",
   "execution_count": 1,
   "metadata": {
    "collapsed": true,
    "pycharm": {
     "is_executing": false
    }
   },
   "outputs": [],
   "source": [
    "import pandas as pd\n",
    "from sklearn import cluster\n",
    "import matplotlib\n",
    "\n",
    "import matplotlib.pyplot as plt"
   ]
  },
  {
   "cell_type": "code",
   "execution_count": 2,
   "outputs": [],
   "source": [
    "# load the data\n",
    "df_3 = pd.read_csv('../Data/cluster_ds3.csv')\n",
    "df_4 = pd.read_csv('../Data/cluster_ds4.csv')\n",
    "df_5 = pd.read_csv('../Data/cluster_ds5.csv')"
   ],
   "metadata": {
    "collapsed": false,
    "pycharm": {
     "name": "#%%\n",
     "is_executing": false
    }
   }
  },
  {
   "cell_type": "markdown",
   "source": [
    "# 1. Exploratory data analysis\n",
    "\n",
    "### 1.1 Duplicates\n"
   ],
   "metadata": {
    "collapsed": false,
    "pycharm": {
     "name": "#%% md\n"
    }
   }
  },
  {
   "cell_type": "code",
   "execution_count": 3,
   "outputs": [
    {
     "name": "stdout",
     "text": [
      "Empty DataFrame\nColumns: [x, y, class]\nIndex: []\n"
     ],
     "output_type": "stream"
    }
   ],
   "source": [
    "# check duplication for ds3 \n",
    "check_duplication_3 = df_3.duplicated()\n",
    "duplicated_3 = df_3[check_duplication_3]\n",
    "print(duplicated_3)"
   ],
   "metadata": {
    "collapsed": false,
    "pycharm": {
     "name": "#%%\n",
     "is_executing": false
    }
   }
  },
  {
   "cell_type": "code",
   "execution_count": 4,
   "outputs": [
    {
     "name": "stdout",
     "text": [
      "Empty DataFrame\nColumns: [x, y, class]\nIndex: []\n"
     ],
     "output_type": "stream"
    }
   ],
   "source": [
    "# check duplication for ds4\n",
    "check_duplication_4 = df_4.duplicated()\n",
    "duplicated_4 = df_4[check_duplication_4]\n",
    "print(duplicated_4)"
   ],
   "metadata": {
    "collapsed": false,
    "pycharm": {
     "name": "#%%\n",
     "is_executing": false
    }
   }
  },
  {
   "cell_type": "code",
   "execution_count": 5,
   "outputs": [
    {
     "name": "stdout",
     "text": [
      "Empty DataFrame\nColumns: [x, y, class]\nIndex: []\n"
     ],
     "output_type": "stream"
    }
   ],
   "source": [
    "# check duplication for ds5\n",
    "check_duplication_5 = df_5.duplicated()\n",
    "duplicated_5 = df_5[check_duplication_5]\n",
    "print(duplicated_5)"
   ],
   "metadata": {
    "collapsed": false,
    "pycharm": {
     "name": "#%%\n",
     "is_executing": false
    }
   }
  },
  {
   "cell_type": "markdown",
   "source": [
    "### 1.2 Outliers detection"
   ],
   "metadata": {
    "collapsed": false,
    "pycharm": {
     "name": "#%% md\n"
    }
   }
  },
  {
   "cell_type": "code",
   "execution_count": 9,
   "outputs": [
    {
     "data": {
      "text/plain": "<matplotlib.axes._subplots.AxesSubplot at 0x1cb9cd6ed68>"
     },
     "metadata": {},
     "output_type": "execute_result",
     "execution_count": 9
    },
    {
     "data": {
      "text/plain": "<Figure size 432x288 with 1 Axes>",
      "image/png": "[encoded data removed]"
     },
     "metadata": {
      "needs_background": "light"
     },
     "output_type": "display_data"
    }
   ],
   "source": [
    "# check outliers for ds3\n",
    "df_3.drop(['class'],axis=1).boxplot()"
   ],
   "metadata": {
    "collapsed": false,
    "pycharm": {
     "name": "#%%\n",
     "is_executing": false
    }
   }
  },
  {
   "cell_type": "code",
   "execution_count": 10,
   "outputs": [
    {
     "data": {
      "text/plain": "<matplotlib.axes._subplots.AxesSubplot at 0x1cb9ce778d0>"
     },
     "metadata": {},
     "output_type": "execute_result",
     "execution_count": 10
    },
    {
     "data": {
      "text/plain": "<Figure size 432x288 with 1 Axes>",
      "image/png": "[encoded data removed]"
     },
     "metadata": {
      "needs_background": "light"
     },
     "output_type": "display_data"
    }
   ],
   "source": [
    "df_4.drop(['class'],axis=1).boxplot()"
   ],
   "metadata": {
    "collapsed": false,
    "pycharm": {
     "name": "#%%\n",
     "is_executing": false
    }
   }
  },
  {
   "cell_type": "code",
   "execution_count": 11,
   "outputs": [
    {
     "data": {
      "text/plain": "<matplotlib.axes._subplots.AxesSubplot at 0x1cb9cef8710>"
     },
     "metadata": {},
     "output_type": "execute_result",
     "execution_count": 11
    },
    {
     "data": {
      "text/plain": "<Figure size 432x288 with 1 Axes>",
      "image/png": "[encoded data removed]"
     },
     "metadata": {
      "needs_background": "light"
     },
     "output_type": "display_data"
    }
   ],
   "source": [
    "df_5.drop(['class'],axis=1).boxplot()"
   ],
   "metadata": {
    "collapsed": false,
    "pycharm": {
     "name": "#%%\n",
     "is_executing": false
    }
   }
  },
  {
   "cell_type": "markdown",
   "source": [
    "for outliers we will just keep them\n",
    "\n",
    "### 1.3 miss values\n",
    "\n",
    "result: no missing values"
   ],
   "metadata": {
    "collapsed": false,
    "pycharm": {
     "name": "#%% md\n"
    }
   }
  },
  {
   "cell_type": "code",
   "execution_count": 14,
   "outputs": [
    {
     "name": "stdout",
     "text": [
      "False\n"
     ],
     "output_type": "stream"
    }
   ],
   "source": [
    "# check miss values for df3\n",
    "empty_3 = pd.isnull(df_3)\n",
    "has_miss_3 = df_3[empty_3]\n",
    "print(True in has_miss_3)"
   ],
   "metadata": {
    "collapsed": false,
    "pycharm": {
     "name": "#%%\n",
     "is_executing": false
    }
   }
  },
  {
   "cell_type": "code",
   "execution_count": 15,
   "outputs": [
    {
     "name": "stdout",
     "text": [
      "False\n"
     ],
     "output_type": "stream"
    }
   ],
   "source": [
    "# check miss values for df4\n",
    "empty_4 = pd.isnull(df_4)\n",
    "has_miss_4 = df_4[empty_4]\n",
    "print(True in has_miss_4)"
   ],
   "metadata": {
    "collapsed": false,
    "pycharm": {
     "name": "#%%\n",
     "is_executing": false
    }
   }
  },
  {
   "cell_type": "code",
   "execution_count": 16,
   "outputs": [
    {
     "name": "stdout",
     "text": [
      "False\n"
     ],
     "output_type": "stream"
    }
   ],
   "source": [
    "# check miss values for df5\n",
    "empty_5 = pd.isnull(df_5)\n",
    "has_miss_5 = df_3[empty_5]\n",
    "print(True in has_miss_5)"
   ],
   "metadata": {
    "collapsed": false,
    "pycharm": {
     "name": "#%%\n",
     "is_executing": false
    }
   }
  }
 ],
 "metadata": {
  "language_info": {
   "codemirror_mode": {
    "name": "ipython",
    "version": 2
   },
   "file_extension": ".py",
   "mimetype": "text/x-python",
   "name": "python",
   "nbconvert_exporter": "python",
   "pygments_lexer": "ipython2",
   "version": "2.7.6"
  },
  "kernelspec": {
   "name": "pycharm-ceb34f1",
   "language": "python",
   "display_name": "PyCharm (5243ExploratoryDataAnalysis)"
  },
  "pycharm": {
   "stem_cell": {
    "cell_type": "raw",
    "source": [],
    "metadata": {
     "collapsed": false
    }
   }
  }
 },
 "nbformat": 4,
 "nbformat_minor": 0
}